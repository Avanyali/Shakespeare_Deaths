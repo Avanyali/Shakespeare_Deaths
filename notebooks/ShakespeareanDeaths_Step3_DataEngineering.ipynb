{
 "cells": [
  {
   "cell_type": "code",
   "execution_count": 1,
   "id": "85d17a99-e896-45ce-a745-aae372c4b97d",
   "metadata": {},
   "outputs": [],
   "source": [
    "import pandas as pd\n",
    "import numpy as np\n",
    "import matplotlib.pyplot as plt\n",
    "import seaborn as sns\n",
    "import shakespeare_functions as sf\n",
    "\n",
    "import re\n",
    "from nltk import word_tokenize\n",
    "from nltk.corpus import wordnet as wn\n",
    "from nltk.stem import WordNetLemmatizer\n",
    "from nltk import RegexpTokenizer\n",
    "\n",
    "from contractions import contractions_dict\n",
    "from autocorrect import spell\n",
    "\n",
    "#Middle English Imports\n",
    "from cltk.tokenizers.enm import MiddleEnglishWordTokenizer\n",
    "from cltk.stem.enm import stem\n",
    "from cltk.tokenizers.enm import MiddleEnglishWordTokenizer"
   ]
  },
  {
   "cell_type": "code",
   "execution_count": 2,
   "id": "885564f4-bf12-449f-8ffd-86bf65e7fbe6",
   "metadata": {},
   "outputs": [],
   "source": [
    "line_df = pd.read_csv('../data/csv/ShakespeareCharacterLines_cleaned.csv', index_col = ['play', 'name', 'line_number'])"
   ]
  },
  {
   "cell_type": "code",
   "execution_count": 3,
   "id": "adef1ea5-2a6e-4f31-99f1-00c0f8b8804b",
   "metadata": {},
   "outputs": [],
   "source": [
    "colon = slice(None)"
   ]
  },
  {
   "cell_type": "markdown",
   "id": "b37ca79d-1570-4703-a900-8c4c39322bb7",
   "metadata": {},
   "source": [
    "- Coriolanus is called Martius for part of the play. Make them the same character."
   ]
  },
  {
   "cell_type": "code",
   "execution_count": 4,
   "id": "fcfe8c9c-c39b-4c6e-be27-2d708476b043",
   "metadata": {},
   "outputs": [],
   "source": [
    "coriolanus = line_df.loc[('coriolanus', ['MARTIUS', 'CORIOLANUS'], colon), :].copy()"
   ]
  },
  {
   "cell_type": "code",
   "execution_count": 5,
   "id": "50ffcf66-7ac9-4278-b6d6-c87884fee1e9",
   "metadata": {},
   "outputs": [],
   "source": [
    "martius_line_max = coriolanus.loc[(colon, 'MARTIUS', colon), :].index.get_level_values(2).max()\n",
    "coriolanus_line_max = coriolanus.loc[(colon, 'CORIOLANUS', colon), :].index.get_level_values(2).max()"
   ]
  },
  {
   "cell_type": "code",
   "execution_count": 6,
   "id": "d19caf8a-8b6b-4393-9417-90e7b03a3889",
   "metadata": {},
   "outputs": [],
   "source": [
    "added_index = [('coriolanus', 'CORIOLANUS', x) for x in range(coriolanus_line_max, coriolanus_line_max + martius_line_max + 1)]\n",
    "coriolanus = pd.concat([coriolanus, pd.DataFrame(columns = coriolanus.columns, index = added_index)])"
   ]
  },
  {
   "cell_type": "code",
   "execution_count": 7,
   "id": "2c5bdc63-149d-46bc-8ad4-436c8a68d33e",
   "metadata": {},
   "outputs": [],
   "source": [
    "coriolanus_new_lines = coriolanus.loc[(colon, 'CORIOLANUS', colon), :].shift(martius_line_max)\n",
    "coriolanus_new_lines.dropna(inplace = True)"
   ]
  },
  {
   "cell_type": "code",
   "execution_count": 8,
   "id": "e4a567ef-5add-4acc-a024-84cd8e1a3a68",
   "metadata": {},
   "outputs": [],
   "source": [
    "martius_lines = coriolanus.loc[(colon, 'MARTIUS', colon), :].copy()\n",
    "coriolanus = pd.concat([martius_lines, coriolanus_new_lines])"
   ]
  },
  {
   "cell_type": "code",
   "execution_count": 9,
   "id": "d15642ad-ff78-49af-948e-d3b1d514d09b",
   "metadata": {},
   "outputs": [],
   "source": [
    "coriolanus.index = coriolanus.index.map(lambda i: (i[0], 'CORIOLANUS', i[2]))"
   ]
  },
  {
   "cell_type": "code",
   "execution_count": 10,
   "id": "ab3a83e0-9b64-40bf-a396-521ec07a45b4",
   "metadata": {},
   "outputs": [
    {
     "data": {
      "text/html": [
       "<div>\n",
       "<style scoped>\n",
       "    .dataframe tbody tr th:only-of-type {\n",
       "        vertical-align: middle;\n",
       "    }\n",
       "\n",
       "    .dataframe tbody tr th {\n",
       "        vertical-align: top;\n",
       "    }\n",
       "\n",
       "    .dataframe thead th {\n",
       "        text-align: right;\n",
       "    }\n",
       "</style>\n",
       "<table border=\"1\" class=\"dataframe\">\n",
       "  <thead>\n",
       "    <tr style=\"text-align: right;\">\n",
       "      <th></th>\n",
       "      <th></th>\n",
       "      <th></th>\n",
       "      <th>line</th>\n",
       "      <th>play_line_number</th>\n",
       "      <th>line_length</th>\n",
       "    </tr>\n",
       "    <tr>\n",
       "      <th>play</th>\n",
       "      <th>name</th>\n",
       "      <th>line_number</th>\n",
       "      <th></th>\n",
       "      <th></th>\n",
       "      <th></th>\n",
       "    </tr>\n",
       "  </thead>\n",
       "  <tbody>\n",
       "    <tr>\n",
       "      <th rowspan=\"11\" valign=\"top\">coriolanus</th>\n",
       "      <th rowspan=\"11\" valign=\"top\">CORIOLANUS</th>\n",
       "      <th>1</th>\n",
       "      <td>Thanks.--What's the matter, you dissentious ro...</td>\n",
       "      <td>48</td>\n",
       "      <td>119</td>\n",
       "    </tr>\n",
       "    <tr>\n",
       "      <th>2</th>\n",
       "      <td>He that will give good words to thee will flat...</td>\n",
       "      <td>50</td>\n",
       "      <td>1008</td>\n",
       "    </tr>\n",
       "    <tr>\n",
       "      <th>3</th>\n",
       "      <td>Hang 'em! They say? They'll sit by th' fire an...</td>\n",
       "      <td>52</td>\n",
       "      <td>477</td>\n",
       "    </tr>\n",
       "    <tr>\n",
       "      <th>4</th>\n",
       "      <td>They are dissolved. Hang 'em! They said they w...</td>\n",
       "      <td>54</td>\n",
       "      <td>492</td>\n",
       "    </tr>\n",
       "    <tr>\n",
       "      <th>5</th>\n",
       "      <td>Five tribunes to defend their vulgar wisdoms, ...</td>\n",
       "      <td>56</td>\n",
       "      <td>293</td>\n",
       "    </tr>\n",
       "    <tr>\n",
       "      <th>...</th>\n",
       "      <td>...</td>\n",
       "      <td>...</td>\n",
       "      <td>...</td>\n",
       "    </tr>\n",
       "    <tr>\n",
       "      <th>183</th>\n",
       "      <td>Hear'st thou, Mars?</td>\n",
       "      <td>1086</td>\n",
       "      <td>19</td>\n",
       "    </tr>\n",
       "    <tr>\n",
       "      <th>184</th>\n",
       "      <td>Ha?</td>\n",
       "      <td>1088</td>\n",
       "      <td>3</td>\n",
       "    </tr>\n",
       "    <tr>\n",
       "      <th>185</th>\n",
       "      <td>Measureless liar, thou hast made my heart Too ...</td>\n",
       "      <td>1090</td>\n",
       "      <td>363</td>\n",
       "    </tr>\n",
       "    <tr>\n",
       "      <th>186</th>\n",
       "      <td>Cut me to pieces, Volsces. Men and lads, Stain...</td>\n",
       "      <td>1092</td>\n",
       "      <td>231</td>\n",
       "    </tr>\n",
       "    <tr>\n",
       "      <th>187</th>\n",
       "      <td>O, that I had him, With six Aufidiuses, or mo...</td>\n",
       "      <td>1097</td>\n",
       "      <td>84</td>\n",
       "    </tr>\n",
       "  </tbody>\n",
       "</table>\n",
       "<p>188 rows × 3 columns</p>\n",
       "</div>"
      ],
      "text/plain": [
       "                                                                                line  \\\n",
       "play       name       line_number                                                      \n",
       "coriolanus CORIOLANUS 1            Thanks.--What's the matter, you dissentious ro...   \n",
       "                      2            He that will give good words to thee will flat...   \n",
       "                      3            Hang 'em! They say? They'll sit by th' fire an...   \n",
       "                      4            They are dissolved. Hang 'em! They said they w...   \n",
       "                      5            Five tribunes to defend their vulgar wisdoms, ...   \n",
       "...                                                                              ...   \n",
       "                      183                                        Hear'st thou, Mars?   \n",
       "                      184                                                        Ha?   \n",
       "                      185          Measureless liar, thou hast made my heart Too ...   \n",
       "                      186          Cut me to pieces, Volsces. Men and lads, Stain...   \n",
       "                      187           O, that I had him, With six Aufidiuses, or mo...   \n",
       "\n",
       "                                  play_line_number line_length  \n",
       "play       name       line_number                               \n",
       "coriolanus CORIOLANUS 1                         48         119  \n",
       "                      2                         50        1008  \n",
       "                      3                         52         477  \n",
       "                      4                         54         492  \n",
       "                      5                         56         293  \n",
       "...                                            ...         ...  \n",
       "                      183                     1086          19  \n",
       "                      184                     1088           3  \n",
       "                      185                     1090         363  \n",
       "                      186                     1092         231  \n",
       "                      187                     1097          84  \n",
       "\n",
       "[188 rows x 3 columns]"
      ]
     },
     "execution_count": 10,
     "metadata": {},
     "output_type": "execute_result"
    }
   ],
   "source": [
    "coriolanus"
   ]
  },
  {
   "cell_type": "code",
   "execution_count": 11,
   "id": "1ffd2d47-725d-4bd2-af9b-c6430d27b679",
   "metadata": {},
   "outputs": [],
   "source": [
    "line_df.drop(line_df.loc[('coriolanus', ['MARTIUS', 'CORIOLANUS'], colon), :].index, inplace = True)"
   ]
  },
  {
   "cell_type": "code",
   "execution_count": 12,
   "id": "efad8d5c-764a-46dd-978f-a703fd9b63ab",
   "metadata": {},
   "outputs": [],
   "source": [
    "line_df = pd.concat([line_df, coriolanus])"
   ]
  },
  {
   "cell_type": "code",
   "execution_count": 13,
   "id": "3f338da2-9102-4534-8301-fd7e3111b3b5",
   "metadata": {},
   "outputs": [],
   "source": [
    "line_df.sort_index(inplace = True)"
   ]
  },
  {
   "cell_type": "markdown",
   "id": "8631b42c-8593-49b7-890a-30978a50129d",
   "metadata": {},
   "source": [
    "- Identify all characters that died by consulting the main texts and outside summaries for verification."
   ]
  },
  {
   "cell_type": "code",
   "execution_count": 14,
   "id": "382b3ca1-785f-41d3-abb1-3cef969099b5",
   "metadata": {
    "tags": []
   },
   "outputs": [],
   "source": [
    "deaths = {'antony-and-cleopatra': ['ENOBARBUS', 'EROS', 'ANTONY', 'IRAS', 'CHARMIAN', 'CLEOPATRA'],\n",
    "          'coriolanus': ['CORIOLANUS'],\n",
    "          'cymbeline': ['QUEEN', 'CLOTEN'],\n",
    "          'hamlet': ['POLONIUS', 'ROSENCRANTZ', 'GUILDENSTERN', 'KING', 'QUEEN', 'LAERTES', 'OPHELIA', 'HAMLET', 'OSRIC'],\n",
    "          'henry-iv-part-1': ['HOTSPUR', 'VERNON', 'WORCESTER', 'BLUNT'],\n",
    "          'henry-iv-part-2': ['KING'],\n",
    "          'henry-v': ['HOSTESS'],\n",
    "          'henry-vi-part-1': ['MORTIMER', 'BEDFORD', 'TALBOT', 'JOHN TALBOT', 'GARGRAVE', 'SALISBURY'],\n",
    "          'henry-vi-part-2': ['CARDINAL', 'GLOUCESTER', 'SUFFOLK', 'CADE', 'SOMERSET', 'CLIFFORD', 'STAFFORD', 'BROTHER', 'SAYE', 'CLERK', 'HORNER', 'SOLDIER'],\n",
    "          'henry-vi-part-3': ['CLIFFORD', 'FATHER', 'SON', 'WARWICK', 'MONTAGUE', 'KING HENRY', 'RUTLAND', 'YORK', 'PRINCE EDWARD'],\n",
    "          'henry-viii': ['WOLSEY', 'BUCKINGHAM'],\n",
    "          'julius-caesar': ['TITINIUS', 'CASSIUS', 'CAESAR', 'CINNA', 'BRUTUS', 'CATO'],\n",
    "          'king-john': ['AUSTRIA', 'ARTHUR', 'KING JOHN', 'CONSTANCE', 'QUEEN ELEANOR'],\n",
    "          'king-lear': ['FIRST SERVANT', 'OSWALD', 'CORDELIA', 'REGAN', 'EDMUND', 'GLOUCESTER', 'LEAR', 'CORNWALL', 'GONERIL'],\n",
    "          'loves-labors-lost': ['KING'],\n",
    "          'macbeth': ['DUNCAN', 'BANQUO', 'LADY MACBETH', 'YOUNG SIWARD', 'MACBETH', 'LADY MACDUFF', 'SON'],\n",
    "          'othello': ['RODERIGO', 'EMILIA', 'OTHELLO', 'DESDEMONA'], \n",
    "          'pericles': ['CLEON', 'DIONYZA', 'ANTIOCHUS', 'DAUGHTER'],\n",
    "          'richard-ii': ['GAUNT', 'BUSHY', 'GREEN', 'RICHARD', 'GLOUCESTER'],\n",
    "          'richard-iii': ['CLARENCE', 'RICHARD', 'KING EDWARD', 'PRINCE', 'YORK', 'RIVERS', 'GREY', 'VAUGHAN', 'BRAKENBURY', 'BUCKINGHAM', 'ANNE', 'HASTINGS'],\n",
    "          'romeo-and-juliet': ['ROMEO', 'JULIET', 'MERCUTIO', 'TYBALT', 'PARIS', 'LADY MONTAGUE'],\n",
    "          'the-two-noble-kinsmen': ['ARCITE'],\n",
    "          'the-winters-tale': ['MAMILLIUS', 'HERMIONE', 'ANTIGONUS'], \n",
    "          'timon-of-athens': ['TIMON'], \n",
    "          'titus-andronicus': ['TITUS', 'MARTIUS', 'QUINTUS', 'MUTIUS', 'TAMORA', 'SATURNINUS', 'AARON', 'BASSIANUS', 'NURSE', 'LAVINIA', 'CHIRON', 'DEMETRIUS'],\n",
    "          'troilus-and-cressida': ['HECTOR', 'PATROCLUS']}"
   ]
  },
  {
   "cell_type": "markdown",
   "id": "fffc1195-c205-49cb-ab97-ba5494ebb9e3",
   "metadata": {},
   "source": [
    "- GLOUCESTER was originally DUCHESS in richard-ii, where there are two characters with line name DUCHESS: the duchess of York and the duchess of Gloucester. She has been renamed in the text itself."
   ]
  },
  {
   "cell_type": "code",
   "execution_count": 15,
   "id": "50a5d037-73d2-4199-9f75-370ec6de3022",
   "metadata": {},
   "outputs": [],
   "source": [
    "line_df['character_dies'] = 0\n",
    "\n",
    "for play, name_arr in deaths.items():\n",
    "    for name in name_arr:\n",
    "        line_df.loc[(play, name, colon), 'character_dies'] = 1"
   ]
  },
  {
   "cell_type": "markdown",
   "id": "85686172-07f8-4df5-992d-4264102ceb7d",
   "metadata": {},
   "source": [
    "- Get number of words per line."
   ]
  },
  {
   "cell_type": "code",
   "execution_count": 16,
   "id": "73d1b9fa-b5aa-49c4-ae23-4596224f0208",
   "metadata": {},
   "outputs": [],
   "source": [
    "line_df['word_count'] = line_df['line']"
   ]
  },
  {
   "cell_type": "code",
   "execution_count": 17,
   "id": "7300206c-272c-4381-aa0a-e36ae610e4f6",
   "metadata": {},
   "outputs": [],
   "source": [
    "line_df['word_count'] = line_df['word_count'].map(lambda line: len(re.findall(r'(\\S+)(?=(\\s*|\\s*\\Z))', line)))"
   ]
  },
  {
   "cell_type": "markdown",
   "id": "4476e8e3-f7f8-4488-b96e-007b3daa6f1b",
   "metadata": {},
   "source": [
    "- Add new features based on total character, word, and line count."
   ]
  },
  {
   "cell_type": "code",
   "execution_count": 18,
   "id": "be83acf3-8b89-49b4-85f4-c6992387267c",
   "metadata": {},
   "outputs": [],
   "source": [
    "line_df['total_character_count'] = 0\n",
    "line_df['max_word_count'] = 0\n",
    "line_df['max_line_count'] = 0"
   ]
  },
  {
   "cell_type": "code",
   "execution_count": 19,
   "id": "72785a75-e0d3-4dde-89bf-2f5a0aa525ec",
   "metadata": {},
   "outputs": [],
   "source": [
    "for index in line_df.index:\n",
    "    play  = index[0]\n",
    "    name = index[1]\n",
    "    \n",
    "    character_slice = line_df.loc[(play, name, colon)]\n",
    "    \n",
    "    line_df.loc[(play, name, colon), 'max_line_count'] = max(list(character_slice.index.get_level_values(2)))\n",
    "    line_df.loc[(play, name, colon), 'max_word_count'] = max(list(character_slice['word_count']))\n",
    "    line_df.loc[(play, name, colon), 'total_character_count'] = sum(list(character_slice['line_length']))"
   ]
  },
  {
   "cell_type": "markdown",
   "id": "08678534-8fac-4b67-973f-61b33fb5c2c9",
   "metadata": {},
   "source": [
    "- Add percent total character, word, and line count features."
   ]
  },
  {
   "cell_type": "code",
   "execution_count": 20,
   "id": "f1d5a48f-dfff-482f-8c07-2e2f2a17844f",
   "metadata": {},
   "outputs": [],
   "source": [
    "for index in line_df.index:\n",
    "    play  = index[0]\n",
    "    name = index[1]\n",
    "    \n",
    "    character_slice = line_df.loc[(play, name, colon)]\n",
    "    play_slice = line_df.loc[(play, colon, colon)]\n",
    "    \n",
    "    line_df.loc[(play, name, colon), 'percent_line_count'] = sum(list(character_slice.index.get_level_values(2))) / sum(list(play_slice['word_count']))\n",
    "    line_df.loc[(play, name, colon), 'percent_word_count'] = sum(list(character_slice['word_count'])) / sum(list(play_slice['word_count']))"
   ]
  },
  {
   "cell_type": "markdown",
   "id": "060365e8-0e51-441e-afcd-4e47e961fed9",
   "metadata": {},
   "source": [
    "- Separate all contractions, replace all poetic apostrophes with correct lettering."
   ]
  },
  {
   "cell_type": "code",
   "execution_count": 21,
   "id": "7d0e0096-0570-4329-89b7-564bdf29ec56",
   "metadata": {},
   "outputs": [],
   "source": [
    "contractions = contractions_dict.copy()\n",
    "contractions = {re.sub(r'’', \"'\", key): re.sub(r'’', \"'\", value) for key, value in contractions.items() if '.' not in key}\n",
    "contractions = {key:value for key, value in contractions.items() if \"'\" in key}"
   ]
  },
  {
   "cell_type": "code",
   "execution_count": 22,
   "id": "64a2c544-7f73-4a1d-8512-cf90109cc33f",
   "metadata": {},
   "outputs": [],
   "source": [
    "shakespeare_contractions_dict = sf.shakespeare_contractions_dict()"
   ]
  },
  {
   "cell_type": "code",
   "execution_count": 23,
   "id": "41262bc9-3279-4d74-ac5a-bea88e948307",
   "metadata": {},
   "outputs": [],
   "source": [
    "for key, value in shakespeare_contractions_dict.items():\n",
    "        contractions[key] = value"
   ]
  },
  {
   "cell_type": "code",
   "execution_count": 24,
   "id": "6deae885-0dda-4ced-8701-6f101ec1bfef",
   "metadata": {},
   "outputs": [],
   "source": [
    "def clean_contractions(sentence):\n",
    "    sentence = sf.clean_punctuation(sentence)\n",
    "    for contraction, conversion in contractions.items():\n",
    "        sentence = re.sub(contraction, conversion, sentence)\n",
    "        sentence = re.sub(contraction.capitalize(), conversion, sentence)\n",
    "        sentence = re.sub(contraction.lower(), conversion, sentence)\n",
    "        \n",
    "    return sentence"
   ]
  },
  {
   "cell_type": "code",
   "execution_count": 25,
   "id": "e32a2aaa-1eb2-43d4-9379-4e0741513ea6",
   "metadata": {},
   "outputs": [],
   "source": [
    "line_df['line'] = line_df['line'].map(clean_contractions)"
   ]
  },
  {
   "cell_type": "code",
   "execution_count": 35,
   "id": "34ba952b-7bc4-449b-ba24-107d31cb34f3",
   "metadata": {},
   "outputs": [],
   "source": [
    "line_df['line'] = line_df['line'].map(lambda x: re.sub(\"\\'s\", '', x))"
   ]
  },
  {
   "cell_type": "code",
   "execution_count": 36,
   "id": "cafe03d2-4850-4f68-bbb2-8fbfb5d32f0a",
   "metadata": {},
   "outputs": [],
   "source": [
    "corpus = sf.corpusize(line_df, 'line')"
   ]
  },
  {
   "cell_type": "code",
   "execution_count": 37,
   "id": "6e482814-aaad-41a8-a476-93715707696d",
   "metadata": {
    "tags": []
   },
   "outputs": [],
   "source": [
    "failures = [key for key, value in corpus.items() if '\\'' in key]"
   ]
  },
  {
   "cell_type": "code",
   "execution_count": 38,
   "id": "0cd8c4b5-6457-4623-80b7-56ba56b80219",
   "metadata": {},
   "outputs": [
    {
     "data": {
      "text/plain": [
       "29"
      ]
     },
     "execution_count": 38,
     "metadata": {},
     "output_type": "execute_result"
    }
   ],
   "source": [
    "len(failures)"
   ]
  },
  {
   "cell_type": "code",
   "execution_count": 39,
   "id": "87eb4e02-0afd-46ef-8a3d-2577930a664b",
   "metadata": {},
   "outputs": [
    {
     "data": {
      "text/plain": [
       "[\"l'envoi\",\n",
       " \"m'en\",\n",
       " \"c'est\",\n",
       " \"d'angleterre\",\n",
       " \"j'ai\",\n",
       " \"l'anglais\",\n",
       " \"discov'ryseek\",\n",
       " \"j'oublie\",\n",
       " \"qu'ils\",\n",
       " \"n'avez-vous\",\n",
       " \"qu'il\",\n",
       " \"d'echapper\",\n",
       " \"l'amour\",\n",
       " \"m'estime\",\n",
       " \"d'un\",\n",
       " \"ay'll\",\n",
       " \"m'enseignez\",\n",
       " \"j'apprenne\",\n",
       " \"d'anglais\",\n",
       " \"m'avez\",\n",
       " \"d'apprendre\",\n",
       " \"d'honneur\",\n",
       " \"d'user\",\n",
       " \"n'est\",\n",
       " \"l'air\",\n",
       " \"l'envoiay\",\n",
       " \"falc'ner\",\n",
       " \"cock'rel\",\n",
       " \"qu'ai-j'oublie\"]"
      ]
     },
     "execution_count": 39,
     "metadata": {},
     "output_type": "execute_result"
    }
   ],
   "source": [
    "failures"
   ]
  },
  {
   "cell_type": "markdown",
   "id": "57d7262f-60c9-4d51-8726-104874f63c19",
   "metadata": {},
   "source": [
    "- Modernize anachronistic/poetic words."
   ]
  },
  {
   "cell_type": "code",
   "execution_count": 30,
   "id": "98ab3bd4-276e-4b61-a1a2-1c845a2babe6",
   "metadata": {},
   "outputs": [
    {
     "ename": "NameError",
     "evalue": "name 'clean_anachronisms' is not defined",
     "output_type": "error",
     "traceback": [
      "\u001b[1;31m---------------------------------------------------------------------------\u001b[0m",
      "\u001b[1;31mNameError\u001b[0m                                 Traceback (most recent call last)",
      "\u001b[1;32m<ipython-input-30-7bb15b2d4b9f>\u001b[0m in \u001b[0;36m<module>\u001b[1;34m\u001b[0m\n\u001b[1;32m----> 1\u001b[1;33m \u001b[0mline_df\u001b[0m\u001b[1;33m[\u001b[0m\u001b[1;34m'line'\u001b[0m\u001b[1;33m]\u001b[0m \u001b[1;33m=\u001b[0m \u001b[0mline_df\u001b[0m\u001b[1;33m[\u001b[0m\u001b[1;34m'line'\u001b[0m\u001b[1;33m]\u001b[0m\u001b[1;33m.\u001b[0m\u001b[0mmap\u001b[0m\u001b[1;33m(\u001b[0m\u001b[0mclean_anachronisms\u001b[0m\u001b[1;33m)\u001b[0m\u001b[1;33m\u001b[0m\u001b[1;33m\u001b[0m\u001b[0m\n\u001b[0m",
      "\u001b[1;31mNameError\u001b[0m: name 'clean_anachronisms' is not defined"
     ]
    }
   ],
   "source": [
    "line_df['line'] = line_df['line'].map(clean_anachronisms)"
   ]
  },
  {
   "cell_type": "code",
   "execution_count": null,
   "id": "8754e68e-e05a-44d7-ba5b-96ebd5ddbfda",
   "metadata": {},
   "outputs": [],
   "source": [
    "indices = []\n",
    "\n",
    "for key in failures:\n",
    "    indices.append(line_df[line_df['line'].str.contains(key)].index)"
   ]
  },
  {
   "cell_type": "code",
   "execution_count": null,
   "id": "4cc5b61a-740a-4fc1-bf14-0ba1bc96a176",
   "metadata": {},
   "outputs": [],
   "source": []
  },
  {
   "cell_type": "markdown",
   "id": "df9d76f1-0f2d-46d5-a018-51134a0f5c60",
   "metadata": {},
   "source": [
    "- Identify poetic language or outdated words."
   ]
  },
  {
   "cell_type": "code",
   "execution_count": null,
   "id": "fc52b52f-bce2-46d0-b69c-5641c99aaf9f",
   "metadata": {},
   "outputs": [],
   "source": []
  },
  {
   "cell_type": "markdown",
   "id": "4ba636d7-9900-4817-80cd-e8516f530c7e",
   "metadata": {},
   "source": [
    "- Stem and lemmatize corpus."
   ]
  },
  {
   "cell_type": "code",
   "execution_count": null,
   "id": "cc59e511-2fbb-4e44-84e5-ab1f4f249863",
   "metadata": {},
   "outputs": [],
   "source": [
    "mewt = MiddleEnglishWordTokenizer()"
   ]
  },
  {
   "cell_type": "code",
   "execution_count": null,
   "id": "7651eee8-3767-4bce-a616-e5efa2aaf00f",
   "metadata": {},
   "outputs": [],
   "source": [
    "#def stemmatize(sentence):\n",
    "sentence = line_df.loc[('hamlet', 'HAMLET', 131)]['line'].values[0]\n",
    "sentence.strip('\\\\')\n",
    "sentence = sentence.lower()\n",
    "\n",
    "new_sentence = ''\n",
    "lemmatizer = WordNetLemmatizer()\n",
    "tokenizer = RegexpTokenizer('\\w+')\n",
    "\n",
    "for word in tokenizer.tokenize(sentence):\n",
    "    if len(word) > 2:\n",
    "        synonyms = wn.synsets(word)\n",
    "\n",
    "        if len(synonyms) > 0:\n",
    "            hypernyms = synonyms[0].hypernyms()\n",
    "            if len(hypernyms) > 0:\n",
    "                new_word = hypernyms[0].lemma_names()[0]\n",
    "                print\n",
    "            else:\n",
    "                new_word = synonyms[0].lemma_names()[0]\n",
    "        else:\n",
    "            new_word = stem(word)\n",
    "\n",
    "        new_sentence += new_word + ' '"
   ]
  },
  {
   "cell_type": "code",
   "execution_count": null,
   "id": "82966e90-cff2-4c86-885a-a313411b1e06",
   "metadata": {},
   "outputs": [],
   "source": [
    "new_sentence"
   ]
  },
  {
   "cell_type": "code",
   "execution_count": null,
   "id": "96437042-3337-4990-b637-ea2fbfb7ae0b",
   "metadata": {},
   "outputs": [],
   "source": [
    "sentence"
   ]
  },
  {
   "cell_type": "code",
   "execution_count": null,
   "id": "1d532402-ef45-4fac-9fd7-7f3b8eed2280",
   "metadata": {},
   "outputs": [],
   "source": []
  }
 ],
 "metadata": {
  "kernelspec": {
   "display_name": "Python 3",
   "language": "python",
   "name": "python3"
  },
  "language_info": {
   "codemirror_mode": {
    "name": "ipython",
    "version": 3
   },
   "file_extension": ".py",
   "mimetype": "text/x-python",
   "name": "python",
   "nbconvert_exporter": "python",
   "pygments_lexer": "ipython3",
   "version": "3.8.8"
  }
 },
 "nbformat": 4,
 "nbformat_minor": 5
}
