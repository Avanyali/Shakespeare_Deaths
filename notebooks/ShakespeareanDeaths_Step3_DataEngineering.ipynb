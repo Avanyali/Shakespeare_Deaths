{
 "cells": [
  {
   "cell_type": "code",
   "execution_count": 1,
   "id": "85d17a99-e896-45ce-a745-aae372c4b97d",
   "metadata": {},
   "outputs": [],
   "source": [
    "import pandas as pd\n",
    "import numpy as np\n",
    "import matplotlib.pyplot as plt\n",
    "import seaborn as sns\n",
    "import shakespeare_functions as sf\n",
    "import shakespeare_dicts as sd\n",
    "\n",
    "from importlib import reload\n",
    "\n",
    "import re\n",
    "import nltk\n",
    "from nltk import word_tokenize\n",
    "from nltk.sentiment import SentimentIntensityAnalyzer\n",
    "from nltk.corpus import wordnet as wn\n",
    "from nltk.stem import WordNetLemmatizer\n",
    "from nltk import RegexpTokenizer\n",
    "\n",
    "from autocorrect import spell\n",
    "\n",
    "import spacy\n",
    "import en_core_web_sm"
   ]
  },
  {
   "cell_type": "code",
   "execution_count": 2,
   "id": "885564f4-bf12-449f-8ffd-86bf65e7fbe6",
   "metadata": {},
   "outputs": [],
   "source": [
    "line_df = pd.read_csv('../data/csv/ShakespeareCharacterLines_cleaned.csv', index_col = ['play', 'name', 'line_number'])"
   ]
  },
  {
   "cell_type": "code",
   "execution_count": 3,
   "id": "adef1ea5-2a6e-4f31-99f1-00c0f8b8804b",
   "metadata": {
    "tags": []
   },
   "outputs": [],
   "source": [
    "colon = slice(None)"
   ]
  },
  {
   "cell_type": "markdown",
   "id": "b37ca79d-1570-4703-a900-8c4c39322bb7",
   "metadata": {},
   "source": [
    "- Coriolanus is called Martius for part of the play. Make them the same character."
   ]
  },
  {
   "cell_type": "code",
   "execution_count": 4,
   "id": "fcfe8c9c-c39b-4c6e-be27-2d708476b043",
   "metadata": {},
   "outputs": [],
   "source": [
    "coriolanus = line_df.loc[('coriolanus', ['MARTIUS', 'CORIOLANUS'], colon), :].copy()"
   ]
  },
  {
   "cell_type": "code",
   "execution_count": 5,
   "id": "50ffcf66-7ac9-4278-b6d6-c87884fee1e9",
   "metadata": {},
   "outputs": [],
   "source": [
    "martius_line_max = coriolanus.loc[(colon, 'MARTIUS', colon), :].index.get_level_values(2).max()\n",
    "coriolanus_line_max = coriolanus.loc[(colon, 'CORIOLANUS', colon), :].index.get_level_values(2).max()"
   ]
  },
  {
   "cell_type": "code",
   "execution_count": 6,
   "id": "d19caf8a-8b6b-4393-9417-90e7b03a3889",
   "metadata": {},
   "outputs": [],
   "source": [
    "added_index = [('coriolanus', 'CORIOLANUS', x) for x in range(coriolanus_line_max, coriolanus_line_max + martius_line_max + 1)]\n",
    "coriolanus = pd.concat([coriolanus, pd.DataFrame(columns = coriolanus.columns, index = added_index)])"
   ]
  },
  {
   "cell_type": "code",
   "execution_count": 7,
   "id": "2c5bdc63-149d-46bc-8ad4-436c8a68d33e",
   "metadata": {},
   "outputs": [],
   "source": [
    "coriolanus_new_lines = coriolanus.loc[(colon, 'CORIOLANUS', colon), :].shift(martius_line_max)\n",
    "coriolanus_new_lines.dropna(inplace = True)"
   ]
  },
  {
   "cell_type": "code",
   "execution_count": 8,
   "id": "e4a567ef-5add-4acc-a024-84cd8e1a3a68",
   "metadata": {},
   "outputs": [],
   "source": [
    "martius_lines = coriolanus.loc[(colon, 'MARTIUS', colon), :].copy()\n",
    "coriolanus = pd.concat([martius_lines, coriolanus_new_lines])"
   ]
  },
  {
   "cell_type": "code",
   "execution_count": 9,
   "id": "d15642ad-ff78-49af-948e-d3b1d514d09b",
   "metadata": {},
   "outputs": [],
   "source": [
    "coriolanus.index = coriolanus.index.map(lambda i: (i[0], 'CORIOLANUS', i[2]))"
   ]
  },
  {
   "cell_type": "code",
   "execution_count": 10,
   "id": "ab3a83e0-9b64-40bf-a396-521ec07a45b4",
   "metadata": {},
   "outputs": [
    {
     "data": {
      "text/html": [
       "<div>\n",
       "<style scoped>\n",
       "    .dataframe tbody tr th:only-of-type {\n",
       "        vertical-align: middle;\n",
       "    }\n",
       "\n",
       "    .dataframe tbody tr th {\n",
       "        vertical-align: top;\n",
       "    }\n",
       "\n",
       "    .dataframe thead th {\n",
       "        text-align: right;\n",
       "    }\n",
       "</style>\n",
       "<table border=\"1\" class=\"dataframe\">\n",
       "  <thead>\n",
       "    <tr style=\"text-align: right;\">\n",
       "      <th></th>\n",
       "      <th></th>\n",
       "      <th></th>\n",
       "      <th>line</th>\n",
       "      <th>play_line_number</th>\n",
       "      <th>line_length</th>\n",
       "    </tr>\n",
       "    <tr>\n",
       "      <th>play</th>\n",
       "      <th>name</th>\n",
       "      <th>line_number</th>\n",
       "      <th></th>\n",
       "      <th></th>\n",
       "      <th></th>\n",
       "    </tr>\n",
       "  </thead>\n",
       "  <tbody>\n",
       "    <tr>\n",
       "      <th rowspan=\"11\" valign=\"top\">coriolanus</th>\n",
       "      <th rowspan=\"11\" valign=\"top\">CORIOLANUS</th>\n",
       "      <th>1</th>\n",
       "      <td>Thanks.--What's the matter, you dissentious ro...</td>\n",
       "      <td>48</td>\n",
       "      <td>119</td>\n",
       "    </tr>\n",
       "    <tr>\n",
       "      <th>2</th>\n",
       "      <td>He that will give good words to thee will flat...</td>\n",
       "      <td>50</td>\n",
       "      <td>1008</td>\n",
       "    </tr>\n",
       "    <tr>\n",
       "      <th>3</th>\n",
       "      <td>Hang 'em! They say? They'll sit by th' fire an...</td>\n",
       "      <td>52</td>\n",
       "      <td>477</td>\n",
       "    </tr>\n",
       "    <tr>\n",
       "      <th>4</th>\n",
       "      <td>They are dissolved. Hang 'em! They said they w...</td>\n",
       "      <td>54</td>\n",
       "      <td>492</td>\n",
       "    </tr>\n",
       "    <tr>\n",
       "      <th>5</th>\n",
       "      <td>Five tribunes to defend their vulgar wisdoms, ...</td>\n",
       "      <td>56</td>\n",
       "      <td>293</td>\n",
       "    </tr>\n",
       "    <tr>\n",
       "      <th>...</th>\n",
       "      <td>...</td>\n",
       "      <td>...</td>\n",
       "      <td>...</td>\n",
       "    </tr>\n",
       "    <tr>\n",
       "      <th>183</th>\n",
       "      <td>Hear'st thou, Mars?</td>\n",
       "      <td>1086</td>\n",
       "      <td>19</td>\n",
       "    </tr>\n",
       "    <tr>\n",
       "      <th>184</th>\n",
       "      <td>Ha?</td>\n",
       "      <td>1088</td>\n",
       "      <td>3</td>\n",
       "    </tr>\n",
       "    <tr>\n",
       "      <th>185</th>\n",
       "      <td>Measureless liar, thou hast made my heart Too ...</td>\n",
       "      <td>1090</td>\n",
       "      <td>363</td>\n",
       "    </tr>\n",
       "    <tr>\n",
       "      <th>186</th>\n",
       "      <td>Cut me to pieces, Volsces. Men and lads, Stain...</td>\n",
       "      <td>1092</td>\n",
       "      <td>231</td>\n",
       "    </tr>\n",
       "    <tr>\n",
       "      <th>187</th>\n",
       "      <td>O, that I had him, With six Aufidiuses, or m...</td>\n",
       "      <td>1097</td>\n",
       "      <td>85</td>\n",
       "    </tr>\n",
       "  </tbody>\n",
       "</table>\n",
       "<p>188 rows × 3 columns</p>\n",
       "</div>"
      ],
      "text/plain": [
       "                                                                                line  \\\n",
       "play       name       line_number                                                      \n",
       "coriolanus CORIOLANUS 1            Thanks.--What's the matter, you dissentious ro...   \n",
       "                      2            He that will give good words to thee will flat...   \n",
       "                      3            Hang 'em! They say? They'll sit by th' fire an...   \n",
       "                      4            They are dissolved. Hang 'em! They said they w...   \n",
       "                      5            Five tribunes to defend their vulgar wisdoms, ...   \n",
       "...                                                                              ...   \n",
       "                      183                                        Hear'st thou, Mars?   \n",
       "                      184                                                        Ha?   \n",
       "                      185          Measureless liar, thou hast made my heart Too ...   \n",
       "                      186          Cut me to pieces, Volsces. Men and lads, Stain...   \n",
       "                      187            O, that I had him, With six Aufidiuses, or m...   \n",
       "\n",
       "                                  play_line_number line_length  \n",
       "play       name       line_number                               \n",
       "coriolanus CORIOLANUS 1                         48         119  \n",
       "                      2                         50        1008  \n",
       "                      3                         52         477  \n",
       "                      4                         54         492  \n",
       "                      5                         56         293  \n",
       "...                                            ...         ...  \n",
       "                      183                     1086          19  \n",
       "                      184                     1088           3  \n",
       "                      185                     1090         363  \n",
       "                      186                     1092         231  \n",
       "                      187                     1097          85  \n",
       "\n",
       "[188 rows x 3 columns]"
      ]
     },
     "execution_count": 10,
     "metadata": {},
     "output_type": "execute_result"
    }
   ],
   "source": [
    "coriolanus"
   ]
  },
  {
   "cell_type": "code",
   "execution_count": 11,
   "id": "1ffd2d47-725d-4bd2-af9b-c6430d27b679",
   "metadata": {},
   "outputs": [],
   "source": [
    "line_df.drop(line_df.loc[('coriolanus', ['MARTIUS', 'CORIOLANUS'], colon), :].index, inplace = True)"
   ]
  },
  {
   "cell_type": "code",
   "execution_count": 12,
   "id": "efad8d5c-764a-46dd-978f-a703fd9b63ab",
   "metadata": {},
   "outputs": [],
   "source": [
    "line_df = pd.concat([line_df, coriolanus])"
   ]
  },
  {
   "cell_type": "code",
   "execution_count": 13,
   "id": "3f338da2-9102-4534-8301-fd7e3111b3b5",
   "metadata": {},
   "outputs": [],
   "source": [
    "line_df.sort_index(inplace = True)"
   ]
  },
  {
   "cell_type": "markdown",
   "id": "8631b42c-8593-49b7-890a-30978a50129d",
   "metadata": {},
   "source": [
    "- Identify all characters that died by consulting the main texts and outside summaries for verification."
   ]
  },
  {
   "cell_type": "code",
   "execution_count": 14,
   "id": "382b3ca1-785f-41d3-abb1-3cef969099b5",
   "metadata": {
    "tags": []
   },
   "outputs": [],
   "source": [
    "deaths = {'antony-and-cleopatra': ['ENOBARBUS', 'EROS', 'ANTONY', 'IRAS', 'CHARMIAN', 'CLEOPATRA'],\n",
    "          'coriolanus': ['CORIOLANUS'],\n",
    "          'cymbeline': ['QUEEN', 'CLOTEN'],\n",
    "          'hamlet': ['POLONIUS', 'ROSENCRANTZ', 'GUILDENSTERN', 'KING', 'QUEEN', 'LAERTES', 'OPHELIA', 'HAMLET', 'OSRIC'],\n",
    "          'henry-iv-part-1': ['HOTSPUR', 'VERNON', 'WORCESTER', 'BLUNT'],\n",
    "          'henry-iv-part-2': ['KING'],\n",
    "          'henry-v': ['HOSTESS'],\n",
    "          'henry-vi-part-1': ['MORTIMER', 'BEDFORD', 'TALBOT', 'JOHN TALBOT', 'GARGRAVE', 'SALISBURY'],\n",
    "          'henry-vi-part-2': ['CARDINAL', 'GLOUCESTER', 'SUFFOLK', 'CADE', 'SOMERSET', 'CLIFFORD', 'STAFFORD', 'BROTHER', 'SAYE', 'CLERK', 'HORNER', 'SOLDIER'],\n",
    "          'henry-vi-part-3': ['CLIFFORD', 'FATHER', 'SON', 'WARWICK', 'MONTAGUE', 'KING HENRY', 'RUTLAND', 'YORK', 'PRINCE EDWARD'],\n",
    "          'henry-viii': ['WOLSEY', 'BUCKINGHAM'],\n",
    "          'julius-caesar': ['TITINIUS', 'CASSIUS', 'CAESAR', 'CINNA', 'BRUTUS', 'CATO'],\n",
    "          'king-john': ['AUSTRIA', 'ARTHUR', 'KING JOHN', 'CONSTANCE', 'QUEEN ELEANOR'],\n",
    "          'king-lear': ['FIRST SERVANT', 'OSWALD', 'CORDELIA', 'REGAN', 'EDMUND', 'GLOUCESTER', 'LEAR', 'CORNWALL', 'GONERIL'],\n",
    "          'loves-labors-lost': ['KING'],\n",
    "          'macbeth': ['DUNCAN', 'BANQUO', 'LADY MACBETH', 'YOUNG SIWARD', 'MACBETH', 'LADY MACDUFF', 'SON'],\n",
    "          'othello': ['RODERIGO', 'EMILIA', 'OTHELLO', 'DESDEMONA'], \n",
    "          'pericles': ['CLEON', 'DIONYZA', 'ANTIOCHUS', 'DAUGHTER'],\n",
    "          'richard-ii': ['GAUNT', 'BUSHY', 'GREEN', 'RICHARD', 'GLOUCESTER'],\n",
    "          'richard-iii': ['CLARENCE', 'RICHARD', 'KING EDWARD', 'PRINCE', 'YORK', 'RIVERS', 'GREY', 'VAUGHAN', 'BRAKENBURY', 'BUCKINGHAM', 'ANNE', 'HASTINGS'],\n",
    "          'romeo-and-juliet': ['ROMEO', 'JULIET', 'MERCUTIO', 'TYBALT', 'PARIS', 'LADY MONTAGUE'],\n",
    "          'the-two-noble-kinsmen': ['ARCITE'],\n",
    "          'the-winters-tale': ['MAMILLIUS', 'HERMIONE', 'ANTIGONUS'], \n",
    "          'timon-of-athens': ['TIMON'], \n",
    "          'titus-andronicus': ['TITUS', 'MARTIUS', 'QUINTUS', 'MUTIUS', 'TAMORA', 'SATURNINUS', 'AARON', 'BASSIANUS', 'NURSE', 'LAVINIA', 'CHIRON', 'DEMETRIUS'],\n",
    "          'troilus-and-cressida': ['HECTOR', 'PATROCLUS']}"
   ]
  },
  {
   "cell_type": "markdown",
   "id": "fffc1195-c205-49cb-ab97-ba5494ebb9e3",
   "metadata": {},
   "source": [
    "- GLOUCESTER was originally DUCHESS in richard-ii, where there are two characters with line name DUCHESS: the duchess of York and the duchess of Gloucester. She has been renamed in the text itself."
   ]
  },
  {
   "cell_type": "code",
   "execution_count": 15,
   "id": "50a5d037-73d2-4199-9f75-370ec6de3022",
   "metadata": {},
   "outputs": [],
   "source": [
    "line_df['character_dies'] = 0\n",
    "\n",
    "for play, name_arr in deaths.items():\n",
    "    for name in name_arr:\n",
    "        line_df.loc[(play, name, colon), 'character_dies'] = 1"
   ]
  },
  {
   "cell_type": "markdown",
   "id": "85686172-07f8-4df5-992d-4264102ceb7d",
   "metadata": {},
   "source": [
    "- Get number of words per line."
   ]
  },
  {
   "cell_type": "code",
   "execution_count": 16,
   "id": "73d1b9fa-b5aa-49c4-ae23-4596224f0208",
   "metadata": {},
   "outputs": [],
   "source": [
    "line_df['word_count'] = line_df['line']"
   ]
  },
  {
   "cell_type": "code",
   "execution_count": 17,
   "id": "7300206c-272c-4381-aa0a-e36ae610e4f6",
   "metadata": {},
   "outputs": [],
   "source": [
    "line_df['word_count'] = line_df['word_count'].map(lambda line: len(re.findall(r'(\\S+)(?=(\\s*|\\s*\\Z))', line)))"
   ]
  },
  {
   "cell_type": "markdown",
   "id": "4476e8e3-f7f8-4488-b96e-007b3daa6f1b",
   "metadata": {},
   "source": [
    "- Add new features based on total character, word, and line count."
   ]
  },
  {
   "cell_type": "code",
   "execution_count": 18,
   "id": "be83acf3-8b89-49b4-85f4-c6992387267c",
   "metadata": {},
   "outputs": [],
   "source": [
    "line_df['total_character_count'] = 0\n",
    "line_df['max_word_count'] = 0\n",
    "line_df['max_line_count'] = 0"
   ]
  },
  {
   "cell_type": "code",
   "execution_count": 19,
   "id": "98c24d56-ca95-4264-bdea-b02268142bc1",
   "metadata": {},
   "outputs": [],
   "source": [
    "index_without_number = set(zip(line_df.index.get_level_values(0), line_df.index.get_level_values(1)))"
   ]
  },
  {
   "cell_type": "code",
   "execution_count": 20,
   "id": "72785a75-e0d3-4dde-89bf-2f5a0aa525ec",
   "metadata": {},
   "outputs": [],
   "source": [
    "for play, name in index_without_number:\n",
    "    character_slice = line_df.loc[(play, name, colon)]\n",
    "    \n",
    "    line_df.loc[(play, name, colon), 'max_line_count'] = max(list(character_slice.index.get_level_values(2)))\n",
    "    line_df.loc[(play, name, colon), 'max_word_count'] = max(list(character_slice['word_count']))\n",
    "    line_df.loc[(play, name, colon), 'total_character_count'] = sum(list(character_slice['line_length']))"
   ]
  },
  {
   "cell_type": "markdown",
   "id": "08678534-8fac-4b67-973f-61b33fb5c2c9",
   "metadata": {},
   "source": [
    "- Add percent total character, word, and line count features."
   ]
  },
  {
   "cell_type": "code",
   "execution_count": 21,
   "id": "f1d5a48f-dfff-482f-8c07-2e2f2a17844f",
   "metadata": {},
   "outputs": [],
   "source": [
    "for play, name in index_without_number:\n",
    "    character_slice = line_df.loc[(play, name, colon)]\n",
    "    play_slice = line_df.loc[(play, colon, colon)]\n",
    "    \n",
    "    line_df.loc[(play, name, colon), 'percent_line_count'] = sum(list(character_slice.index.get_level_values(2))) / sum(list(play_slice['word_count']))\n",
    "    line_df.loc[(play, name, colon), 'percent_word_count'] = sum(list(character_slice['word_count'])) / sum(list(play_slice['word_count']))"
   ]
  },
  {
   "cell_type": "markdown",
   "id": "a2bfe6f9-cd1e-41be-b338-9dcd21c17547",
   "metadata": {},
   "source": [
    "- Remove excess punctuation."
   ]
  },
  {
   "cell_type": "code",
   "execution_count": 22,
   "id": "16aa0df5-2419-45ad-aa8c-2a50126c12c9",
   "metadata": {},
   "outputs": [],
   "source": [
    "line_df['line'] = line_df['line'].map(sf.clean_punctuation)"
   ]
  },
  {
   "cell_type": "markdown",
   "id": "060365e8-0e51-441e-afcd-4e47e961fed9",
   "metadata": {},
   "source": [
    "- Separate all contractions, replace all poetic apostrophes with correct lettering."
   ]
  },
  {
   "cell_type": "code",
   "execution_count": 23,
   "id": "e32a2aaa-1eb2-43d4-9379-4e0741513ea6",
   "metadata": {},
   "outputs": [],
   "source": [
    "line_df['line'] = line_df['line'].map(sf.clean_contractions)"
   ]
  },
  {
   "cell_type": "markdown",
   "id": "57e3533e-33a4-48b9-9518-5d76e93fb6a2",
   "metadata": {},
   "source": [
    "- Remove \"'s\"s, they will be removed by lemmatizing or stopwords anyway."
   ]
  },
  {
   "cell_type": "code",
   "execution_count": 24,
   "id": "a6b59023-b710-4858-98c4-1b57f2980410",
   "metadata": {},
   "outputs": [],
   "source": [
    "line_df['line'] = line_df['line'].map(lambda x: re.sub(\"\\'s\", '', x))"
   ]
  },
  {
   "cell_type": "markdown",
   "id": "57d7262f-60c9-4d51-8726-104874f63c19",
   "metadata": {},
   "source": [
    "- Modernize anachronistic/poetic words."
   ]
  },
  {
   "cell_type": "code",
   "execution_count": 25,
   "id": "98ab3bd4-276e-4b61-a1a2-1c845a2babe6",
   "metadata": {},
   "outputs": [],
   "source": [
    "line_df['line'] = line_df['line'].map(sf.clean_anachronisms)"
   ]
  },
  {
   "cell_type": "code",
   "execution_count": 26,
   "id": "7b64ae6a-40ab-4838-ac99-49c25fc54d75",
   "metadata": {},
   "outputs": [],
   "source": [
    "line_df['line'] = line_df['line'].map(lambda x: re.sub(r\"-\", ' ', x))"
   ]
  },
  {
   "cell_type": "markdown",
   "id": "11d0ae79-b825-4734-8a33-f609737bb344",
   "metadata": {},
   "source": [
    "- Bring in spaCy for lemmatization, stopwords, NER, and POS tagging. "
   ]
  },
  {
   "cell_type": "code",
   "execution_count": 27,
   "id": "64fad254-7fb4-445a-bee8-b8e93859357a",
   "metadata": {},
   "outputs": [],
   "source": [
    "nlp = en_core_web_sm.load()"
   ]
  },
  {
   "cell_type": "markdown",
   "id": "8e218ff1-cb1b-43a2-b377-218ca3f274e2",
   "metadata": {},
   "source": [
    "- Add personalized stopwords."
   ]
  },
  {
   "cell_type": "code",
   "execution_count": 28,
   "id": "16637435-b524-4fa7-a42e-b7846f8e025a",
   "metadata": {},
   "outputs": [],
   "source": [
    "for stop in sf.get_stopwords():\n",
    "    nlp.vocab[stop].is_stop = True"
   ]
  },
  {
   "cell_type": "markdown",
   "id": "6be12849-4fcc-4983-b1fc-3b322c79d06b",
   "metadata": {},
   "source": [
    "- Get sentiment analysis of lines without proper nouns."
   ]
  },
  {
   "cell_type": "code",
   "execution_count": 29,
   "id": "b34d75db-c5a7-429f-9ac2-27d0caa087a3",
   "metadata": {},
   "outputs": [],
   "source": [
    "line_df['pos_sentiment'] = 0\n",
    "line_df['neg_sentiment'] = 0\n",
    "line_df['neu_sentiment'] = 0\n",
    "line_df['compound_sentiment'] = 0"
   ]
  },
  {
   "cell_type": "code",
   "execution_count": 30,
   "id": "ceeb0eff-b23b-49ba-9961-62bde90fea5e",
   "metadata": {},
   "outputs": [],
   "source": [
    "sia = SentimentIntensityAnalyzer()\n",
    "\n",
    "for row in line_df.iterrows():\n",
    "    line = row[1]['line']\n",
    "    \n",
    "    doc = nlp(line)\n",
    "    to_sent = \"\"\n",
    "    \n",
    "    for token in doc:\n",
    "        if token.pos_ != 'PROPN':\n",
    "            to_sent += token.text + \" \"\n",
    "       \n",
    "    sent = sia.polarity_scores(to_sent)\n",
    "    \n",
    "    for key, value in sent.items():\n",
    "        line_df.loc[row[0], f'{key}_sentiment'] = value"
   ]
  },
  {
   "cell_type": "markdown",
   "id": "efafddcf-a340-44c1-bb55-9885ffd675f7",
   "metadata": {},
   "source": [
    "- Final tokenization: remove stopwords, add columns for words, hypernyms, and word types"
   ]
  },
  {
   "cell_type": "code",
   "execution_count": 31,
   "id": "e12bc893-6c11-45da-bc75-733283d7b904",
   "metadata": {},
   "outputs": [],
   "source": [
    "def dict_increment(a_dict, word):\n",
    "    if word in a_dict:\n",
    "        a_dict[word] += 1\n",
    "    else:\n",
    "        a_dict[word] = 1"
   ]
  },
  {
   "cell_type": "code",
   "execution_count": 32,
   "id": "e13ad516-77c4-4acb-96b1-53815653a02b",
   "metadata": {},
   "outputs": [],
   "source": [
    "line_df.rename(columns = {'line': 'character_line'}, inplace = True)"
   ]
  },
  {
   "cell_type": "code",
   "execution_count": 33,
   "id": "a82df45d-0938-46b4-af90-feac9acc7016",
   "metadata": {},
   "outputs": [
    {
     "name": "stdout",
     "output_type": "stream",
     "text": [
      "Wall time: 17min 57s\n"
     ]
    }
   ],
   "source": [
    "%%time\n",
    "character_names = set(line_df.index.get_level_values(1))\n",
    "\n",
    "for row in line_df.iterrows():\n",
    "    line = row[1]['character_line']\n",
    "    \n",
    "    doc = nlp(line)\n",
    "    block = {}\n",
    "    \n",
    "    for token in doc:\n",
    "        features = []\n",
    "        \n",
    "        if token.text.upper() in character_names:\n",
    "            features.extend([\"character_name\", \"PROPN\"])\n",
    "        else:\n",
    "            if not token.is_stop:\n",
    "                features.extend([token.lemma_.lower(), token.pos_])\n",
    "\n",
    "                syn_text = wn.synsets(token.text.lower())\n",
    "                syn_lemma = wn.synsets(token.lemma_.lower())\n",
    "\n",
    "                #Add hypernym/synonym columns in priority order: word hypernym > lemma hypernym > word synonym > lemma synonym.\n",
    "                if len(syn_text) > 0 and len(syn_text[0].hypernyms()) > 0:\n",
    "                    dict_increment(block, syn_text[0].hypernyms()[0].lemma_names()[0].lower() + \"_hyp\")\n",
    "                elif len(syn_lemma) > 0 and len(syn_lemma[0].hypernyms()) > 0:\n",
    "                    dict_increment(block, syn_lemma[0].hypernyms()[0].lemma_names()[0].lower() + \"_hyp\")\n",
    "                elif len(syn_text) > 0:\n",
    "                    dict_increment(block, syn_text[0].lemma_names()[0].lower() + \"_syn\")\n",
    "                elif len(syn_lemma) > 0:\n",
    "                    dict_increment(block, syn_lemma[0].lemma_names()[0].lower() + \"_syn\")\n",
    "                \n",
    "        for item in features:\n",
    "            dict_increment(block, item)\n",
    "\n",
    "    for word, count in block.items():\n",
    "        line_df.loc[row[0], word] = count"
   ]
  },
  {
   "cell_type": "code",
   "execution_count": 34,
   "id": "2a840512-2fa1-4806-b92a-5c3ba6703f74",
   "metadata": {},
   "outputs": [
    {
     "data": {
      "text/plain": [
       "(31831, 22281)"
      ]
     },
     "execution_count": 34,
     "metadata": {},
     "output_type": "execute_result"
    }
   ],
   "source": [
    "line_df.shape"
   ]
  },
  {
   "cell_type": "code",
   "execution_count": 35,
   "id": "cd1349da-0e94-4610-8954-5625238244b8",
   "metadata": {},
   "outputs": [],
   "source": [
    "sums = line_df.drop(columns = line_df.columns[:14]).sum()"
   ]
  },
  {
   "cell_type": "code",
   "execution_count": 36,
   "id": "4bcd1225-74a3-4589-b1f6-fd8a17836535",
   "metadata": {},
   "outputs": [],
   "source": [
    "sums = {key: value for key, value in sums.to_dict().items() if value < 40000}"
   ]
  },
  {
   "cell_type": "raw",
   "id": "e323de3a-3e87-46ec-9de4-00ac998a1c1d",
   "metadata": {},
   "source": [
    "drop_threshold = pd.Series(sums).median()\n",
    "to_drop = [key for key, value in sums.items() if value < drop_threshold]"
   ]
  },
  {
   "cell_type": "raw",
   "id": "aecb325c-e9aa-438e-b333-d933e749f6e6",
   "metadata": {},
   "source": [
    "line_df.drop(columns = to_drop, inplace = True)"
   ]
  },
  {
   "cell_type": "code",
   "execution_count": 37,
   "id": "bdfaa1e5-304f-4b6e-9477-27b94d1091ee",
   "metadata": {},
   "outputs": [],
   "source": [
    "line_df.fillna(value = 0, inplace = True)"
   ]
  },
  {
   "cell_type": "markdown",
   "id": "0efee401-b736-42e1-9968-00de4bbed2c3",
   "metadata": {},
   "source": [
    "- Create aggregated dataframe by character for modeling."
   ]
  },
  {
   "cell_type": "code",
   "execution_count": 38,
   "id": "a400181b-7c5c-46da-a6f7-e4a59c4c3828",
   "metadata": {},
   "outputs": [],
   "source": [
    "to_drop = list(line_df.columns[:10])\n",
    "to_drop.remove('character_dies')"
   ]
  },
  {
   "cell_type": "code",
   "execution_count": 39,
   "id": "ca905c42-ccc7-48ce-8e62-e894031ddebc",
   "metadata": {},
   "outputs": [],
   "source": [
    "char_df = line_df.drop(columns = to_drop).copy()"
   ]
  },
  {
   "cell_type": "code",
   "execution_count": 47,
   "id": "404c46ad-d870-441e-b14f-5c78f3d8ca9a",
   "metadata": {
    "tags": []
   },
   "outputs": [],
   "source": [
    "new_cols = [key + '_mean' for key in char_df.columns]\n",
    "new_cols.extend([key + '_median' for key in char_df.columns])\n",
    "new_cols.extend([key + '_std' for key in char_df.columns])\n",
    "\n",
    "new_char_df = pd.DataFrame(index = index_without_number, columns = new_cols)\n",
    "\n",
    "for play, name in index_without_number:\n",
    "    character_slice = char_df.loc[(play, name, colon)]\n",
    "\n",
    "    means = character_slice.mean().add_suffix('_mean')\n",
    "    medians =   character_slice.median().add_suffix('_median')\n",
    "    stds = character_slice.std(ddof = 0).add_suffix('_std')\n",
    "    \n",
    "    new_row = pd.concat([means, medians, stds], axis = 0)\n",
    "\n",
    "    new_char_df.loc[(play, name)] = new_row\n",
    "    "
   ]
  },
  {
   "cell_type": "markdown",
   "id": "b603215e-6979-48e3-8338-b2a0b91ab017",
   "metadata": {},
   "source": [
    "- Export data."
   ]
  },
  {
   "cell_type": "code",
   "execution_count": 50,
   "id": "96417f8a-8aff-4951-9f72-8854f50ec3b8",
   "metadata": {},
   "outputs": [],
   "source": [
    "new_char_df.drop(columns = ['character_dies_median', 'character_dies_std'], inplace = True)"
   ]
  },
  {
   "cell_type": "code",
   "execution_count": 51,
   "id": "f1eefaf2-2649-4c9b-a86d-4b34d43292f3",
   "metadata": {},
   "outputs": [],
   "source": [
    "new_char_df.rename(columns = {'character_dies_mean': 'character_dies'}, inplace = True)"
   ]
  },
  {
   "cell_type": "code",
   "execution_count": 48,
   "id": "01f4babb-7d59-4784-876a-49791515246c",
   "metadata": {},
   "outputs": [],
   "source": [
    "line_df.to_csv('../data/csv/ShakespeareCharacterLines_engineered.csv', index_label = ['play', 'name', 'line_number'])"
   ]
  },
  {
   "cell_type": "code",
   "execution_count": 52,
   "id": "08dbfff4-bb61-41bb-8dad-26a8be7f4380",
   "metadata": {},
   "outputs": [],
   "source": [
    "new_char_df.to_csv('../data/csv/ShakespeareCharacterLines_character_corpus.csv', index_label = ['play', 'name'])"
   ]
  },
  {
   "cell_type": "markdown",
   "id": "9cf2d64a-68b3-408f-9c9d-7eaf3fa7e423",
   "metadata": {},
   "source": [
    "- On to Step 4 ->"
   ]
  }
 ],
 "metadata": {
  "kernelspec": {
   "display_name": "Python 3",
   "language": "python",
   "name": "python3"
  },
  "language_info": {
   "codemirror_mode": {
    "name": "ipython",
    "version": 3
   },
   "file_extension": ".py",
   "mimetype": "text/x-python",
   "name": "python",
   "nbconvert_exporter": "python",
   "pygments_lexer": "ipython3",
   "version": "3.8.8"
  }
 },
 "nbformat": 4,
 "nbformat_minor": 5
}
