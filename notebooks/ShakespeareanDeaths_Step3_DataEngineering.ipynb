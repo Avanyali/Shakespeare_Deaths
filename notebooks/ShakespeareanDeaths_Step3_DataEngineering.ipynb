{
 "cells": [
  {
   "cell_type": "code",
   "execution_count": 47,
   "id": "85d17a99-e896-45ce-a745-aae372c4b97d",
   "metadata": {},
   "outputs": [],
   "source": [
    "import pandas as pd\n",
    "import numpy as np\n",
    "import matplotlib.pyplot as plt\n",
    "import seaborn as sns\n",
    "import shakespeare_functions as sf\n",
    "import shakespeare_dicts as sd\n",
    "\n",
    "import re\n",
    "from nltk import word_tokenize\n",
    "from nltk.corpus import wordnet as wn\n",
    "from nltk.stem import WordNetLemmatizer\n",
    "from nltk import RegexpTokenizer\n",
    "\n",
    "from contractions import contractions_dict\n",
    "from autocorrect import spell\n",
    "\n",
    "#Middle English Imports\n",
    "from cltk.tokenizers.enm import MiddleEnglishWordTokenizer\n",
    "from cltk.stem.enm import stem\n",
    "from cltk.tokenizers.enm import MiddleEnglishWordTokenizer"
   ]
  },
  {
   "cell_type": "code",
   "execution_count": 2,
   "id": "885564f4-bf12-449f-8ffd-86bf65e7fbe6",
   "metadata": {},
   "outputs": [],
   "source": [
    "line_df = pd.read_csv('../data/csv/ShakespeareCharacterLines_cleaned.csv', index_col = ['play', 'name', 'line_number'])"
   ]
  },
  {
   "cell_type": "code",
   "execution_count": 3,
   "id": "adef1ea5-2a6e-4f31-99f1-00c0f8b8804b",
   "metadata": {},
   "outputs": [],
   "source": [
    "colon = slice(None)"
   ]
  },
  {
   "cell_type": "markdown",
   "id": "b37ca79d-1570-4703-a900-8c4c39322bb7",
   "metadata": {},
   "source": [
    "- Coriolanus is called Martius for part of the play. Make them the same character."
   ]
  },
  {
   "cell_type": "code",
   "execution_count": 4,
   "id": "fcfe8c9c-c39b-4c6e-be27-2d708476b043",
   "metadata": {},
   "outputs": [],
   "source": [
    "coriolanus = line_df.loc[('coriolanus', ['MARTIUS', 'CORIOLANUS'], colon), :].copy()"
   ]
  },
  {
   "cell_type": "code",
   "execution_count": 5,
   "id": "50ffcf66-7ac9-4278-b6d6-c87884fee1e9",
   "metadata": {},
   "outputs": [],
   "source": [
    "martius_line_max = coriolanus.loc[(colon, 'MARTIUS', colon), :].index.get_level_values(2).max()\n",
    "coriolanus_line_max = coriolanus.loc[(colon, 'CORIOLANUS', colon), :].index.get_level_values(2).max()"
   ]
  },
  {
   "cell_type": "code",
   "execution_count": 6,
   "id": "d19caf8a-8b6b-4393-9417-90e7b03a3889",
   "metadata": {},
   "outputs": [],
   "source": [
    "added_index = [('coriolanus', 'CORIOLANUS', x) for x in range(coriolanus_line_max, coriolanus_line_max + martius_line_max + 1)]\n",
    "coriolanus = pd.concat([coriolanus, pd.DataFrame(columns = coriolanus.columns, index = added_index)])"
   ]
  },
  {
   "cell_type": "code",
   "execution_count": 7,
   "id": "2c5bdc63-149d-46bc-8ad4-436c8a68d33e",
   "metadata": {},
   "outputs": [],
   "source": [
    "coriolanus_new_lines = coriolanus.loc[(colon, 'CORIOLANUS', colon), :].shift(martius_line_max)\n",
    "coriolanus_new_lines.dropna(inplace = True)"
   ]
  },
  {
   "cell_type": "code",
   "execution_count": 8,
   "id": "e4a567ef-5add-4acc-a024-84cd8e1a3a68",
   "metadata": {},
   "outputs": [],
   "source": [
    "martius_lines = coriolanus.loc[(colon, 'MARTIUS', colon), :].copy()\n",
    "coriolanus = pd.concat([martius_lines, coriolanus_new_lines])"
   ]
  },
  {
   "cell_type": "code",
   "execution_count": 9,
   "id": "d15642ad-ff78-49af-948e-d3b1d514d09b",
   "metadata": {},
   "outputs": [],
   "source": [
    "coriolanus.index = coriolanus.index.map(lambda i: (i[0], 'CORIOLANUS', i[2]))"
   ]
  },
  {
   "cell_type": "code",
   "execution_count": 10,
   "id": "ab3a83e0-9b64-40bf-a396-521ec07a45b4",
   "metadata": {},
   "outputs": [
    {
     "data": {
      "text/html": [
       "<div>\n",
       "<style scoped>\n",
       "    .dataframe tbody tr th:only-of-type {\n",
       "        vertical-align: middle;\n",
       "    }\n",
       "\n",
       "    .dataframe tbody tr th {\n",
       "        vertical-align: top;\n",
       "    }\n",
       "\n",
       "    .dataframe thead th {\n",
       "        text-align: right;\n",
       "    }\n",
       "</style>\n",
       "<table border=\"1\" class=\"dataframe\">\n",
       "  <thead>\n",
       "    <tr style=\"text-align: right;\">\n",
       "      <th></th>\n",
       "      <th></th>\n",
       "      <th></th>\n",
       "      <th>line</th>\n",
       "      <th>play_line_number</th>\n",
       "      <th>line_length</th>\n",
       "    </tr>\n",
       "    <tr>\n",
       "      <th>play</th>\n",
       "      <th>name</th>\n",
       "      <th>line_number</th>\n",
       "      <th></th>\n",
       "      <th></th>\n",
       "      <th></th>\n",
       "    </tr>\n",
       "  </thead>\n",
       "  <tbody>\n",
       "    <tr>\n",
       "      <th rowspan=\"11\" valign=\"top\">coriolanus</th>\n",
       "      <th rowspan=\"11\" valign=\"top\">CORIOLANUS</th>\n",
       "      <th>1</th>\n",
       "      <td>Thanks.--What's the matter, you dissentious ro...</td>\n",
       "      <td>48</td>\n",
       "      <td>119</td>\n",
       "    </tr>\n",
       "    <tr>\n",
       "      <th>2</th>\n",
       "      <td>He that will give good words to thee will flat...</td>\n",
       "      <td>50</td>\n",
       "      <td>1008</td>\n",
       "    </tr>\n",
       "    <tr>\n",
       "      <th>3</th>\n",
       "      <td>Hang 'em! They say? They'll sit by th' fire an...</td>\n",
       "      <td>52</td>\n",
       "      <td>477</td>\n",
       "    </tr>\n",
       "    <tr>\n",
       "      <th>4</th>\n",
       "      <td>They are dissolved. Hang 'em! They said they w...</td>\n",
       "      <td>54</td>\n",
       "      <td>492</td>\n",
       "    </tr>\n",
       "    <tr>\n",
       "      <th>5</th>\n",
       "      <td>Five tribunes to defend their vulgar wisdoms, ...</td>\n",
       "      <td>56</td>\n",
       "      <td>293</td>\n",
       "    </tr>\n",
       "    <tr>\n",
       "      <th>...</th>\n",
       "      <td>...</td>\n",
       "      <td>...</td>\n",
       "      <td>...</td>\n",
       "    </tr>\n",
       "    <tr>\n",
       "      <th>183</th>\n",
       "      <td>Hear'st thou, Mars?</td>\n",
       "      <td>1086</td>\n",
       "      <td>19</td>\n",
       "    </tr>\n",
       "    <tr>\n",
       "      <th>184</th>\n",
       "      <td>Ha?</td>\n",
       "      <td>1088</td>\n",
       "      <td>3</td>\n",
       "    </tr>\n",
       "    <tr>\n",
       "      <th>185</th>\n",
       "      <td>Measureless liar, thou hast made my heart Too ...</td>\n",
       "      <td>1090</td>\n",
       "      <td>363</td>\n",
       "    </tr>\n",
       "    <tr>\n",
       "      <th>186</th>\n",
       "      <td>Cut me to pieces, Volsces. Men and lads, Stain...</td>\n",
       "      <td>1092</td>\n",
       "      <td>231</td>\n",
       "    </tr>\n",
       "    <tr>\n",
       "      <th>187</th>\n",
       "      <td>O, that I had him, With six Aufidiuses, or m...</td>\n",
       "      <td>1097</td>\n",
       "      <td>85</td>\n",
       "    </tr>\n",
       "  </tbody>\n",
       "</table>\n",
       "<p>188 rows × 3 columns</p>\n",
       "</div>"
      ],
      "text/plain": [
       "                                                                                line  \\\n",
       "play       name       line_number                                                      \n",
       "coriolanus CORIOLANUS 1            Thanks.--What's the matter, you dissentious ro...   \n",
       "                      2            He that will give good words to thee will flat...   \n",
       "                      3            Hang 'em! They say? They'll sit by th' fire an...   \n",
       "                      4            They are dissolved. Hang 'em! They said they w...   \n",
       "                      5            Five tribunes to defend their vulgar wisdoms, ...   \n",
       "...                                                                              ...   \n",
       "                      183                                        Hear'st thou, Mars?   \n",
       "                      184                                                        Ha?   \n",
       "                      185          Measureless liar, thou hast made my heart Too ...   \n",
       "                      186          Cut me to pieces, Volsces. Men and lads, Stain...   \n",
       "                      187            O, that I had him, With six Aufidiuses, or m...   \n",
       "\n",
       "                                  play_line_number line_length  \n",
       "play       name       line_number                               \n",
       "coriolanus CORIOLANUS 1                         48         119  \n",
       "                      2                         50        1008  \n",
       "                      3                         52         477  \n",
       "                      4                         54         492  \n",
       "                      5                         56         293  \n",
       "...                                            ...         ...  \n",
       "                      183                     1086          19  \n",
       "                      184                     1088           3  \n",
       "                      185                     1090         363  \n",
       "                      186                     1092         231  \n",
       "                      187                     1097          85  \n",
       "\n",
       "[188 rows x 3 columns]"
      ]
     },
     "execution_count": 10,
     "metadata": {},
     "output_type": "execute_result"
    }
   ],
   "source": [
    "coriolanus"
   ]
  },
  {
   "cell_type": "code",
   "execution_count": 11,
   "id": "1ffd2d47-725d-4bd2-af9b-c6430d27b679",
   "metadata": {},
   "outputs": [],
   "source": [
    "line_df.drop(line_df.loc[('coriolanus', ['MARTIUS', 'CORIOLANUS'], colon), :].index, inplace = True)"
   ]
  },
  {
   "cell_type": "code",
   "execution_count": 12,
   "id": "efad8d5c-764a-46dd-978f-a703fd9b63ab",
   "metadata": {},
   "outputs": [],
   "source": [
    "line_df = pd.concat([line_df, coriolanus])"
   ]
  },
  {
   "cell_type": "code",
   "execution_count": 13,
   "id": "3f338da2-9102-4534-8301-fd7e3111b3b5",
   "metadata": {},
   "outputs": [],
   "source": [
    "line_df.sort_index(inplace = True)"
   ]
  },
  {
   "cell_type": "markdown",
   "id": "8631b42c-8593-49b7-890a-30978a50129d",
   "metadata": {},
   "source": [
    "- Identify all characters that died by consulting the main texts and outside summaries for verification."
   ]
  },
  {
   "cell_type": "code",
   "execution_count": 14,
   "id": "382b3ca1-785f-41d3-abb1-3cef969099b5",
   "metadata": {
    "tags": []
   },
   "outputs": [],
   "source": [
    "deaths = {'antony-and-cleopatra': ['ENOBARBUS', 'EROS', 'ANTONY', 'IRAS', 'CHARMIAN', 'CLEOPATRA'],\n",
    "          'coriolanus': ['CORIOLANUS'],\n",
    "          'cymbeline': ['QUEEN', 'CLOTEN'],\n",
    "          'hamlet': ['POLONIUS', 'ROSENCRANTZ', 'GUILDENSTERN', 'KING', 'QUEEN', 'LAERTES', 'OPHELIA', 'HAMLET', 'OSRIC'],\n",
    "          'henry-iv-part-1': ['HOTSPUR', 'VERNON', 'WORCESTER', 'BLUNT'],\n",
    "          'henry-iv-part-2': ['KING'],\n",
    "          'henry-v': ['HOSTESS'],\n",
    "          'henry-vi-part-1': ['MORTIMER', 'BEDFORD', 'TALBOT', 'JOHN TALBOT', 'GARGRAVE', 'SALISBURY'],\n",
    "          'henry-vi-part-2': ['CARDINAL', 'GLOUCESTER', 'SUFFOLK', 'CADE', 'SOMERSET', 'CLIFFORD', 'STAFFORD', 'BROTHER', 'SAYE', 'CLERK', 'HORNER', 'SOLDIER'],\n",
    "          'henry-vi-part-3': ['CLIFFORD', 'FATHER', 'SON', 'WARWICK', 'MONTAGUE', 'KING HENRY', 'RUTLAND', 'YORK', 'PRINCE EDWARD'],\n",
    "          'henry-viii': ['WOLSEY', 'BUCKINGHAM'],\n",
    "          'julius-caesar': ['TITINIUS', 'CASSIUS', 'CAESAR', 'CINNA', 'BRUTUS', 'CATO'],\n",
    "          'king-john': ['AUSTRIA', 'ARTHUR', 'KING JOHN', 'CONSTANCE', 'QUEEN ELEANOR'],\n",
    "          'king-lear': ['FIRST SERVANT', 'OSWALD', 'CORDELIA', 'REGAN', 'EDMUND', 'GLOUCESTER', 'LEAR', 'CORNWALL', 'GONERIL'],\n",
    "          'loves-labors-lost': ['KING'],\n",
    "          'macbeth': ['DUNCAN', 'BANQUO', 'LADY MACBETH', 'YOUNG SIWARD', 'MACBETH', 'LADY MACDUFF', 'SON'],\n",
    "          'othello': ['RODERIGO', 'EMILIA', 'OTHELLO', 'DESDEMONA'], \n",
    "          'pericles': ['CLEON', 'DIONYZA', 'ANTIOCHUS', 'DAUGHTER'],\n",
    "          'richard-ii': ['GAUNT', 'BUSHY', 'GREEN', 'RICHARD', 'GLOUCESTER'],\n",
    "          'richard-iii': ['CLARENCE', 'RICHARD', 'KING EDWARD', 'PRINCE', 'YORK', 'RIVERS', 'GREY', 'VAUGHAN', 'BRAKENBURY', 'BUCKINGHAM', 'ANNE', 'HASTINGS'],\n",
    "          'romeo-and-juliet': ['ROMEO', 'JULIET', 'MERCUTIO', 'TYBALT', 'PARIS', 'LADY MONTAGUE'],\n",
    "          'the-two-noble-kinsmen': ['ARCITE'],\n",
    "          'the-winters-tale': ['MAMILLIUS', 'HERMIONE', 'ANTIGONUS'], \n",
    "          'timon-of-athens': ['TIMON'], \n",
    "          'titus-andronicus': ['TITUS', 'MARTIUS', 'QUINTUS', 'MUTIUS', 'TAMORA', 'SATURNINUS', 'AARON', 'BASSIANUS', 'NURSE', 'LAVINIA', 'CHIRON', 'DEMETRIUS'],\n",
    "          'troilus-and-cressida': ['HECTOR', 'PATROCLUS']}"
   ]
  },
  {
   "cell_type": "markdown",
   "id": "fffc1195-c205-49cb-ab97-ba5494ebb9e3",
   "metadata": {},
   "source": [
    "- GLOUCESTER was originally DUCHESS in richard-ii, where there are two characters with line name DUCHESS: the duchess of York and the duchess of Gloucester. She has been renamed in the text itself."
   ]
  },
  {
   "cell_type": "code",
   "execution_count": 15,
   "id": "50a5d037-73d2-4199-9f75-370ec6de3022",
   "metadata": {},
   "outputs": [],
   "source": [
    "line_df['character_dies'] = 0\n",
    "\n",
    "for play, name_arr in deaths.items():\n",
    "    for name in name_arr:\n",
    "        line_df.loc[(play, name, colon), 'character_dies'] = 1"
   ]
  },
  {
   "cell_type": "markdown",
   "id": "85686172-07f8-4df5-992d-4264102ceb7d",
   "metadata": {},
   "source": [
    "- Get number of words per line."
   ]
  },
  {
   "cell_type": "code",
   "execution_count": 16,
   "id": "73d1b9fa-b5aa-49c4-ae23-4596224f0208",
   "metadata": {},
   "outputs": [],
   "source": [
    "line_df['word_count'] = line_df['line']"
   ]
  },
  {
   "cell_type": "code",
   "execution_count": 17,
   "id": "7300206c-272c-4381-aa0a-e36ae610e4f6",
   "metadata": {},
   "outputs": [],
   "source": [
    "line_df['word_count'] = line_df['word_count'].map(lambda line: len(re.findall(r'(\\S+)(?=(\\s*|\\s*\\Z))', line)))"
   ]
  },
  {
   "cell_type": "markdown",
   "id": "4476e8e3-f7f8-4488-b96e-007b3daa6f1b",
   "metadata": {},
   "source": [
    "- Add new features based on total character, word, and line count."
   ]
  },
  {
   "cell_type": "code",
   "execution_count": 18,
   "id": "be83acf3-8b89-49b4-85f4-c6992387267c",
   "metadata": {},
   "outputs": [],
   "source": [
    "line_df['total_character_count'] = 0\n",
    "line_df['max_word_count'] = 0\n",
    "line_df['max_line_count'] = 0"
   ]
  },
  {
   "cell_type": "code",
   "execution_count": 19,
   "id": "72785a75-e0d3-4dde-89bf-2f5a0aa525ec",
   "metadata": {},
   "outputs": [],
   "source": [
    "for index in line_df.index:\n",
    "    play  = index[0]\n",
    "    name = index[1]\n",
    "    \n",
    "    character_slice = line_df.loc[(play, name, colon)]\n",
    "    \n",
    "    line_df.loc[(play, name, colon), 'max_line_count'] = max(list(character_slice.index.get_level_values(2)))\n",
    "    line_df.loc[(play, name, colon), 'max_word_count'] = max(list(character_slice['word_count']))\n",
    "    line_df.loc[(play, name, colon), 'total_character_count'] = sum(list(character_slice['line_length']))"
   ]
  },
  {
   "cell_type": "markdown",
   "id": "08678534-8fac-4b67-973f-61b33fb5c2c9",
   "metadata": {},
   "source": [
    "- Add percent total character, word, and line count features."
   ]
  },
  {
   "cell_type": "code",
   "execution_count": 20,
   "id": "f1d5a48f-dfff-482f-8c07-2e2f2a17844f",
   "metadata": {},
   "outputs": [],
   "source": [
    "for index in line_df.index:\n",
    "    play  = index[0]\n",
    "    name = index[1]\n",
    "    \n",
    "    character_slice = line_df.loc[(play, name, colon)]\n",
    "    play_slice = line_df.loc[(play, colon, colon)]\n",
    "    \n",
    "    line_df.loc[(play, name, colon), 'percent_line_count'] = sum(list(character_slice.index.get_level_values(2))) / sum(list(play_slice['word_count']))\n",
    "    line_df.loc[(play, name, colon), 'percent_word_count'] = sum(list(character_slice['word_count'])) / sum(list(play_slice['word_count']))"
   ]
  },
  {
   "cell_type": "markdown",
   "id": "060365e8-0e51-441e-afcd-4e47e961fed9",
   "metadata": {},
   "source": [
    "- Separate all contractions, replace all poetic apostrophes with correct lettering."
   ]
  },
  {
   "cell_type": "code",
   "execution_count": 21,
   "id": "7d0e0096-0570-4329-89b7-564bdf29ec56",
   "metadata": {},
   "outputs": [],
   "source": [
    "contractions = contractions_dict.copy()\n",
    "contractions = {re.sub(r'’', \"'\", key): re.sub(r'’', \"'\", value) for key, value in contractions.items() if '.' not in key}\n",
    "contractions = {key:value for key, value in contractions.items() if \"'\" in key}"
   ]
  },
  {
   "cell_type": "code",
   "execution_count": 48,
   "id": "64a2c544-7f73-4a1d-8512-cf90109cc33f",
   "metadata": {},
   "outputs": [],
   "source": [
    "shakespeare_contractions_dict = sd.shakespeare_contractions_dict()"
   ]
  },
  {
   "cell_type": "code",
   "execution_count": 23,
   "id": "41262bc9-3279-4d74-ac5a-bea88e948307",
   "metadata": {},
   "outputs": [],
   "source": [
    "for key, value in shakespeare_contractions_dict.items():\n",
    "        contractions[key] = value"
   ]
  },
  {
   "cell_type": "code",
   "execution_count": 24,
   "id": "6deae885-0dda-4ced-8701-6f101ec1bfef",
   "metadata": {},
   "outputs": [],
   "source": [
    "def clean_contractions(sentence):\n",
    "    sentence = sf.clean_punctuation(sentence)\n",
    "    for contraction, conversion in contractions.items():\n",
    "        sentence = re.sub(contraction, conversion, sentence)\n",
    "        sentence = re.sub(contraction.capitalize(), conversion, sentence)\n",
    "        sentence = re.sub(contraction.lower(), conversion, sentence)\n",
    "        \n",
    "    return sentence"
   ]
  },
  {
   "cell_type": "code",
   "execution_count": 25,
   "id": "e32a2aaa-1eb2-43d4-9379-4e0741513ea6",
   "metadata": {},
   "outputs": [],
   "source": [
    "line_df['line'] = line_df['line'].map(clean_contractions)"
   ]
  },
  {
   "cell_type": "markdown",
   "id": "57e3533e-33a4-48b9-9518-5d76e93fb6a2",
   "metadata": {},
   "source": [
    "- Remove \"'s\"s, they will be removed by lemmatizing or stopwords anyway."
   ]
  },
  {
   "cell_type": "code",
   "execution_count": 26,
   "id": "34ba952b-7bc4-449b-ba24-107d31cb34f3",
   "metadata": {},
   "outputs": [],
   "source": [
    "line_df['line'] = line_df['line'].map(lambda x: re.sub(\"\\'s\", '', x))"
   ]
  },
  {
   "cell_type": "markdown",
   "id": "57d7262f-60c9-4d51-8726-104874f63c19",
   "metadata": {},
   "source": [
    "- Modernize anachronistic/poetic words."
   ]
  },
  {
   "cell_type": "code",
   "execution_count": 27,
   "id": "98ab3bd4-276e-4b61-a1a2-1c845a2babe6",
   "metadata": {},
   "outputs": [],
   "source": [
    "line_df['line'] = line_df['line'].map(sf.clean_anachronisms)"
   ]
  },
  {
   "cell_type": "code",
   "execution_count": 28,
   "id": "aa9018f6-f340-4584-bd3a-377cee69f1b9",
   "metadata": {},
   "outputs": [],
   "source": [
    "corpus = sf.corpusize(line_df, 'line')"
   ]
  },
  {
   "cell_type": "markdown",
   "id": "df9d76f1-0f2d-46d5-a018-51134a0f5c60",
   "metadata": {},
   "source": [
    "- stopword, NER, lemmatize. Use wordnet to identify words to clean."
   ]
  },
  {
   "cell_type": "code",
   "execution_count": 29,
   "id": "fc52b52f-bce2-46d0-b69c-5641c99aaf9f",
   "metadata": {},
   "outputs": [],
   "source": [
    "lemmatizer = WordNetLemmatizer()\n",
    "tokenizer = RegexpTokenizer('\\w+')\n",
    "\n",
    "unnymable = {}\n",
    "\n",
    "for line in line_df['line'].values:\n",
    "    for word in tokenizer.tokenize(line):\n",
    "        synonyms = wn.synsets(word)\n",
    "\n",
    "        unnymable[word] = 2\n",
    "        \n",
    "        if len(synonyms) > 0:\n",
    "            hypernyms = synonyms[0].hypernyms()\n",
    "            unnymable[word] -= 1\n",
    "            if len(hypernyms) > 0:\n",
    "                new_word = hypernyms[0].lemma_names()[0]\n",
    "                unnymable[word] -= 1"
   ]
  },
  {
   "cell_type": "code",
   "execution_count": 30,
   "id": "6c78c3de-dc6b-4a18-ad0c-08ff66106edf",
   "metadata": {},
   "outputs": [],
   "source": [
    "unnymable = {key: value for key, value in unnymable.items() if value > 0}"
   ]
  },
  {
   "cell_type": "code",
   "execution_count": 33,
   "id": "5ee0d248-29dd-42d8-8ace-db15163422aa",
   "metadata": {},
   "outputs": [],
   "source": [
    "unnymable = {k: v for k, v in sorted(unnymable.items(), key=lambda item: item[1], reverse = True)}"
   ]
  },
  {
   "cell_type": "code",
   "execution_count": 46,
   "id": "a3f5ac82-88be-4430-a0aa-c2eed0cca5fa",
   "metadata": {},
   "outputs": [
    {
     "data": {
      "text/plain": [
       "{'with': 2,\n",
       " 'stayeth': 2,\n",
       " 'constraineth': 2,\n",
       " 'hateth': 2,\n",
       " 'knitteth': 2,\n",
       " 'witnesseth': 2,\n",
       " 'presenteth': 2,\n",
       " 'mistaketh': 2,\n",
       " 'charmeth': 2,\n",
       " 'quoth': 2,\n",
       " 'bajazeth': 2,\n",
       " 'nourisheth': 2,\n",
       " 'presageth': 2,\n",
       " 'pleaseth': 2,\n",
       " 'importeth': 2,\n",
       " 'purposeth': 2,\n",
       " 'perceiveth': 2,\n",
       " 'teacheth': 2,\n",
       " 'pierceth': 2,\n",
       " 'provoketh': 2,\n",
       " 'feedeth': 2,\n",
       " 'sdeath': 2,\n",
       " 'placeth': 2,\n",
       " 'sufficeth': 2,\n",
       " 'ofergrowth': 2,\n",
       " 'appeareth': 2,\n",
       " 'sith': 2,\n",
       " 'returneth': 2,\n",
       " 'turneth': 2,\n",
       " 'singeth': 2,\n",
       " 'confesseth': 2,\n",
       " 'deceiveth': 2,\n",
       " 'liveth': 2,\n",
       " 'wisheth': 2,\n",
       " 'doteth': 2,\n",
       " 'monmouth': 2,\n",
       " 'menteith': 2,\n",
       " 'bridgenorth': 2,\n",
       " 'promiseth': 2,\n",
       " 'loseth': 2,\n",
       " 'exceedeth': 2,\n",
       " 'useth': 2,\n",
       " 'buildeth': 2,\n",
       " 'illumineth': 2,\n",
       " 'bleedeth': 2,\n",
       " 'standeth': 2,\n",
       " 'amurath': 2,\n",
       " 'saith': 2,\n",
       " 'lurketh': 2,\n",
       " 'blackheath': 2,\n",
       " 'feith': 2,\n",
       " 'delabreth': 2,\n",
       " 'sendeth': 2,\n",
       " 'cometh': 2,\n",
       " 'wherewith': 2,\n",
       " 'killeth': 2,\n",
       " 'sueth': 2,\n",
       " 'approacheth': 2,\n",
       " 'serveth': 2,\n",
       " 'perisheth': 2,\n",
       " 'wanteth': 2,\n",
       " 'giveth': 2,\n",
       " 'ceaseth': 2,\n",
       " 'joineth': 2,\n",
       " 'droopeth': 2,\n",
       " 'warranteth': 2,\n",
       " 'remaineth': 2,\n",
       " 'fighteth': 2,\n",
       " 'flieth': 2,\n",
       " 'toucheth': 2,\n",
       " 'forsaketh': 2,\n",
       " 'bindeth': 2,\n",
       " 'bringeth': 2,\n",
       " 'vieweth': 2,\n",
       " 'chaseth': 2,\n",
       " 'yoketh': 2,\n",
       " 'razeth': 2,\n",
       " 'craveth': 2,\n",
       " 'fitteth': 2,\n",
       " 'holdeth': 2,\n",
       " 'preferreth': 2,\n",
       " 'willeth': 2,\n",
       " 'killingworth': 2,\n",
       " 'footcloth': 2,\n",
       " 'uneath': 2,\n",
       " 'asketh': 2,\n",
       " 'contenteth': 2,\n",
       " 'asmath': 2,\n",
       " 'seemeth': 2,\n",
       " 'marcheth': 2,\n",
       " 'proclaimeth': 2,\n",
       " 'prevaileth': 2,\n",
       " 'passeth': 2,\n",
       " 'meseemeth': 2,\n",
       " 'accordeth': 2,\n",
       " 'maketh': 2,\n",
       " 'inferreth': 2,\n",
       " 'misdoubteth': 2,\n",
       " 'speaketh': 2,\n",
       " 'waiteth': 2,\n",
       " 'suppresseth': 2,\n",
       " 'proveth': 2,\n",
       " 'requireth': 2,\n",
       " 'resteth': 2,\n",
       " 'increaseth': 2,\n",
       " 'melteth': 2,\n",
       " 'vexeth': 2,\n",
       " 'burneth': 2,\n",
       " 'mounteth': 2,\n",
       " 'raileth': 2,\n",
       " 'snarleth': 2,\n",
       " 'intendeth': 2,\n",
       " 'upholdeth': 2,\n",
       " 'possesseth': 2,\n",
       " 'resolveth': 2,\n",
       " 'assaileth': 2,\n",
       " 'affecteth': 2,\n",
       " 'clippeth': 2,\n",
       " 'rageth': 2,\n",
       " 'raineth': 2,\n",
       " 'loveth': 2,\n",
       " 'rejoiceth': 2,\n",
       " 'hunteth': 2,\n",
       " 'hangeth': 2,\n",
       " 'falleth': 2,\n",
       " 'saluteth': 2,\n",
       " 'understandeth': 2,\n",
       " 'draweth': 2,\n",
       " 'clepeth': 2,\n",
       " 'insinuateth': 2,\n",
       " 'beseemeth': 2,\n",
       " 'expresseth': 2,\n",
       " 'purchaseth': 2,\n",
       " 'affordeth': 2,\n",
       " 'hairbreadth': 2,\n",
       " 'ariseth': 2,\n",
       " 'enticeth': 2,\n",
       " 'enjoineth': 2,\n",
       " 'danceth': 2,\n",
       " 'reacheth': 2,\n",
       " 'lanceth': 2,\n",
       " 'oppresseth': 2,\n",
       " 'lieth': 2,\n",
       " 'boundeth': 2,\n",
       " 'shineth': 2,\n",
       " 'thrusteth': 2,\n",
       " 'reposeth': 2,\n",
       " 'ensnareth': 2,\n",
       " 'rideth': 2,\n",
       " 'adoreth': 2,\n",
       " 'encompasseth': 2,\n",
       " 'encloseth': 2,\n",
       " 'jumpeth': 2,\n",
       " 'bosworth': 2,\n",
       " 'tamworth': 2,\n",
       " 'accuseth': 2,\n",
       " 'rooteth': 2,\n",
       " 'divideth': 2,\n",
       " 'driveth': 2,\n",
       " 'heareth': 2,\n",
       " 'stirreth': 2,\n",
       " 'moveth': 2,\n",
       " 'starveth': 2,\n",
       " 'chargeth': 2,\n",
       " 'loureth': 2,\n",
       " 'springeth': 2,\n",
       " 'consisteth': 2,\n",
       " 'chooseth': 2,\n",
       " 'riseth': 2,\n",
       " 'attendeth': 2,\n",
       " 'droppeth': 2,\n",
       " 'blesseth': 2,\n",
       " 'enlargeth': 2,\n",
       " 'taketh': 2,\n",
       " 'oweth': 2,\n",
       " 'groweth': 2,\n",
       " 'beareth': 2,\n",
       " 'uttereth': 2,\n",
       " 'planteth': 2,\n",
       " 'peereth': 2,\n",
       " 'flourisheth': 2,\n",
       " 'concerneth': 2,\n",
       " 'longeth': 2,\n",
       " 'surpasseth': 2,\n",
       " 'betideth': 2,\n",
       " 'overtaketh': 2,\n",
       " 'despiseth': 2,\n",
       " 'resembleth': 2,\n",
       " 'meaneth': 2,\n",
       " 'esteemeth': 2,\n",
       " 'fawneth': 2,\n",
       " 'spilth': 2,\n",
       " 'climbeth': 2,\n",
       " 'glideth': 2,\n",
       " 'seizeth': 2,\n",
       " 'offendeth': 2,\n",
       " 'disdaineth': 2,\n",
       " 'tosseth': 2,\n",
       " 'playeth': 2,\n",
       " 'violenteth': 2,\n",
       " 'causeth': 2,\n",
       " 'moldeth': 2,\n",
       " 'receiveth': 2,\n",
       " 'unfoldeth': 2,\n",
       " 'forth': 1,\n",
       " 'loath': 1,\n",
       " 'both': 1,\n",
       " 'forsooth': 1,\n",
       " 'earth': 1,\n",
       " 'henceforth': 1,\n",
       " 'beneath': 1,\n",
       " 'uncouth': 1,\n",
       " 'south': 1,\n",
       " 'ruth': 1,\n",
       " 'north': 1,\n",
       " 'forthwith': 1,\n",
       " 'therewith': 1,\n",
       " 'smith': 1,\n",
       " 'underneath': 1,\n",
       " 'japheth': 1,\n",
       " 'elizabeth': 1,\n",
       " 'griffith': 1,\n",
       " 'macbeth': 1,\n",
       " 'corinth': 1,\n",
       " 'wroth': 1,\n",
       " 'goliath': 1}"
      ]
     },
     "execution_count": 46,
     "metadata": {},
     "output_type": "execute_result"
    }
   ],
   "source": [
    "{key: value for key, value in unnymable.items() if re.search('th\\Z', key) != None}"
   ]
  },
  {
   "cell_type": "markdown",
   "id": "4ba636d7-9900-4817-80cd-e8516f530c7e",
   "metadata": {},
   "source": [
    "- Stem and lemmatize corpus."
   ]
  },
  {
   "cell_type": "raw",
   "id": "a5d7cbb5-925e-44fc-a274-a361da089b1a",
   "metadata": {},
   "source": [
    "mewt = MiddleEnglishWordTokenizer()"
   ]
  },
  {
   "cell_type": "raw",
   "id": "8a27dd63-b477-433c-a418-c739c4b26852",
   "metadata": {},
   "source": [
    "#def stemmatize(sentence):\n",
    "sentence = line_df.loc[('hamlet', 'HAMLET', 131)]['line'].values[0]\n",
    "sentence.strip('\\\\')\n",
    "sentence = sentence.lower()\n",
    "\n",
    "new_sentence = ''\n",
    "lemmatizer = WordNetLemmatizer()\n",
    "tokenizer = RegexpTokenizer('\\w+')\n",
    "\n",
    "for word in tokenizer.tokenize(sentence):\n",
    "    if len(word) > 2:\n",
    "        synonyms = wn.synsets(word)\n",
    "\n",
    "        if len(synonyms) > 0:\n",
    "            hypernyms = synonyms[0].hypernyms()\n",
    "            if len(hypernyms) > 0:\n",
    "                new_word = hypernyms[0].lemma_names()[0]\n",
    "                print\n",
    "            else:\n",
    "                new_word = synonyms[0].lemma_names()[0]\n",
    "        else:\n",
    "            new_word = stem(word)\n",
    "\n",
    "        new_sentence += new_word + ' '"
   ]
  },
  {
   "cell_type": "raw",
   "id": "f201d678-81b7-402a-b0ed-d5f06c5d1f6d",
   "metadata": {},
   "source": [
    "new_sentence"
   ]
  },
  {
   "cell_type": "raw",
   "id": "4327301f-53db-466c-8eb8-58db2f603f3e",
   "metadata": {},
   "source": [
    "sentence"
   ]
  },
  {
   "cell_type": "code",
   "execution_count": null,
   "id": "1d532402-ef45-4fac-9fd7-7f3b8eed2280",
   "metadata": {},
   "outputs": [],
   "source": []
  }
 ],
 "metadata": {
  "kernelspec": {
   "display_name": "Python 3",
   "language": "python",
   "name": "python3"
  },
  "language_info": {
   "codemirror_mode": {
    "name": "ipython",
    "version": 3
   },
   "file_extension": ".py",
   "mimetype": "text/x-python",
   "name": "python",
   "nbconvert_exporter": "python",
   "pygments_lexer": "ipython3",
   "version": "3.8.8"
  }
 },
 "nbformat": 4,
 "nbformat_minor": 5
}
