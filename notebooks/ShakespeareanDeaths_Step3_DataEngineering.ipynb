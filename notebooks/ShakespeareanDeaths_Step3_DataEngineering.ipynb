{
 "cells": [
  {
   "cell_type": "code",
   "execution_count": 82,
   "id": "85d17a99-e896-45ce-a745-aae372c4b97d",
   "metadata": {},
   "outputs": [],
   "source": [
    "import pandas as pd\n",
    "import numpy as np\n",
    "import matplotlib.pyplot as plt\n",
    "import seaborn as sns\n",
    "\n",
    "import re\n",
    "from nltk import word_tokenize\n",
    "from nltk.corpus import wordnet as wn\n",
    "from nltk.stem import WordNetLemmatizer\n",
    "from nltk import RegexpTokenizer\n",
    "\n",
    "#Middle English Imports\n",
    "from cltk.tokenizers.enm import MiddleEnglishWordTokenizer\n",
    "from cltk.stem.enm import stem\n",
    "from cltk.tokenizers.enm import MiddleEnglishWordTokenizer"
   ]
  },
  {
   "cell_type": "code",
   "execution_count": 2,
   "id": "885564f4-bf12-449f-8ffd-86bf65e7fbe6",
   "metadata": {},
   "outputs": [],
   "source": [
    "line_df = pd.read_csv('../data/csv/ShakespeareCharacterLines_cleaned.csv', index_col = ['play', 'name', 'line_number'])"
   ]
  },
  {
   "cell_type": "code",
   "execution_count": 3,
   "id": "adef1ea5-2a6e-4f31-99f1-00c0f8b8804b",
   "metadata": {},
   "outputs": [],
   "source": [
    "colon = slice(None)"
   ]
  },
  {
   "cell_type": "markdown",
   "id": "b37ca79d-1570-4703-a900-8c4c39322bb7",
   "metadata": {},
   "source": [
    "- Coriolanus is called Martius for part of the play. Make them the same character."
   ]
  },
  {
   "cell_type": "code",
   "execution_count": 4,
   "id": "fcfe8c9c-c39b-4c6e-be27-2d708476b043",
   "metadata": {},
   "outputs": [],
   "source": [
    "coriolanus = line_df.loc[('coriolanus', ['MARTIUS', 'CORIOLANUS'], colon), :].copy()"
   ]
  },
  {
   "cell_type": "code",
   "execution_count": 5,
   "id": "50ffcf66-7ac9-4278-b6d6-c87884fee1e9",
   "metadata": {},
   "outputs": [],
   "source": [
    "martius_line_max = coriolanus.loc[(colon, 'MARTIUS', colon), :].index.get_level_values(2).max()\n",
    "coriolanus_line_max = coriolanus.loc[(colon, 'CORIOLANUS', colon), :].index.get_level_values(2).max()"
   ]
  },
  {
   "cell_type": "code",
   "execution_count": 6,
   "id": "d19caf8a-8b6b-4393-9417-90e7b03a3889",
   "metadata": {},
   "outputs": [],
   "source": [
    "added_index = [('coriolanus', 'CORIOLANUS', x) for x in range(coriolanus_line_max, coriolanus_line_max + martius_line_max + 1)]\n",
    "coriolanus = pd.concat([coriolanus, pd.DataFrame(columns = coriolanus.columns, index = added_index)])"
   ]
  },
  {
   "cell_type": "code",
   "execution_count": 7,
   "id": "2c5bdc63-149d-46bc-8ad4-436c8a68d33e",
   "metadata": {},
   "outputs": [],
   "source": [
    "coriolanus_new_lines = coriolanus.loc[(colon, 'CORIOLANUS', colon), :].shift(martius_line_max)\n",
    "coriolanus_new_lines.dropna(inplace = True)"
   ]
  },
  {
   "cell_type": "code",
   "execution_count": 8,
   "id": "e4a567ef-5add-4acc-a024-84cd8e1a3a68",
   "metadata": {},
   "outputs": [],
   "source": [
    "martius_lines = coriolanus.loc[(colon, 'MARTIUS', colon), :].copy()\n",
    "coriolanus = pd.concat([martius_lines, coriolanus_new_lines])"
   ]
  },
  {
   "cell_type": "code",
   "execution_count": 9,
   "id": "d15642ad-ff78-49af-948e-d3b1d514d09b",
   "metadata": {},
   "outputs": [],
   "source": [
    "coriolanus.index = coriolanus.index.map(lambda i: (i[0], 'CORIOLANUS', i[2]))"
   ]
  },
  {
   "cell_type": "code",
   "execution_count": 10,
   "id": "ab3a83e0-9b64-40bf-a396-521ec07a45b4",
   "metadata": {},
   "outputs": [
    {
     "data": {
      "text/html": [
       "<div>\n",
       "<style scoped>\n",
       "    .dataframe tbody tr th:only-of-type {\n",
       "        vertical-align: middle;\n",
       "    }\n",
       "\n",
       "    .dataframe tbody tr th {\n",
       "        vertical-align: top;\n",
       "    }\n",
       "\n",
       "    .dataframe thead th {\n",
       "        text-align: right;\n",
       "    }\n",
       "</style>\n",
       "<table border=\"1\" class=\"dataframe\">\n",
       "  <thead>\n",
       "    <tr style=\"text-align: right;\">\n",
       "      <th></th>\n",
       "      <th></th>\n",
       "      <th></th>\n",
       "      <th>line</th>\n",
       "      <th>play_line_number</th>\n",
       "      <th>line_length</th>\n",
       "    </tr>\n",
       "    <tr>\n",
       "      <th>play</th>\n",
       "      <th>name</th>\n",
       "      <th>line_number</th>\n",
       "      <th></th>\n",
       "      <th></th>\n",
       "      <th></th>\n",
       "    </tr>\n",
       "  </thead>\n",
       "  <tbody>\n",
       "    <tr>\n",
       "      <th rowspan=\"11\" valign=\"top\">coriolanus</th>\n",
       "      <th rowspan=\"11\" valign=\"top\">CORIOLANUS</th>\n",
       "      <th>1</th>\n",
       "      <td>Thanks.--What's the matter, you dissentious ro...</td>\n",
       "      <td>48</td>\n",
       "      <td>119</td>\n",
       "    </tr>\n",
       "    <tr>\n",
       "      <th>2</th>\n",
       "      <td>He that will give good words to thee will flat...</td>\n",
       "      <td>50</td>\n",
       "      <td>1008</td>\n",
       "    </tr>\n",
       "    <tr>\n",
       "      <th>3</th>\n",
       "      <td>Hang 'em! They say? They'll sit by th' fire an...</td>\n",
       "      <td>52</td>\n",
       "      <td>477</td>\n",
       "    </tr>\n",
       "    <tr>\n",
       "      <th>4</th>\n",
       "      <td>They are dissolved. Hang 'em! They said they w...</td>\n",
       "      <td>54</td>\n",
       "      <td>492</td>\n",
       "    </tr>\n",
       "    <tr>\n",
       "      <th>5</th>\n",
       "      <td>Five tribunes to defend their vulgar wisdoms, ...</td>\n",
       "      <td>56</td>\n",
       "      <td>293</td>\n",
       "    </tr>\n",
       "    <tr>\n",
       "      <th>...</th>\n",
       "      <td>...</td>\n",
       "      <td>...</td>\n",
       "      <td>...</td>\n",
       "    </tr>\n",
       "    <tr>\n",
       "      <th>183</th>\n",
       "      <td>Hear'st thou, Mars?</td>\n",
       "      <td>1086</td>\n",
       "      <td>19</td>\n",
       "    </tr>\n",
       "    <tr>\n",
       "      <th>184</th>\n",
       "      <td>Ha?</td>\n",
       "      <td>1088</td>\n",
       "      <td>3</td>\n",
       "    </tr>\n",
       "    <tr>\n",
       "      <th>185</th>\n",
       "      <td>Measureless liar, thou hast made my heart Too ...</td>\n",
       "      <td>1090</td>\n",
       "      <td>363</td>\n",
       "    </tr>\n",
       "    <tr>\n",
       "      <th>186</th>\n",
       "      <td>Cut me to pieces, Volsces. Men and lads, Stain...</td>\n",
       "      <td>1092</td>\n",
       "      <td>231</td>\n",
       "    </tr>\n",
       "    <tr>\n",
       "      <th>187</th>\n",
       "      <td>O, that I had him, With six Aufidiuses, or mo...</td>\n",
       "      <td>1097</td>\n",
       "      <td>84</td>\n",
       "    </tr>\n",
       "  </tbody>\n",
       "</table>\n",
       "<p>188 rows × 3 columns</p>\n",
       "</div>"
      ],
      "text/plain": [
       "                                                                                line  \\\n",
       "play       name       line_number                                                      \n",
       "coriolanus CORIOLANUS 1            Thanks.--What's the matter, you dissentious ro...   \n",
       "                      2            He that will give good words to thee will flat...   \n",
       "                      3            Hang 'em! They say? They'll sit by th' fire an...   \n",
       "                      4            They are dissolved. Hang 'em! They said they w...   \n",
       "                      5            Five tribunes to defend their vulgar wisdoms, ...   \n",
       "...                                                                              ...   \n",
       "                      183                                        Hear'st thou, Mars?   \n",
       "                      184                                                        Ha?   \n",
       "                      185          Measureless liar, thou hast made my heart Too ...   \n",
       "                      186          Cut me to pieces, Volsces. Men and lads, Stain...   \n",
       "                      187           O, that I had him, With six Aufidiuses, or mo...   \n",
       "\n",
       "                                  play_line_number line_length  \n",
       "play       name       line_number                               \n",
       "coriolanus CORIOLANUS 1                         48         119  \n",
       "                      2                         50        1008  \n",
       "                      3                         52         477  \n",
       "                      4                         54         492  \n",
       "                      5                         56         293  \n",
       "...                                            ...         ...  \n",
       "                      183                     1086          19  \n",
       "                      184                     1088           3  \n",
       "                      185                     1090         363  \n",
       "                      186                     1092         231  \n",
       "                      187                     1097          84  \n",
       "\n",
       "[188 rows x 3 columns]"
      ]
     },
     "execution_count": 10,
     "metadata": {},
     "output_type": "execute_result"
    }
   ],
   "source": [
    "coriolanus"
   ]
  },
  {
   "cell_type": "code",
   "execution_count": 11,
   "id": "1ffd2d47-725d-4bd2-af9b-c6430d27b679",
   "metadata": {},
   "outputs": [],
   "source": [
    "line_df.drop(line_df.loc[('coriolanus', ['MARTIUS', 'CORIOLANUS'], colon), :].index, inplace = True)"
   ]
  },
  {
   "cell_type": "code",
   "execution_count": 12,
   "id": "efad8d5c-764a-46dd-978f-a703fd9b63ab",
   "metadata": {},
   "outputs": [],
   "source": [
    "line_df = pd.concat([line_df, coriolanus])"
   ]
  },
  {
   "cell_type": "code",
   "execution_count": 13,
   "id": "3f338da2-9102-4534-8301-fd7e3111b3b5",
   "metadata": {},
   "outputs": [],
   "source": [
    "line_df.sort_index(inplace = True)"
   ]
  },
  {
   "cell_type": "markdown",
   "id": "8631b42c-8593-49b7-890a-30978a50129d",
   "metadata": {},
   "source": [
    "- Identify all characters that died by consulting the main texts and outside summaries for verification."
   ]
  },
  {
   "cell_type": "code",
   "execution_count": 14,
   "id": "382b3ca1-785f-41d3-abb1-3cef969099b5",
   "metadata": {
    "tags": []
   },
   "outputs": [],
   "source": [
    "deaths = {'antony-and-cleopatra': ['ENOBARBUS', 'EROS', 'ANTONY', 'IRAS', 'CHARMIAN', 'CLEOPATRA'],\n",
    "          'coriolanus': ['CORIOLANUS'],\n",
    "          'cymbeline': ['QUEEN', 'CLOTEN'],\n",
    "          'hamlet': ['POLONIUS', 'ROSENCRANTZ', 'GUILDENSTERN', 'KING', 'QUEEN', 'LAERTES', 'OPHELIA', 'HAMLET', 'OSRIC'],\n",
    "          'henry-iv-part-1': ['HOTSPUR', 'VERNON', 'WORCESTER', 'BLUNT'],\n",
    "          'henry-iv-part-2': ['KING'],\n",
    "          'henry-v': ['HOSTESS'],\n",
    "          'henry-vi-part-1': ['MORTIMER', 'BEDFORD', 'TALBOT', 'JOHN TALBOT', 'GARGRAVE', 'SALISBURY'],\n",
    "          'henry-vi-part-2': ['CARDINAL', 'GLOUCESTER', 'SUFFOLK', 'CADE', 'SOMERSET', 'CLIFFORD', 'STAFFORD', 'BROTHER', 'SAYE', 'CLERK', 'HORNER', 'SOLDIER'],\n",
    "          'henry-vi-part-3': ['CLIFFORD', 'FATHER', 'SON', 'WARWICK', 'MONTAGUE', 'KING HENRY', 'RUTLAND', 'YORK', 'PRINCE EDWARD'],\n",
    "          'henry-viii': ['WOLSEY', 'BUCKINGHAM'],\n",
    "          'julius-caesar': ['TITINIUS', 'CASSIUS', 'CAESAR', 'CINNA', 'BRUTUS', 'CATO'],\n",
    "          'king-john': ['AUSTRIA', 'ARTHUR', 'KING JOHN', 'CONSTANCE', 'QUEEN ELEANOR'],\n",
    "          'king-lear': ['FIRST SERVANT', 'OSWALD', 'CORDELIA', 'REGAN', 'EDMUND', 'GLOUCESTER', 'LEAR', 'CORNWALL', 'GONERIL'],\n",
    "          'loves-labors-lost': ['KING'],\n",
    "          'macbeth': ['DUNCAN', 'BANQUO', 'LADY MACBETH', 'YOUNG SIWARD', 'MACBETH', 'LADY MACDUFF', 'SON'],\n",
    "          'othello': ['RODERIGO', 'EMILIA', 'OTHELLO', 'DESDEMONA'], \n",
    "          'pericles': ['CLEON', 'DIONYZA', 'ANTIOCHUS', 'DAUGHTER'],\n",
    "          'richard-ii': ['GAUNT', 'BUSHY', 'GREEN', 'RICHARD', 'GLOUCESTER'],\n",
    "          'richard-iii': ['CLARENCE', 'RICHARD', 'KING EDWARD', 'PRINCE', 'YORK', 'RIVERS', 'GREY', 'VAUGHAN', 'BRAKENBURY', 'BUCKINGHAM', 'ANNE', 'HASTINGS'],\n",
    "          'romeo-and-juliet': ['ROMEO', 'JULIET', 'MERCUTIO', 'TYBALT', 'PARIS', 'LADY MONTAGUE'],\n",
    "          'the-two-noble-kinsmen': ['ARCITE'],\n",
    "          'the-winters-tale': ['MAMILLIUS', 'HERMIONE', 'ANTIGONUS'], \n",
    "          'timon-of-athens': ['TIMON'], \n",
    "          'titus-andronicus': ['TITUS', 'MARTIUS', 'QUINTUS', 'MUTIUS', 'TAMORA', 'SATURNINUS', 'AARON', 'BASSIANUS', 'NURSE', 'LAVINIA', 'CHIRON', 'DEMETRIUS'],\n",
    "          'troilus-and-cressida': ['HECTOR', 'PATROCLUS']}"
   ]
  },
  {
   "cell_type": "markdown",
   "id": "fffc1195-c205-49cb-ab97-ba5494ebb9e3",
   "metadata": {},
   "source": [
    "- GLOUCESTER was originally DUCHESS in richard-ii, where there are two characters with line name DUCHESS: the duchess of York and the duchess of Gloucester. She has been renamed in the text itself."
   ]
  },
  {
   "cell_type": "code",
   "execution_count": 15,
   "id": "50a5d037-73d2-4199-9f75-370ec6de3022",
   "metadata": {},
   "outputs": [],
   "source": [
    "line_df['character_dies'] = 0\n",
    "\n",
    "for play, name_arr in deaths.items():\n",
    "    for name in name_arr:\n",
    "        line_df.loc[(play, name, colon), 'character_dies'] = 1"
   ]
  },
  {
   "cell_type": "markdown",
   "id": "85686172-07f8-4df5-992d-4264102ceb7d",
   "metadata": {},
   "source": [
    "- Get number of words per line."
   ]
  },
  {
   "cell_type": "code",
   "execution_count": 16,
   "id": "73d1b9fa-b5aa-49c4-ae23-4596224f0208",
   "metadata": {},
   "outputs": [],
   "source": [
    "line_df['word_count'] = line_df['line']"
   ]
  },
  {
   "cell_type": "code",
   "execution_count": 17,
   "id": "7300206c-272c-4381-aa0a-e36ae610e4f6",
   "metadata": {},
   "outputs": [],
   "source": [
    "line_df['word_count'] = line_df['word_count'].map(lambda line: len(re.findall(r'(\\S+)(?=(\\s*|\\s*\\Z))', line)))"
   ]
  },
  {
   "cell_type": "markdown",
   "id": "4476e8e3-f7f8-4488-b96e-007b3daa6f1b",
   "metadata": {},
   "source": [
    "- Add new features based on total character, word, and line count."
   ]
  },
  {
   "cell_type": "code",
   "execution_count": 18,
   "id": "be83acf3-8b89-49b4-85f4-c6992387267c",
   "metadata": {},
   "outputs": [],
   "source": [
    "line_df['total_character_count'] = 0\n",
    "line_df['max_word_count'] = 0\n",
    "line_df['max_line_count'] = 0"
   ]
  },
  {
   "cell_type": "code",
   "execution_count": 19,
   "id": "72785a75-e0d3-4dde-89bf-2f5a0aa525ec",
   "metadata": {},
   "outputs": [],
   "source": [
    "for index in line_df.index:\n",
    "    play  = index[0]\n",
    "    name = index[1]\n",
    "    \n",
    "    character_slice = line_df.loc[(play, name, colon)]\n",
    "    \n",
    "    line_df.loc[(play, name, colon), 'max_line_count'] = max(list(character_slice.index.get_level_values(2)))\n",
    "    line_df.loc[(play, name, colon), 'max_word_count'] = max(list(character_slice['word_count']))\n",
    "    line_df.loc[(play, name, colon), 'total_character_count'] = sum(list(character_slice['line_length']))"
   ]
  },
  {
   "cell_type": "markdown",
   "id": "08678534-8fac-4b67-973f-61b33fb5c2c9",
   "metadata": {},
   "source": [
    "- Add percent total character, word, and line count features."
   ]
  },
  {
   "cell_type": "code",
   "execution_count": 20,
   "id": "f1d5a48f-dfff-482f-8c07-2e2f2a17844f",
   "metadata": {},
   "outputs": [],
   "source": [
    "for index in line_df.index:\n",
    "    play  = index[0]\n",
    "    name = index[1]\n",
    "    \n",
    "    character_slice = line_df.loc[(play, name, colon)]\n",
    "    play_slice = line_df.loc[(play, colon, colon)]\n",
    "    \n",
    "    line_df.loc[(play, name, colon), 'percent_line_count'] = sum(list(character_slice.index.get_level_values(2))) / sum(list(play_slice['word_count']))\n",
    "    line_df.loc[(play, name, colon), 'percent_word_count'] = sum(list(character_slice['word_count'])) / sum(list(play_slice['word_count']))"
   ]
  },
  {
   "cell_type": "markdown",
   "id": "4ba636d7-9900-4817-80cd-e8516f530c7e",
   "metadata": {},
   "source": [
    "- Stem and lemmatize corpus."
   ]
  },
  {
   "cell_type": "code",
   "execution_count": 41,
   "id": "cc59e511-2fbb-4e44-84e5-ab1f4f249863",
   "metadata": {},
   "outputs": [],
   "source": [
    "mewt = MiddleEnglishWordTokenizer()"
   ]
  },
  {
   "cell_type": "code",
   "execution_count": 85,
   "id": "7651eee8-3767-4bce-a616-e5efa2aaf00f",
   "metadata": {},
   "outputs": [],
   "source": [
    "#def stemmatize(sentence):\n",
    "sentence = line_df.loc[('hamlet', 'HAMLET', 131)]['line'].values[0]\n",
    "sentence.strip('\\\\')\n",
    "sentence = sentence.lower()\n",
    "\n",
    "new_sentence = ''\n",
    "lemmatizer = WordNetLemmatizer()\n",
    "tokenizer = RegexpTokenizer('\\w+')\n",
    "\n",
    "for word in tokenizer.tokenize(sentence):\n",
    "    synonyms = wn.synsets(word)\n",
    "    \n",
    "    if len(synonyms) > 0:\n",
    "        new_word = synonyms[0].lemma_names()[0]\n",
    "    else:\n",
    "        new_word = stem(word)\n",
    "    \n",
    "    new_word = lemmatizer.lemmatize(word)\n",
    "          \n",
    "    if re.search(r'\\w+', word) != None:\n",
    "        new_sentence += new_word + ' '"
   ]
  },
  {
   "cell_type": "code",
   "execution_count": 86,
   "id": "82966e90-cff2-4c86-885a-a313411b1e06",
   "metadata": {},
   "outputs": [
    {
     "data": {
      "text/plain": [
       "'ay so good bye to you now i am alone o what a rogue and peasant slave am i is it not monstrous that this player here but in a fiction in a dream of passion could force his soul so to his own conceit that from her working all his visage wanned tear in his eye distraction in his aspect a broken voice and his whole function suiting with form to his conceit and all for nothing for hecuba what s hecuba to him or he to hecuba that he should weep for her what would he do had he the motive and the cue for passion that i have he would drown the stage with tear and cleave the general ear with horrid speech make mad the guilty and appall the free confound the ignorant and amaze indeed the very faculty of eye and ear yet i a dull and muddy mettled rascal peak like john a dream unpregnant of my cause and can say nothing no not for a king upon whose property and most dear life a damned defeat wa made am i a coward who call me villain break my pate across pluck off my beard and blow it in my face tweak me by the nose give me the lie i th throat a deep a to the lung who doe me this ha swounds i should take it for it cannot be but i am pigeon livered and lack gall to make oppression bitter or ere this i should have fatted all the region kite with this slave s offal bloody bawdy villain remorseless treacherous lecherous kindless villain o vengeance why what an as am i this is most brave that i the son of a dear father murdered prompted to my revenge by heaven and hell must like a whore unpack my heart with word and fall a cursing like a very drab a stallion fie upon t foh about my brain hum i have heard that guilty creature sitting at a play have by the very cunning of the scene been struck so to the soul that presently they have proclaimed their malefactions for murder though it have no tongue will speak with most miraculous organ i ll have these player play something like the murder of my father before mine uncle i ll observe his look i ll tent him to the quick if he do blench i know my course the spirit that i have seen may be a devil and the devil hath power t assume a pleasing shape yea and perhaps out of my weakness and my melancholy a he is very potent with such spirit abuse me to damn me i ll have ground more relative than this the play s the thing wherein i ll catch the conscience of the king '"
      ]
     },
     "execution_count": 86,
     "metadata": {},
     "output_type": "execute_result"
    }
   ],
   "source": [
    "new_sentence"
   ]
  },
  {
   "cell_type": "code",
   "execution_count": null,
   "id": "96437042-3337-4990-b637-ea2fbfb7ae0b",
   "metadata": {},
   "outputs": [],
   "source": []
  }
 ],
 "metadata": {
  "kernelspec": {
   "display_name": "Python 3",
   "language": "python",
   "name": "python3"
  },
  "language_info": {
   "codemirror_mode": {
    "name": "ipython",
    "version": 3
   },
   "file_extension": ".py",
   "mimetype": "text/x-python",
   "name": "python",
   "nbconvert_exporter": "python",
   "pygments_lexer": "ipython3",
   "version": "3.8.8"
  }
 },
 "nbformat": 4,
 "nbformat_minor": 5
}
