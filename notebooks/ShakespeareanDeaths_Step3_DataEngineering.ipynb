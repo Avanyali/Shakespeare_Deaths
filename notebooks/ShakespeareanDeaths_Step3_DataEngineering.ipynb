{
 "cells": [
  {
   "cell_type": "code",
   "execution_count": 1,
   "id": "85d17a99-e896-45ce-a745-aae372c4b97d",
   "metadata": {},
   "outputs": [],
   "source": [
    "import pandas as pd\n",
    "import numpy as np\n",
    "import matplotlib.pyplot as plt\n",
    "import seaborn as sns\n",
    "import shakespeare_functions as sf\n",
    "import shakespeare_dicts as sd\n",
    "\n",
    "from importlib import reload\n",
    "\n",
    "import re\n",
    "import nltk\n",
    "from nltk import word_tokenize\n",
    "from nltk.sentiment import SentimentIntensityAnalyzer\n",
    "from nltk.corpus import wordnet as wn\n",
    "from nltk.stem import WordNetLemmatizer\n",
    "from nltk import RegexpTokenizer\n",
    "\n",
    "from autocorrect import spell\n",
    "\n",
    "import spacy\n",
    "import en_core_web_sm"
   ]
  },
  {
   "cell_type": "code",
   "execution_count": 2,
   "id": "885564f4-bf12-449f-8ffd-86bf65e7fbe6",
   "metadata": {},
   "outputs": [],
   "source": [
    "line_df = pd.read_csv('../data/csv/ShakespeareCharacterLines_cleaned.csv', index_col = ['play', 'name', 'line_number'])"
   ]
  },
  {
   "cell_type": "code",
   "execution_count": 3,
   "id": "adef1ea5-2a6e-4f31-99f1-00c0f8b8804b",
   "metadata": {
    "tags": []
   },
   "outputs": [],
   "source": [
    "colon = slice(None)"
   ]
  },
  {
   "cell_type": "markdown",
   "id": "b37ca79d-1570-4703-a900-8c4c39322bb7",
   "metadata": {},
   "source": [
    "- Coriolanus is called Martius for part of the play. Make them the same character."
   ]
  },
  {
   "cell_type": "code",
   "execution_count": 4,
   "id": "fcfe8c9c-c39b-4c6e-be27-2d708476b043",
   "metadata": {},
   "outputs": [],
   "source": [
    "coriolanus = line_df.loc[('coriolanus', ['MARTIUS', 'CORIOLANUS'], colon), :].copy()"
   ]
  },
  {
   "cell_type": "code",
   "execution_count": 5,
   "id": "50ffcf66-7ac9-4278-b6d6-c87884fee1e9",
   "metadata": {},
   "outputs": [],
   "source": [
    "martius_line_max = coriolanus.loc[(colon, 'MARTIUS', colon), :].index.get_level_values(2).max()\n",
    "coriolanus_line_max = coriolanus.loc[(colon, 'CORIOLANUS', colon), :].index.get_level_values(2).max()"
   ]
  },
  {
   "cell_type": "code",
   "execution_count": 6,
   "id": "d19caf8a-8b6b-4393-9417-90e7b03a3889",
   "metadata": {},
   "outputs": [],
   "source": [
    "added_index = [('coriolanus', 'CORIOLANUS', x) for x in range(coriolanus_line_max, coriolanus_line_max + martius_line_max + 1)]\n",
    "coriolanus = pd.concat([coriolanus, pd.DataFrame(columns = coriolanus.columns, index = added_index)])"
   ]
  },
  {
   "cell_type": "code",
   "execution_count": 7,
   "id": "2c5bdc63-149d-46bc-8ad4-436c8a68d33e",
   "metadata": {},
   "outputs": [],
   "source": [
    "coriolanus_new_lines = coriolanus.loc[(colon, 'CORIOLANUS', colon), :].shift(martius_line_max)\n",
    "coriolanus_new_lines.dropna(inplace = True)"
   ]
  },
  {
   "cell_type": "code",
   "execution_count": 8,
   "id": "e4a567ef-5add-4acc-a024-84cd8e1a3a68",
   "metadata": {},
   "outputs": [],
   "source": [
    "martius_lines = coriolanus.loc[(colon, 'MARTIUS', colon), :].copy()\n",
    "coriolanus = pd.concat([martius_lines, coriolanus_new_lines])"
   ]
  },
  {
   "cell_type": "code",
   "execution_count": 9,
   "id": "d15642ad-ff78-49af-948e-d3b1d514d09b",
   "metadata": {},
   "outputs": [],
   "source": [
    "coriolanus.index = coriolanus.index.map(lambda i: (i[0], 'CORIOLANUS', i[2]))"
   ]
  },
  {
   "cell_type": "code",
   "execution_count": 10,
   "id": "ab3a83e0-9b64-40bf-a396-521ec07a45b4",
   "metadata": {},
   "outputs": [
    {
     "data": {
      "text/html": [
       "<div>\n",
       "<style scoped>\n",
       "    .dataframe tbody tr th:only-of-type {\n",
       "        vertical-align: middle;\n",
       "    }\n",
       "\n",
       "    .dataframe tbody tr th {\n",
       "        vertical-align: top;\n",
       "    }\n",
       "\n",
       "    .dataframe thead th {\n",
       "        text-align: right;\n",
       "    }\n",
       "</style>\n",
       "<table border=\"1\" class=\"dataframe\">\n",
       "  <thead>\n",
       "    <tr style=\"text-align: right;\">\n",
       "      <th></th>\n",
       "      <th></th>\n",
       "      <th></th>\n",
       "      <th>line</th>\n",
       "      <th>play_line_number</th>\n",
       "      <th>line_length</th>\n",
       "    </tr>\n",
       "    <tr>\n",
       "      <th>play</th>\n",
       "      <th>name</th>\n",
       "      <th>line_number</th>\n",
       "      <th></th>\n",
       "      <th></th>\n",
       "      <th></th>\n",
       "    </tr>\n",
       "  </thead>\n",
       "  <tbody>\n",
       "    <tr>\n",
       "      <th rowspan=\"11\" valign=\"top\">coriolanus</th>\n",
       "      <th rowspan=\"11\" valign=\"top\">CORIOLANUS</th>\n",
       "      <th>1</th>\n",
       "      <td>Thanks.--What's the matter, you dissentious ro...</td>\n",
       "      <td>176</td>\n",
       "      <td>51</td>\n",
       "    </tr>\n",
       "    <tr>\n",
       "      <th>2</th>\n",
       "      <td>That, rubbing the poor itch of your opinion,</td>\n",
       "      <td>177</td>\n",
       "      <td>44</td>\n",
       "    </tr>\n",
       "    <tr>\n",
       "      <th>3</th>\n",
       "      <td>Make yourselves scabs?</td>\n",
       "      <td>178</td>\n",
       "      <td>22</td>\n",
       "    </tr>\n",
       "    <tr>\n",
       "      <th>4</th>\n",
       "      <td>He that will give good words to thee will flatter</td>\n",
       "      <td>180</td>\n",
       "      <td>49</td>\n",
       "    </tr>\n",
       "    <tr>\n",
       "      <th>5</th>\n",
       "      <td>Beneath abhorring. What would you have, you curs,</td>\n",
       "      <td>181</td>\n",
       "      <td>49</td>\n",
       "    </tr>\n",
       "    <tr>\n",
       "      <th>...</th>\n",
       "      <td>...</td>\n",
       "      <td>...</td>\n",
       "      <td>...</td>\n",
       "    </tr>\n",
       "    <tr>\n",
       "      <th>980</th>\n",
       "      <td>Fluttered your Volscians in Corioles,</td>\n",
       "      <td>4032</td>\n",
       "      <td>37</td>\n",
       "    </tr>\n",
       "    <tr>\n",
       "      <th>981</th>\n",
       "      <td>Alone I did it. \"Boy\"!</td>\n",
       "      <td>4033</td>\n",
       "      <td>22</td>\n",
       "    </tr>\n",
       "    <tr>\n",
       "      <th>982</th>\n",
       "      <td>O, that I had him,</td>\n",
       "      <td>4047</td>\n",
       "      <td>20</td>\n",
       "    </tr>\n",
       "    <tr>\n",
       "      <th>983</th>\n",
       "      <td>With six Aufidiuses, or more, his tribe,</td>\n",
       "      <td>4048</td>\n",
       "      <td>40</td>\n",
       "    </tr>\n",
       "    <tr>\n",
       "      <th>984</th>\n",
       "      <td>To use my lawful sword.</td>\n",
       "      <td>4049</td>\n",
       "      <td>23</td>\n",
       "    </tr>\n",
       "  </tbody>\n",
       "</table>\n",
       "<p>942 rows × 3 columns</p>\n",
       "</div>"
      ],
      "text/plain": [
       "                                                                                line  \\\n",
       "play       name       line_number                                                      \n",
       "coriolanus CORIOLANUS 1            Thanks.--What's the matter, you dissentious ro...   \n",
       "                      2                 That, rubbing the poor itch of your opinion,   \n",
       "                      3                                       Make yourselves scabs?   \n",
       "                      4            He that will give good words to thee will flatter   \n",
       "                      5            Beneath abhorring. What would you have, you curs,   \n",
       "...                                                                              ...   \n",
       "                      980                      Fluttered your Volscians in Corioles,   \n",
       "                      981                                     Alone I did it. \"Boy\"!   \n",
       "                      982                                         O, that I had him,   \n",
       "                      983                   With six Aufidiuses, or more, his tribe,   \n",
       "                      984                                    To use my lawful sword.   \n",
       "\n",
       "                                  play_line_number line_length  \n",
       "play       name       line_number                               \n",
       "coriolanus CORIOLANUS 1                        176          51  \n",
       "                      2                        177          44  \n",
       "                      3                        178          22  \n",
       "                      4                        180          49  \n",
       "                      5                        181          49  \n",
       "...                                            ...         ...  \n",
       "                      980                     4032          37  \n",
       "                      981                     4033          22  \n",
       "                      982                     4047          20  \n",
       "                      983                     4048          40  \n",
       "                      984                     4049          23  \n",
       "\n",
       "[942 rows x 3 columns]"
      ]
     },
     "execution_count": 10,
     "metadata": {},
     "output_type": "execute_result"
    }
   ],
   "source": [
    "coriolanus"
   ]
  },
  {
   "cell_type": "code",
   "execution_count": 11,
   "id": "1ffd2d47-725d-4bd2-af9b-c6430d27b679",
   "metadata": {},
   "outputs": [],
   "source": [
    "line_df.drop(line_df.loc[('coriolanus', ['MARTIUS', 'CORIOLANUS'], colon), :].index, inplace = True)"
   ]
  },
  {
   "cell_type": "code",
   "execution_count": 12,
   "id": "efad8d5c-764a-46dd-978f-a703fd9b63ab",
   "metadata": {},
   "outputs": [],
   "source": [
    "line_df = pd.concat([line_df, coriolanus])"
   ]
  },
  {
   "cell_type": "code",
   "execution_count": 13,
   "id": "3f338da2-9102-4534-8301-fd7e3111b3b5",
   "metadata": {},
   "outputs": [],
   "source": [
    "line_df.sort_index(inplace = True)"
   ]
  },
  {
   "cell_type": "markdown",
   "id": "8631b42c-8593-49b7-890a-30978a50129d",
   "metadata": {},
   "source": [
    "- Identify all characters that died by consulting the main texts and outside summaries for verification."
   ]
  },
  {
   "cell_type": "code",
   "execution_count": 14,
   "id": "382b3ca1-785f-41d3-abb1-3cef969099b5",
   "metadata": {
    "tags": []
   },
   "outputs": [],
   "source": [
    "deaths = {'antony-and-cleopatra': ['ENOBARBUS', 'EROS', 'ANTONY', 'IRAS', 'CHARMIAN', 'CLEOPATRA'],\n",
    "          'coriolanus': ['CORIOLANUS'],\n",
    "          'cymbeline': ['QUEEN', 'CLOTEN'],\n",
    "          'hamlet': ['POLONIUS', 'ROSENCRANTZ', 'GUILDENSTERN', 'KING', 'QUEEN', 'LAERTES', 'OPHELIA', 'HAMLET', 'OSRIC'],\n",
    "          'henry-iv-part-1': ['HOTSPUR', 'VERNON', 'WORCESTER', 'BLUNT'],\n",
    "          'henry-iv-part-2': ['KING'],\n",
    "          'henry-v': ['HOSTESS'],\n",
    "          'henry-vi-part-1': ['MORTIMER', 'BEDFORD', 'TALBOT', 'JOHN TALBOT', 'GARGRAVE', 'SALISBURY'],\n",
    "          'henry-vi-part-2': ['CARDINAL', 'GLOUCESTER', 'SUFFOLK', 'CADE', 'SOMERSET', 'CLIFFORD', 'STAFFORD', 'BROTHER', 'SAYE', 'CLERK', 'HORNER', 'SOLDIER'],\n",
    "          'henry-vi-part-3': ['CLIFFORD', 'FATHER', 'SON', 'WARWICK', 'MONTAGUE', 'KING HENRY', 'RUTLAND', 'YORK', 'PRINCE EDWARD'],\n",
    "          'henry-viii': ['WOLSEY', 'BUCKINGHAM'],\n",
    "          'julius-caesar': ['TITINIUS', 'CASSIUS', 'CAESAR', 'CINNA', 'BRUTUS', 'CATO'],\n",
    "          'king-john': ['AUSTRIA', 'ARTHUR', 'KING JOHN', 'CONSTANCE', 'QUEEN ELEANOR'],\n",
    "          'king-lear': ['FIRST SERVANT', 'OSWALD', 'CORDELIA', 'REGAN', 'EDMUND', 'GLOUCESTER', 'LEAR', 'CORNWALL', 'GONERIL'],\n",
    "          'loves-labors-lost': ['KING'],\n",
    "          'macbeth': ['DUNCAN', 'BANQUO', 'LADY MACBETH', 'YOUNG SIWARD', 'MACBETH', 'LADY MACDUFF', 'SON'],\n",
    "          'othello': ['RODERIGO', 'EMILIA', 'OTHELLO', 'DESDEMONA'], \n",
    "          'pericles': ['CLEON', 'DIONYZA', 'ANTIOCHUS', 'DAUGHTER'],\n",
    "          'richard-ii': ['GAUNT', 'BUSHY', 'GREEN', 'RICHARD', 'GLOUCESTER'],\n",
    "          'richard-iii': ['CLARENCE', 'RICHARD', 'KING EDWARD', 'PRINCE', 'YORK', 'RIVERS', 'GREY', 'VAUGHAN', 'BRAKENBURY', 'BUCKINGHAM', 'ANNE', 'HASTINGS'],\n",
    "          'romeo-and-juliet': ['ROMEO', 'JULIET', 'MERCUTIO', 'TYBALT', 'PARIS', 'LADY MONTAGUE'],\n",
    "          'the-two-noble-kinsmen': ['ARCITE'],\n",
    "          'the-winters-tale': ['MAMILLIUS', 'HERMIONE', 'ANTIGONUS'], \n",
    "          'timon-of-athens': ['TIMON'], \n",
    "          'titus-andronicus': ['TITUS', 'MARTIUS', 'QUINTUS', 'MUTIUS', 'TAMORA', 'SATURNINUS', 'AARON', 'BASSIANUS', 'NURSE', 'LAVINIA', 'CHIRON', 'DEMETRIUS'],\n",
    "          'troilus-and-cressida': ['HECTOR', 'PATROCLUS']}"
   ]
  },
  {
   "cell_type": "markdown",
   "id": "fffc1195-c205-49cb-ab97-ba5494ebb9e3",
   "metadata": {},
   "source": [
    "- GLOUCESTER was originally DUCHESS in richard-ii, where there are two characters with line name DUCHESS: the duchess of York and the duchess of Gloucester. She has been renamed in the text itself."
   ]
  },
  {
   "cell_type": "code",
   "execution_count": 15,
   "id": "50a5d037-73d2-4199-9f75-370ec6de3022",
   "metadata": {},
   "outputs": [],
   "source": [
    "line_df['character_dies'] = 0\n",
    "\n",
    "for play, name_arr in deaths.items():\n",
    "    for name in name_arr:\n",
    "        line_df.loc[(play, name, colon), 'character_dies'] = 1"
   ]
  },
  {
   "cell_type": "markdown",
   "id": "85686172-07f8-4df5-992d-4264102ceb7d",
   "metadata": {},
   "source": [
    "- Get number of words per line."
   ]
  },
  {
   "cell_type": "code",
   "execution_count": 16,
   "id": "73d1b9fa-b5aa-49c4-ae23-4596224f0208",
   "metadata": {},
   "outputs": [],
   "source": [
    "line_df['word_count'] = line_df['line']"
   ]
  },
  {
   "cell_type": "code",
   "execution_count": 17,
   "id": "7300206c-272c-4381-aa0a-e36ae610e4f6",
   "metadata": {},
   "outputs": [],
   "source": [
    "line_df['word_count'] = line_df['word_count'].map(lambda line: len(re.findall(r'(\\S+)(?=(\\s*|\\s*\\Z))', line)))"
   ]
  },
  {
   "cell_type": "markdown",
   "id": "4476e8e3-f7f8-4488-b96e-007b3daa6f1b",
   "metadata": {},
   "source": [
    "- Add new features based on total character, word, and line count."
   ]
  },
  {
   "cell_type": "code",
   "execution_count": 18,
   "id": "be83acf3-8b89-49b4-85f4-c6992387267c",
   "metadata": {},
   "outputs": [],
   "source": [
    "line_df['total_character_count'] = 0\n",
    "line_df['max_line_count'] = 0"
   ]
  },
  {
   "cell_type": "code",
   "execution_count": 19,
   "id": "98c24d56-ca95-4264-bdea-b02268142bc1",
   "metadata": {},
   "outputs": [],
   "source": [
    "index_without_number = set(zip(line_df.index.get_level_values(0), line_df.index.get_level_values(1)))"
   ]
  },
  {
   "cell_type": "code",
   "execution_count": 20,
   "id": "72785a75-e0d3-4dde-89bf-2f5a0aa525ec",
   "metadata": {},
   "outputs": [],
   "source": [
    "for play, name in index_without_number:\n",
    "    character_slice = line_df.loc[(play, name, colon)]\n",
    "    \n",
    "    line_df.loc[(play, name, colon), 'max_line_count'] = max(list(character_slice.index.get_level_values(2)))\n",
    "    line_df.loc[(play, name, colon), 'total_character_count'] = sum(list(character_slice['line_length']))"
   ]
  },
  {
   "cell_type": "markdown",
   "id": "08678534-8fac-4b67-973f-61b33fb5c2c9",
   "metadata": {},
   "source": [
    "- Add percent total character and line count features."
   ]
  },
  {
   "cell_type": "code",
   "execution_count": 45,
   "id": "f1d5a48f-dfff-482f-8c07-2e2f2a17844f",
   "metadata": {},
   "outputs": [],
   "source": [
    "for play, name in index_without_number:\n",
    "    character_slice = line_df.loc[(play, name, colon)]\n",
    "    play_slice = line_df.loc[(play, colon, colon)]\n",
    "    \n",
    "    line_df.loc[(play, name, colon), 'percent_line_count'] = character_slice['max_line_count'] / max(list(play_slice['play_line_number']))\n",
    "    line_df.loc[(play, name, colon), 'percent_word_count'] = sum(list(character_slice['word_count'])) / sum(list(play_slice['word_count']))"
   ]
  },
  {
   "cell_type": "markdown",
   "id": "a2bfe6f9-cd1e-41be-b338-9dcd21c17547",
   "metadata": {},
   "source": [
    "- Remove excess punctuation."
   ]
  },
  {
   "cell_type": "code",
   "execution_count": 22,
   "id": "16aa0df5-2419-45ad-aa8c-2a50126c12c9",
   "metadata": {},
   "outputs": [],
   "source": [
    "line_df['line'] = line_df['line'].map(sf.clean_punctuation)"
   ]
  },
  {
   "cell_type": "markdown",
   "id": "060365e8-0e51-441e-afcd-4e47e961fed9",
   "metadata": {},
   "source": [
    "- Separate all contractions, replace all poetic apostrophes with correct lettering."
   ]
  },
  {
   "cell_type": "code",
   "execution_count": 23,
   "id": "e32a2aaa-1eb2-43d4-9379-4e0741513ea6",
   "metadata": {},
   "outputs": [],
   "source": [
    "line_df['line'] = line_df['line'].map(sf.clean_contractions)"
   ]
  },
  {
   "cell_type": "markdown",
   "id": "57e3533e-33a4-48b9-9518-5d76e93fb6a2",
   "metadata": {},
   "source": [
    "- Remove \"'s\"s, they will be removed by lemmatizing or stopwords anyway."
   ]
  },
  {
   "cell_type": "code",
   "execution_count": 24,
   "id": "a6b59023-b710-4858-98c4-1b57f2980410",
   "metadata": {},
   "outputs": [],
   "source": [
    "line_df['line'] = line_df['line'].map(lambda x: re.sub(\"\\'s\", '', x))"
   ]
  },
  {
   "cell_type": "markdown",
   "id": "57d7262f-60c9-4d51-8726-104874f63c19",
   "metadata": {},
   "source": [
    "- Modernize anachronistic/poetic words."
   ]
  },
  {
   "cell_type": "code",
   "execution_count": 25,
   "id": "98ab3bd4-276e-4b61-a1a2-1c845a2babe6",
   "metadata": {},
   "outputs": [],
   "source": [
    "line_df['line'] = line_df['line'].map(sf.clean_anachronisms)"
   ]
  },
  {
   "cell_type": "code",
   "execution_count": 26,
   "id": "7b64ae6a-40ab-4838-ac99-49c25fc54d75",
   "metadata": {},
   "outputs": [],
   "source": [
    "line_df['line'] = line_df['line'].map(lambda x: re.sub(r\"-\", ' ', x))"
   ]
  },
  {
   "cell_type": "markdown",
   "id": "11d0ae79-b825-4734-8a33-f609737bb344",
   "metadata": {},
   "source": [
    "- Bring in spaCy for lemmatization, stopwords, NER, and POS tagging. "
   ]
  },
  {
   "cell_type": "code",
   "execution_count": 27,
   "id": "64fad254-7fb4-445a-bee8-b8e93859357a",
   "metadata": {},
   "outputs": [],
   "source": [
    "nlp = en_core_web_sm.load()"
   ]
  },
  {
   "cell_type": "markdown",
   "id": "8e218ff1-cb1b-43a2-b377-218ca3f274e2",
   "metadata": {},
   "source": [
    "- Add personalized stopwords."
   ]
  },
  {
   "cell_type": "code",
   "execution_count": 28,
   "id": "16637435-b524-4fa7-a42e-b7846f8e025a",
   "metadata": {},
   "outputs": [],
   "source": [
    "for stop in sf.get_stopwords():\n",
    "    nlp.vocab[stop].is_stop = True"
   ]
  },
  {
   "cell_type": "markdown",
   "id": "6be12849-4fcc-4983-b1fc-3b322c79d06b",
   "metadata": {},
   "source": [
    "- Get sentiment analysis of lines without proper nouns."
   ]
  },
  {
   "cell_type": "code",
   "execution_count": 29,
   "id": "e13ad516-77c4-4acb-96b1-53815653a02b",
   "metadata": {},
   "outputs": [],
   "source": [
    "line_df.rename(columns = {'line': 'character_line'}, inplace = True)"
   ]
  },
  {
   "cell_type": "code",
   "execution_count": 30,
   "id": "b34d75db-c5a7-429f-9ac2-27d0caa087a3",
   "metadata": {},
   "outputs": [],
   "source": [
    "line_df['pos_sentiment'] = 0\n",
    "line_df['neg_sentiment'] = 0\n",
    "line_df['neu_sentiment'] = 0\n",
    "line_df['compound_sentiment'] = 0"
   ]
  },
  {
   "cell_type": "code",
   "execution_count": 31,
   "id": "ceeb0eff-b23b-49ba-9961-62bde90fea5e",
   "metadata": {},
   "outputs": [],
   "source": [
    "sia = SentimentIntensityAnalyzer()\n",
    "\n",
    "for play, name, line_number, character_line, play_line_number, line_length, character_dies, \\\n",
    "    word_count, total_character_count, max_line_count, \\\n",
    "    percent_line_count, percent_word_count, pos_sentiment, \\\n",
    "    neg_sentiment, neu_sentiment, compound_sentiment in line_df.to_records():\n",
    "    \n",
    "    line = character_line\n",
    "    \n",
    "    doc = nlp(line)\n",
    "    to_sent = \"\"\n",
    "    \n",
    "    for token in doc:\n",
    "        if token.pos_ != 'PROPN':\n",
    "            to_sent += token.text + \" \"\n",
    "       \n",
    "    sent = sia.polarity_scores(to_sent)\n",
    "    \n",
    "    for key, value in sent.items():\n",
    "        if line_df[f'{key}_sentiment'].dtypes != 'float32':\n",
    "            line_df[f'{key}_sentiment'] = line_df[f'{key}_sentiment'].astype(dtype='float32')\n",
    "        line_df.loc[(play, name, line_number), f'{key}_sentiment'] = value"
   ]
  },
  {
   "cell_type": "code",
   "execution_count": 32,
   "id": "e490f2c2-caa4-43af-b0e7-31e8e94fea09",
   "metadata": {},
   "outputs": [],
   "source": [
    "line_df['compound_sentiment'] = line_df['compound_sentiment'].map(lambda x: (x + 1)/2)"
   ]
  },
  {
   "cell_type": "markdown",
   "id": "efafddcf-a340-44c1-bb55-9885ffd675f7",
   "metadata": {},
   "source": [
    "- Final tokenization: remove stopwords, add columns for words, hypernyms, and word types"
   ]
  },
  {
   "cell_type": "code",
   "execution_count": 33,
   "id": "e12bc893-6c11-45da-bc75-733283d7b904",
   "metadata": {},
   "outputs": [],
   "source": [
    "def dict_increment(a_dict, word):\n",
    "    if word in a_dict:\n",
    "        a_dict[word] += 1\n",
    "    else:\n",
    "        a_dict[word] = 1"
   ]
  },
  {
   "cell_type": "code",
   "execution_count": 34,
   "id": "a82df45d-0938-46b4-af90-feac9acc7016",
   "metadata": {},
   "outputs": [
    {
     "name": "stdout",
     "output_type": "stream",
     "text": [
      "Wall time: 26min 16s\n"
     ]
    }
   ],
   "source": [
    "%%time\n",
    "character_names = set(line_df.index.get_level_values(1))\n",
    "\n",
    "for play, name, line_number, character_line, play_line_number, line_length, character_dies, \\\n",
    "    word_count, total_character_count, max_line_count, \\\n",
    "    percent_line_count, percent_word_count, pos_sentiment, \\\n",
    "    neg_sentiment, neu_sentiment, compound_sentiment in line_df.to_records():\n",
    "    \n",
    "    line = character_line\n",
    "    \n",
    "    doc = nlp(line)\n",
    "    block = {}\n",
    "    \n",
    "    for token in doc:\n",
    "        features = []\n",
    "        \n",
    "        if token.text.upper() in character_names:\n",
    "            features.extend([\"character_name\", \"PROPN\"])\n",
    "        else:\n",
    "            if not token.is_stop:\n",
    "                features.extend([token.lemma_.lower(), token.pos_])\n",
    "\n",
    "                syn_text = wn.synsets(token.text.lower())\n",
    "                syn_lemma = wn.synsets(token.lemma_.lower())\n",
    "\n",
    "                #Add hypernym/synonym columns in priority order: word hypernym > lemma hypernym > word synonym > lemma synonym.\n",
    "                if len(syn_text) > 0 and len(syn_text[0].hypernyms()) > 0:\n",
    "                    dict_increment(block, syn_text[0].hypernyms()[0].lemma_names()[0].lower() + \"_hyp\")\n",
    "                elif len(syn_lemma) > 0 and len(syn_lemma[0].hypernyms()) > 0:\n",
    "                    dict_increment(block, syn_lemma[0].hypernyms()[0].lemma_names()[0].lower() + \"_hyp\")\n",
    "                elif len(syn_text) > 0:\n",
    "                    dict_increment(block, syn_text[0].lemma_names()[0].lower() + \"_syn\")\n",
    "                elif len(syn_lemma) > 0:\n",
    "                    dict_increment(block, syn_lemma[0].lemma_names()[0].lower() + \"_syn\")\n",
    "                \n",
    "        for item in features:\n",
    "            dict_increment(block, item)\n",
    "\n",
    "    for word, count in block.items():\n",
    "        if not word in line_df.columns:\n",
    "            line_df[word] = 0\n",
    "            line_df[word] = line_df[word].astype(dtype='uint16')\n",
    "        line_df.loc[(play, name, line_number), word] = count"
   ]
  },
  {
   "cell_type": "code",
   "execution_count": 35,
   "id": "2a840512-2fa1-4806-b92a-5c3ba6703f74",
   "metadata": {},
   "outputs": [
    {
     "data": {
      "text/plain": [
       "(114295, 22147)"
      ]
     },
     "execution_count": 35,
     "metadata": {},
     "output_type": "execute_result"
    }
   ],
   "source": [
    "line_df.shape"
   ]
  },
  {
   "cell_type": "code",
   "execution_count": 36,
   "id": "bdfaa1e5-304f-4b6e-9477-27b94d1091ee",
   "metadata": {},
   "outputs": [],
   "source": [
    "line_df.fillna(value = 0, inplace = True)"
   ]
  },
  {
   "cell_type": "markdown",
   "id": "0efee401-b736-42e1-9968-00de4bbed2c3",
   "metadata": {},
   "source": [
    "- Create aggregated dataframe by character for modeling."
   ]
  },
  {
   "cell_type": "code",
   "execution_count": 37,
   "id": "a400181b-7c5c-46da-a6f7-e4a59c4c3828",
   "metadata": {},
   "outputs": [],
   "source": [
    "to_drop = list(line_df.columns[:10])\n",
    "to_drop.remove('character_dies')"
   ]
  },
  {
   "cell_type": "code",
   "execution_count": 38,
   "id": "ca905c42-ccc7-48ce-8e62-e894031ddebc",
   "metadata": {},
   "outputs": [],
   "source": [
    "char_df = line_df.drop(columns = to_drop).copy()"
   ]
  },
  {
   "cell_type": "code",
   "execution_count": 68,
   "id": "404c46ad-d870-441e-b14f-5c78f3d8ca9a",
   "metadata": {
    "tags": []
   },
   "outputs": [
    {
     "name": "stderr",
     "output_type": "stream",
     "text": [
      "ERROR:root:Internal Python error in the inspect module.\n",
      "Below is the traceback from this internal error.\n",
      "\n"
     ]
    },
    {
     "name": "stdout",
     "output_type": "stream",
     "text": [
      "Traceback (most recent call last):\n",
      "  File \"C:\\ProgramData\\Anaconda3\\lib\\site-packages\\IPython\\core\\interactiveshell.py\", line 3437, in run_code\n",
      "    exec(code_obj, self.user_global_ns, self.user_ns)\n",
      "KeyboardInterrupt\n",
      "\n",
      "During handling of the above exception, another exception occurred:\n",
      "\n",
      "Traceback (most recent call last):\n",
      "  File \"C:\\ProgramData\\Anaconda3\\lib\\site-packages\\IPython\\core\\interactiveshell.py\", line 2061, in showtraceback\n",
      "    stb = value._render_traceback_()\n",
      "AttributeError: 'KeyboardInterrupt' object has no attribute '_render_traceback_'\n",
      "\n",
      "During handling of the above exception, another exception occurred:\n",
      "\n",
      "Traceback (most recent call last):\n",
      "  File \"C:\\ProgramData\\Anaconda3\\lib\\site-packages\\IPython\\core\\ultratb.py\", line 1101, in get_records\n",
      "    return _fixed_getinnerframes(etb, number_of_lines_of_context, tb_offset)\n",
      "  File \"C:\\ProgramData\\Anaconda3\\lib\\site-packages\\IPython\\core\\ultratb.py\", line 248, in wrapped\n",
      "    return f(*args, **kwargs)\n",
      "  File \"C:\\ProgramData\\Anaconda3\\lib\\site-packages\\IPython\\core\\ultratb.py\", line 281, in _fixed_getinnerframes\n",
      "    records = fix_frame_records_filenames(inspect.getinnerframes(etb, context))\n",
      "  File \"C:\\ProgramData\\Anaconda3\\lib\\inspect.py\", line 1515, in getinnerframes\n",
      "    frameinfo = (tb.tb_frame,) + getframeinfo(tb, context)\n",
      "  File \"C:\\ProgramData\\Anaconda3\\lib\\inspect.py\", line 1473, in getframeinfo\n",
      "    filename = getsourcefile(frame) or getfile(frame)\n",
      "  File \"C:\\ProgramData\\Anaconda3\\lib\\inspect.py\", line 705, in getsourcefile\n",
      "    if os.path.exists(filename):\n",
      "  File \"C:\\ProgramData\\Anaconda3\\lib\\genericpath.py\", line 19, in exists\n",
      "    os.stat(path)\n",
      "KeyboardInterrupt\n"
     ]
    },
    {
     "ename": "TypeError",
     "evalue": "object of type 'NoneType' has no len()",
     "output_type": "error",
     "traceback": [
      "\u001b[1;31m---------------------------------------------------------------------------\u001b[0m",
      "\u001b[1;31mKeyboardInterrupt\u001b[0m                         Traceback (most recent call last)",
      "\u001b[1;32mC:\\ProgramData\\Anaconda3\\lib\\site-packages\\IPython\\core\\interactiveshell.py\u001b[0m in \u001b[0;36mrun_code\u001b[1;34m(self, code_obj, result, async_)\u001b[0m\n\u001b[0;32m   3436\u001b[0m                 \u001b[1;32melse\u001b[0m\u001b[1;33m:\u001b[0m\u001b[1;33m\u001b[0m\u001b[1;33m\u001b[0m\u001b[0m\n\u001b[1;32m-> 3437\u001b[1;33m                     \u001b[0mexec\u001b[0m\u001b[1;33m(\u001b[0m\u001b[0mcode_obj\u001b[0m\u001b[1;33m,\u001b[0m \u001b[0mself\u001b[0m\u001b[1;33m.\u001b[0m\u001b[0muser_global_ns\u001b[0m\u001b[1;33m,\u001b[0m \u001b[0mself\u001b[0m\u001b[1;33m.\u001b[0m\u001b[0muser_ns\u001b[0m\u001b[1;33m)\u001b[0m\u001b[1;33m\u001b[0m\u001b[1;33m\u001b[0m\u001b[0m\n\u001b[0m\u001b[0;32m   3438\u001b[0m             \u001b[1;32mfinally\u001b[0m\u001b[1;33m:\u001b[0m\u001b[1;33m\u001b[0m\u001b[1;33m\u001b[0m\u001b[0m\n",
      "\u001b[1;31mKeyboardInterrupt\u001b[0m: ",
      "\nDuring handling of the above exception, another exception occurred:\n",
      "\u001b[1;31mAttributeError\u001b[0m                            Traceback (most recent call last)",
      "\u001b[1;32mC:\\ProgramData\\Anaconda3\\lib\\site-packages\\IPython\\core\\interactiveshell.py\u001b[0m in \u001b[0;36mshowtraceback\u001b[1;34m(self, exc_tuple, filename, tb_offset, exception_only, running_compiled_code)\u001b[0m\n\u001b[0;32m   2060\u001b[0m                         \u001b[1;31m# in the engines. This should return a list of strings.\u001b[0m\u001b[1;33m\u001b[0m\u001b[1;33m\u001b[0m\u001b[1;33m\u001b[0m\u001b[0m\n\u001b[1;32m-> 2061\u001b[1;33m                         \u001b[0mstb\u001b[0m \u001b[1;33m=\u001b[0m \u001b[0mvalue\u001b[0m\u001b[1;33m.\u001b[0m\u001b[0m_render_traceback_\u001b[0m\u001b[1;33m(\u001b[0m\u001b[1;33m)\u001b[0m\u001b[1;33m\u001b[0m\u001b[1;33m\u001b[0m\u001b[0m\n\u001b[0m\u001b[0;32m   2062\u001b[0m                     \u001b[1;32mexcept\u001b[0m \u001b[0mException\u001b[0m\u001b[1;33m:\u001b[0m\u001b[1;33m\u001b[0m\u001b[1;33m\u001b[0m\u001b[0m\n",
      "\u001b[1;31mAttributeError\u001b[0m: 'KeyboardInterrupt' object has no attribute '_render_traceback_'",
      "\nDuring handling of the above exception, another exception occurred:\n",
      "\u001b[1;31mTypeError\u001b[0m                                 Traceback (most recent call last)",
      "    \u001b[1;31m[... skipping hidden 1 frame]\u001b[0m\n",
      "\u001b[1;32mC:\\ProgramData\\Anaconda3\\lib\\site-packages\\IPython\\core\\interactiveshell.py\u001b[0m in \u001b[0;36mshowtraceback\u001b[1;34m(self, exc_tuple, filename, tb_offset, exception_only, running_compiled_code)\u001b[0m\n\u001b[0;32m   2061\u001b[0m                         \u001b[0mstb\u001b[0m \u001b[1;33m=\u001b[0m \u001b[0mvalue\u001b[0m\u001b[1;33m.\u001b[0m\u001b[0m_render_traceback_\u001b[0m\u001b[1;33m(\u001b[0m\u001b[1;33m)\u001b[0m\u001b[1;33m\u001b[0m\u001b[1;33m\u001b[0m\u001b[0m\n\u001b[0;32m   2062\u001b[0m                     \u001b[1;32mexcept\u001b[0m \u001b[0mException\u001b[0m\u001b[1;33m:\u001b[0m\u001b[1;33m\u001b[0m\u001b[1;33m\u001b[0m\u001b[0m\n\u001b[1;32m-> 2063\u001b[1;33m                         stb = self.InteractiveTB.structured_traceback(etype,\n\u001b[0m\u001b[0;32m   2064\u001b[0m                                             value, tb, tb_offset=tb_offset)\n\u001b[0;32m   2065\u001b[0m \u001b[1;33m\u001b[0m\u001b[0m\n",
      "\u001b[1;32mC:\\ProgramData\\Anaconda3\\lib\\site-packages\\IPython\\core\\ultratb.py\u001b[0m in \u001b[0;36mstructured_traceback\u001b[1;34m(self, etype, value, tb, tb_offset, number_of_lines_of_context)\u001b[0m\n\u001b[0;32m   1365\u001b[0m         \u001b[1;32melse\u001b[0m\u001b[1;33m:\u001b[0m\u001b[1;33m\u001b[0m\u001b[1;33m\u001b[0m\u001b[0m\n\u001b[0;32m   1366\u001b[0m             \u001b[0mself\u001b[0m\u001b[1;33m.\u001b[0m\u001b[0mtb\u001b[0m \u001b[1;33m=\u001b[0m \u001b[0mtb\u001b[0m\u001b[1;33m\u001b[0m\u001b[1;33m\u001b[0m\u001b[0m\n\u001b[1;32m-> 1367\u001b[1;33m         return FormattedTB.structured_traceback(\n\u001b[0m\u001b[0;32m   1368\u001b[0m             self, etype, value, tb, tb_offset, number_of_lines_of_context)\n\u001b[0;32m   1369\u001b[0m \u001b[1;33m\u001b[0m\u001b[0m\n",
      "\u001b[1;32mC:\\ProgramData\\Anaconda3\\lib\\site-packages\\IPython\\core\\ultratb.py\u001b[0m in \u001b[0;36mstructured_traceback\u001b[1;34m(self, etype, value, tb, tb_offset, number_of_lines_of_context)\u001b[0m\n\u001b[0;32m   1265\u001b[0m         \u001b[1;32mif\u001b[0m \u001b[0mmode\u001b[0m \u001b[1;32min\u001b[0m \u001b[0mself\u001b[0m\u001b[1;33m.\u001b[0m\u001b[0mverbose_modes\u001b[0m\u001b[1;33m:\u001b[0m\u001b[1;33m\u001b[0m\u001b[1;33m\u001b[0m\u001b[0m\n\u001b[0;32m   1266\u001b[0m             \u001b[1;31m# Verbose modes need a full traceback\u001b[0m\u001b[1;33m\u001b[0m\u001b[1;33m\u001b[0m\u001b[1;33m\u001b[0m\u001b[0m\n\u001b[1;32m-> 1267\u001b[1;33m             return VerboseTB.structured_traceback(\n\u001b[0m\u001b[0;32m   1268\u001b[0m                 \u001b[0mself\u001b[0m\u001b[1;33m,\u001b[0m \u001b[0metype\u001b[0m\u001b[1;33m,\u001b[0m \u001b[0mvalue\u001b[0m\u001b[1;33m,\u001b[0m \u001b[0mtb\u001b[0m\u001b[1;33m,\u001b[0m \u001b[0mtb_offset\u001b[0m\u001b[1;33m,\u001b[0m \u001b[0mnumber_of_lines_of_context\u001b[0m\u001b[1;33m\u001b[0m\u001b[1;33m\u001b[0m\u001b[0m\n\u001b[0;32m   1269\u001b[0m             )\n",
      "\u001b[1;32mC:\\ProgramData\\Anaconda3\\lib\\site-packages\\IPython\\core\\ultratb.py\u001b[0m in \u001b[0;36mstructured_traceback\u001b[1;34m(self, etype, evalue, etb, tb_offset, number_of_lines_of_context)\u001b[0m\n\u001b[0;32m   1122\u001b[0m         \u001b[1;34m\"\"\"Return a nice text document describing the traceback.\"\"\"\u001b[0m\u001b[1;33m\u001b[0m\u001b[1;33m\u001b[0m\u001b[0m\n\u001b[0;32m   1123\u001b[0m \u001b[1;33m\u001b[0m\u001b[0m\n\u001b[1;32m-> 1124\u001b[1;33m         formatted_exception = self.format_exception_as_a_whole(etype, evalue, etb, number_of_lines_of_context,\n\u001b[0m\u001b[0;32m   1125\u001b[0m                                                                tb_offset)\n\u001b[0;32m   1126\u001b[0m \u001b[1;33m\u001b[0m\u001b[0m\n",
      "\u001b[1;32mC:\\ProgramData\\Anaconda3\\lib\\site-packages\\IPython\\core\\ultratb.py\u001b[0m in \u001b[0;36mformat_exception_as_a_whole\u001b[1;34m(self, etype, evalue, etb, number_of_lines_of_context, tb_offset)\u001b[0m\n\u001b[0;32m   1080\u001b[0m \u001b[1;33m\u001b[0m\u001b[0m\n\u001b[0;32m   1081\u001b[0m \u001b[1;33m\u001b[0m\u001b[0m\n\u001b[1;32m-> 1082\u001b[1;33m         \u001b[0mlast_unique\u001b[0m\u001b[1;33m,\u001b[0m \u001b[0mrecursion_repeat\u001b[0m \u001b[1;33m=\u001b[0m \u001b[0mfind_recursion\u001b[0m\u001b[1;33m(\u001b[0m\u001b[0morig_etype\u001b[0m\u001b[1;33m,\u001b[0m \u001b[0mevalue\u001b[0m\u001b[1;33m,\u001b[0m \u001b[0mrecords\u001b[0m\u001b[1;33m)\u001b[0m\u001b[1;33m\u001b[0m\u001b[1;33m\u001b[0m\u001b[0m\n\u001b[0m\u001b[0;32m   1083\u001b[0m \u001b[1;33m\u001b[0m\u001b[0m\n\u001b[0;32m   1084\u001b[0m         \u001b[0mframes\u001b[0m \u001b[1;33m=\u001b[0m \u001b[0mself\u001b[0m\u001b[1;33m.\u001b[0m\u001b[0mformat_records\u001b[0m\u001b[1;33m(\u001b[0m\u001b[0mrecords\u001b[0m\u001b[1;33m,\u001b[0m \u001b[0mlast_unique\u001b[0m\u001b[1;33m,\u001b[0m \u001b[0mrecursion_repeat\u001b[0m\u001b[1;33m)\u001b[0m\u001b[1;33m\u001b[0m\u001b[1;33m\u001b[0m\u001b[0m\n",
      "\u001b[1;32mC:\\ProgramData\\Anaconda3\\lib\\site-packages\\IPython\\core\\ultratb.py\u001b[0m in \u001b[0;36mfind_recursion\u001b[1;34m(etype, value, records)\u001b[0m\n\u001b[0;32m    380\u001b[0m     \u001b[1;31m# first frame (from in to out) that looks different.\u001b[0m\u001b[1;33m\u001b[0m\u001b[1;33m\u001b[0m\u001b[1;33m\u001b[0m\u001b[0m\n\u001b[0;32m    381\u001b[0m     \u001b[1;32mif\u001b[0m \u001b[1;32mnot\u001b[0m \u001b[0mis_recursion_error\u001b[0m\u001b[1;33m(\u001b[0m\u001b[0metype\u001b[0m\u001b[1;33m,\u001b[0m \u001b[0mvalue\u001b[0m\u001b[1;33m,\u001b[0m \u001b[0mrecords\u001b[0m\u001b[1;33m)\u001b[0m\u001b[1;33m:\u001b[0m\u001b[1;33m\u001b[0m\u001b[1;33m\u001b[0m\u001b[0m\n\u001b[1;32m--> 382\u001b[1;33m         \u001b[1;32mreturn\u001b[0m \u001b[0mlen\u001b[0m\u001b[1;33m(\u001b[0m\u001b[0mrecords\u001b[0m\u001b[1;33m)\u001b[0m\u001b[1;33m,\u001b[0m \u001b[1;36m0\u001b[0m\u001b[1;33m\u001b[0m\u001b[1;33m\u001b[0m\u001b[0m\n\u001b[0m\u001b[0;32m    383\u001b[0m \u001b[1;33m\u001b[0m\u001b[0m\n\u001b[0;32m    384\u001b[0m     \u001b[1;31m# Select filename, lineno, func_name to track frames with\u001b[0m\u001b[1;33m\u001b[0m\u001b[1;33m\u001b[0m\u001b[1;33m\u001b[0m\u001b[0m\n",
      "\u001b[1;31mTypeError\u001b[0m: object of type 'NoneType' has no len()"
     ]
    }
   ],
   "source": [
    "new_cols = [key + '_mean' for key in char_df.columns]\n",
    "new_cols.extend([key + '_median' for key in char_df.columns])\n",
    "new_cols.extend([key + '_std' for key in char_df.columns])\n",
    "\n",
    "new_char_df = pd.DataFrame(index = index_without_number, columns = new_cols)\n",
    "\n",
    "for play, name in index_without_number:\n",
    "    character_slice = char_df.loc[(play, name, colon)]\n",
    "\n",
    "    means = character_slice.mean().add_suffix('_mean')\n",
    "    medians =   character_slice.median().add_suffix('_median')\n",
    "    stds = character_slice.std(ddof = 0).add_suffix('_std')\n",
    "    \n",
    "    new_row = pd.concat([means, medians, stds], axis = 0)\n",
    "\n",
    "    new_char_df.loc[(play, name)] = new_row\n",
    "    "
   ]
  },
  {
   "cell_type": "markdown",
   "id": "ed6abba6-9977-4f99-bcbd-640dc5cd46d2",
   "metadata": {},
   "source": [
    "- Create History/Tragedy/Comedy frame for modeling."
   ]
  },
  {
   "cell_type": "code",
   "execution_count": 51,
   "id": "0bd256d4-cbc5-4a6b-ab14-e3ca39b8d39c",
   "metadata": {},
   "outputs": [],
   "source": [
    "comedies = [\"alls-well-that-ends-well\", \"as-you-like-it\", \"the-comedy-of-errors\", \\\n",
    "            \"cymbeline\", \"loves-labors-lost\", \"measure-for-measure\", \\\n",
    "            \"the-merchant-of-venice\", \"the-merry-wives-of-windsor\", \"a-midsummer-nights-dream\", \\\n",
    "            \"much-ado-about-nothing\", \"pericles\", \"the-taming-of-the-shrew\", \"the-tempest\", \\\n",
    "            \"troilus-and-cressida\", \"twelfth-night\", \"the-two-gentlemen-of-verona\", \\\n",
    "            \"the-two-noble-kinsmen\", \"the-winters-tale\"]"
   ]
  },
  {
   "cell_type": "code",
   "execution_count": 52,
   "id": "e0de841e-e73c-4f69-8e52-5bc2f1c570cd",
   "metadata": {},
   "outputs": [],
   "source": [
    "histories = [\"henry-iv-part-1\", \"henry-iv-part-2\", \"henry-v\", \"henry-vi-part-1\", \"henry-vi-part-2\", \\\n",
    "             \"henry-vi-part-3\", \"henry-viii\", \"king-john\", \"richard-ii\", \"richard-iii\"]"
   ]
  },
  {
   "cell_type": "code",
   "execution_count": 53,
   "id": "a4c21bad-1093-417a-b87b-eebb57611799",
   "metadata": {},
   "outputs": [],
   "source": [
    "tragedies = [\"antony-and-cleopatra\", \"coriolanus\", \"hamlet\", \"julius-caesar\", \"king-lear\", \\\n",
    "             \"macbeth\", \"othello\", \"romeo-and-juliet\", \"timon-of-athens\", \"titus-andronicus\"]"
   ]
  },
  {
   "cell_type": "code",
   "execution_count": 69,
   "id": "a31f1be9-5492-4ebc-9feb-90263d158815",
   "metadata": {},
   "outputs": [],
   "source": [
    "new_cols = [key + '_mean' for key in char_df.columns]\n",
    "new_cols.extend([key + '_median' for key in char_df.columns])\n",
    "new_cols.extend([key + '_std' for key in char_df.columns])\n",
    "\n",
    "type_df = pd.DataFrame(index = set(line_df.index.get_level_values(0)), columns = new_cols)\n",
    "\n",
    "for play, name in index_without_number:\n",
    "    play_slice = char_df.loc[(play, colon, colon)]\n",
    "\n",
    "    means = play_slice.mean().add_suffix('_mean')\n",
    "    medians =   play_slice.median().add_suffix('_median')\n",
    "    stds = play_slice.std(ddof = 0).add_suffix('_std')\n",
    "    \n",
    "    new_row = pd.concat([means, medians, stds], axis = 0)\n",
    "\n",
    "    type_df.loc[play] = new_row"
   ]
  },
  {
   "cell_type": "code",
   "execution_count": 71,
   "id": "691f374b-d97f-454a-9ba4-5fe9a5218c6a",
   "metadata": {},
   "outputs": [],
   "source": [
    "type_df['play_type'] = -1"
   ]
  },
  {
   "cell_type": "code",
   "execution_count": 72,
   "id": "3d19811e-b29c-4b93-96f4-4371d76c2bca",
   "metadata": {},
   "outputs": [],
   "source": [
    "for i in type_df.index.tolist():\n",
    "    if i in tragedies:\n",
    "        type_df.loc[i, 'play_type'] = 2\n",
    "    elif i in histories:\n",
    "        type_df.loc[i, 'play_type'] = 1\n",
    "    elif i in comedies:\n",
    "        type_df.loc[i, 'play_type'] = 0"
   ]
  },
  {
   "cell_type": "code",
   "execution_count": 76,
   "id": "43e021db-8baf-4f5a-a408-76fab47bab85",
   "metadata": {},
   "outputs": [],
   "source": [
    "type_df.insert(0, 'play_type', type_df.pop('play_type'))"
   ]
  },
  {
   "cell_type": "markdown",
   "id": "b603215e-6979-48e3-8338-b2a0b91ab017",
   "metadata": {},
   "source": [
    "- Export data."
   ]
  },
  {
   "cell_type": "code",
   "execution_count": 74,
   "id": "7ca8fcda-ef0b-420f-8af9-d4137f8ee472",
   "metadata": {},
   "outputs": [],
   "source": [
    "type_df.drop(columns = ['character_dies_mean', 'character_dies_median', 'character_dies_std'], inplace = True)"
   ]
  },
  {
   "cell_type": "code",
   "execution_count": 40,
   "id": "96417f8a-8aff-4951-9f72-8854f50ec3b8",
   "metadata": {},
   "outputs": [],
   "source": [
    "new_char_df.drop(columns = ['character_dies_median', 'character_dies_std'], inplace = True)"
   ]
  },
  {
   "cell_type": "code",
   "execution_count": 41,
   "id": "f1eefaf2-2649-4c9b-a86d-4b34d43292f3",
   "metadata": {},
   "outputs": [],
   "source": [
    "new_char_df.rename(columns = {'character_dies_mean': 'character_dies'}, inplace = True)"
   ]
  },
  {
   "cell_type": "code",
   "execution_count": 42,
   "id": "01f4babb-7d59-4784-876a-49791515246c",
   "metadata": {},
   "outputs": [],
   "source": [
    "line_df.to_csv('../data/csv/ShakespeareCharacterLines_engineered.csv', index_label = ['play', 'name', 'line_number'])"
   ]
  },
  {
   "cell_type": "code",
   "execution_count": 43,
   "id": "08dbfff4-bb61-41bb-8dad-26a8be7f4380",
   "metadata": {},
   "outputs": [],
   "source": [
    "new_char_df.to_csv('../data/csv/ShakespeareCharacterLines_character_corpus.csv', index_label = ['play', 'name'])"
   ]
  },
  {
   "cell_type": "code",
   "execution_count": 78,
   "id": "058048d3-c683-46c2-b8ff-f17e6c4116f0",
   "metadata": {},
   "outputs": [],
   "source": [
    "type_df.to_csv('../data/csv/ShakespeareCharacterLines_play_corpus.csv', index_label = ['play'])"
   ]
  },
  {
   "cell_type": "markdown",
   "id": "9cf2d64a-68b3-408f-9c9d-7eaf3fa7e423",
   "metadata": {},
   "source": [
    "- On to Step 4 ->"
   ]
  }
 ],
 "metadata": {
  "kernelspec": {
   "display_name": "Python 3",
   "language": "python",
   "name": "python3"
  },
  "language_info": {
   "codemirror_mode": {
    "name": "ipython",
    "version": 3
   },
   "file_extension": ".py",
   "mimetype": "text/x-python",
   "name": "python",
   "nbconvert_exporter": "python",
   "pygments_lexer": "ipython3",
   "version": "3.8.8"
  }
 },
 "nbformat": 4,
 "nbformat_minor": 5
}
