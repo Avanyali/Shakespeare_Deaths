{
 "cells": [
  {
   "cell_type": "code",
   "execution_count": 1,
   "id": "85d17a99-e896-45ce-a745-aae372c4b97d",
   "metadata": {},
   "outputs": [],
   "source": [
    "import pandas as pd\n",
    "import numpy as np\n",
    "import matplotlib.pyplot as plt\n",
    "import seaborn as sns\n",
    "\n",
    "import re\n",
    "from nltk.corpus import wordnet as wn"
   ]
  },
  {
   "cell_type": "code",
   "execution_count": 5,
   "id": "885564f4-bf12-449f-8ffd-86bf65e7fbe6",
   "metadata": {},
   "outputs": [],
   "source": [
    "line_df = pd.read_csv('../data/csv/ShakespeareCharacterLines_cleaned.csv', index_col = ['play', 'name', 'line_number'])"
   ]
  },
  {
   "cell_type": "code",
   "execution_count": 9,
   "id": "adef1ea5-2a6e-4f31-99f1-00c0f8b8804b",
   "metadata": {},
   "outputs": [],
   "source": [
    "colon = slice(None)"
   ]
  },
  {
   "cell_type": "code",
   "execution_count": 54,
   "id": "382b3ca1-785f-41d3-abb1-3cef969099b5",
   "metadata": {},
   "outputs": [],
   "source": [
    "deaths = {'antony-and-cleopatra': ['ENOBARBUS', 'EROS', 'ANTONY', 'IRAS', 'CHARMIAN', 'CLEOPATRA'],\n",
    "          'coriolanus': ['CORIOLANUS', 'MARTIUS'],\n",
    "          'cymbeline': ['QUEEN'],\n",
    "          'hamlet': ['POLONIUS', 'ROSENCRANTZ', 'GUILDENSTERN', 'KING', 'QUEEN', 'LAERTES', 'OPHELIA'],\n",
    "          'henry-iv-part-1': ['HOTSPUR'],\n",
    "          'henry-iv-part-2': ['KING'],\n",
    "          'henry-vi-part-1': ['MORTIMER', 'BEDFORD', 'TALBOT', 'JOHN TALBOT'],\n",
    "          'henry-vi-part-2': ['CARDINAL', 'GLOUCESTER', 'SUFFOLK', 'CADE', 'SOMERSET', 'CLIFFORD', 'STAFFORD', 'BROTHER', 'SAYE', 'CLERK'],\n",
    "          'henry-vi-part-3': ['CLIFFORD', 'FATHER', 'SON', 'WARWICK', 'MONTAGUE', 'KING HENRY', 'RUTLAND', 'YORK'],\n",
    "          'henry-viii': ['WOLSEY', 'BUCKINGHAM'],\n",
    "          'julius-caesar': ['TITINIUS', 'CASSIUS', 'CAESAR', 'CINNA', 'BRUTUS'],\n",
    "          'king-john': ['AUSTRIA', 'ARTHUR', 'KING JOHN', 'CONSTANCE', 'QUEEN ELEANOR'],\n",
    "          'king-lear': ['FIRST SERVANT', 'OSWALD', 'CORDELIA', 'REGAN', 'EDMUND', 'GLOUCESTER', 'LEAR', 'CORNWALL', 'GONERIL'],\n",
    "          'loves-labors-lost': ['KING'],\n",
    "          'macbeth': ['DUNCAN', 'BANQUO', 'LADY MACBETH', 'YOUNG SIWARD', 'MACBETH', 'LADY MACDUFF', 'SON'],\n",
    "          'othello': ['RODERIGO', 'EMILIA', 'OTHELLO', 'DESDEMONA'], \n",
    "          'pericles': ['CLEON', 'DIONYZA'],\n",
    "          'richard-ii': ['GAUNT', 'BUSHY', 'GREEN'],\n",
    "          'richard-iii': ['CLARENCE', 'RICHARD', 'KING EDWARD', 'PRINCE', 'YORK'],\n",
    "          'romeo-and-juliet': ['ROMEO', 'JULIET', 'MERCUTIO', 'TYBALT'],\n",
    "          'the-two-noble-kinsmen': ['ARCITE'],\n",
    "          'the-winters-tale': ['MAMILLIUS', 'HERMIONE', 'ANTIGONUS'], \n",
    "          'timon-of-athens': ['TIMON'], \n",
    "          'titus-andronicus': ['TITUS', 'MARTIUS', 'QUINTUS', 'TAMORA', 'SATURNINUS', 'AARON', 'BASSIANUS', 'NURSE', 'LAVINIA', 'CHIRON', 'DEMETRIUS'],\n",
    "          'troilus-and-cressida': ['HECTOR', 'PATROCLUS']}"
   ]
  },
  {
   "cell_type": "code",
   "execution_count": 61,
   "id": "50a5d037-73d2-4199-9f75-370ec6de3022",
   "metadata": {},
   "outputs": [],
   "source": [
    "line_df['character_dies'] = 0\n",
    "\n",
    "for play, name_arr in deaths.items():\n",
    "    for name in name_arr:\n",
    "        line_df.loc[(play, name, colon), 'character_dies'] = 1"
   ]
  },
  {
   "cell_type": "code",
   "execution_count": null,
   "id": "e9629877-013c-4924-a600-898fecfaf242",
   "metadata": {},
   "outputs": [],
   "source": []
  }
 ],
 "metadata": {
  "kernelspec": {
   "display_name": "Python 3",
   "language": "python",
   "name": "python3"
  },
  "language_info": {
   "codemirror_mode": {
    "name": "ipython",
    "version": 3
   },
   "file_extension": ".py",
   "mimetype": "text/x-python",
   "name": "python",
   "nbconvert_exporter": "python",
   "pygments_lexer": "ipython3",
   "version": "3.7.6"
  }
 },
 "nbformat": 4,
 "nbformat_minor": 5
}
