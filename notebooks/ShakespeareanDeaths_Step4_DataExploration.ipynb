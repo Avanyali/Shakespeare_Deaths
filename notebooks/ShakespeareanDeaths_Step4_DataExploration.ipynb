{
 "cells": [
  {
   "cell_type": "code",
   "execution_count": 1,
   "id": "e8454501-c447-41cc-9036-ec37c392b79c",
   "metadata": {},
   "outputs": [],
   "source": [
    "import pandas as pd\n",
    "import numpy as np\n",
    "import matplotlib.pyplot as plt\n",
    "import seaborn as sns\n",
    "import shakespeare_functions as sf\n",
    "import shakespeare_dicts as sd\n",
    "\n",
    "from importlib import reload\n",
    "\n",
    "import re\n",
    "import nltk\n",
    "from nltk import word_tokenize\n",
    "from nltk.sentiment import SentimentIntensityAnalyzer\n",
    "from nltk.corpus import wordnet as wn\n",
    "from nltk.stem import WordNetLemmatizer\n",
    "from nltk import RegexpTokenizer\n",
    "\n",
    "from autocorrect import spell\n",
    "\n",
    "import spacy\n",
    "import en_core_web_sm"
   ]
  },
  {
   "cell_type": "code",
   "execution_count": 2,
   "id": "562c2faa-c261-4e36-b5ad-c11bcda49a31",
   "metadata": {},
   "outputs": [],
   "source": [
    "line_df = pd.read_csv('../data/csv/ShakespeareCharacterLines_engineered.csv', index_col = ['play', 'name', 'line_number'])"
   ]
  },
  {
   "cell_type": "code",
   "execution_count": 3,
   "id": "4082e68e-efd9-4060-9c3b-8cf3a708c403",
   "metadata": {},
   "outputs": [],
   "source": [
    "char_df = pd.read_csv('../data/csv/ShakespeareCharacterLines_character_corpus.csv', index_col = ['play', 'name'])"
   ]
  },
  {
   "cell_type": "code",
   "execution_count": null,
   "id": "97aeff29-f0eb-4794-8088-0eb327b78ec4",
   "metadata": {
    "tags": []
   },
   "outputs": [],
   "source": [
    "colon = slice(None)"
   ]
  },
  {
   "cell_type": "markdown",
   "id": "cb2274b7-2028-4a4b-8405-5f7ff7bd25d0",
   "metadata": {},
   "source": [
    "- Number of character deaths."
   ]
  },
  {
   "cell_type": "code",
   "execution_count": 61,
   "id": "282e88c3-aa29-4f33-8b2f-14bce9cccad6",
   "metadata": {},
   "outputs": [
    {
     "data": {
      "text/plain": [
       "131"
      ]
     },
     "execution_count": 61,
     "metadata": {},
     "output_type": "execute_result"
    }
   ],
   "source": [
    "char_df['character']"
   ]
  },
  {
   "cell_type": "markdown",
   "id": "f9b3f970-af49-41c2-ad54-6e4e186c7cff",
   "metadata": {},
   "source": [
    "- Check distribution of character maximum lines."
   ]
  },
  {
   "cell_type": "code",
   "execution_count": 66,
   "id": "a297e6ae-1d9c-4b10-911f-76e56e515d87",
   "metadata": {},
   "outputs": [
    {
     "data": {
      "image/png": "[encoded data removed]",
      "text/plain": [
       "<Figure size 432x288 with 1 Axes>"
      ]
     },
     "metadata": {
      "needs_background": "light"
     },
     "output_type": "display_data"
    }
   ],
   "source": [
    "line_counts = {}\n",
    "for index in line_df.index:\n",
    "    play  = index[0]\n",
    "    name = index[1]\n",
    "    \n",
    "    if (play, name) not in line_counts:\n",
    "        line_counts[(play, name)] = line_df.loc[(play, name, colon), 'max_line_count'][0]\n",
    "\n",
    "sns.histplot(line_counts)\n",
    "plt.xlabel('Total number of character lines')\n",
    "plt.title(\"Distribution of total character lines\")\n",
    "plt.show()"
   ]
  },
  {
   "cell_type": "markdown",
   "id": "9efe84dd-9dd7-456d-936f-f8077d9eef5d",
   "metadata": {},
   "source": [
    "- Distribution of total character counts."
   ]
  },
  {
   "cell_type": "code",
   "execution_count": 67,
   "id": "f6ea406f-327f-4574-b55d-5c333ecc1e26",
   "metadata": {
    "tags": []
   },
   "outputs": [
    {
     "data": {
      "image/png": "[encoded data removed]",
      "text/plain": [
       "<Figure size 432x288 with 1 Axes>"
      ]
     },
     "metadata": {
      "needs_background": "light"
     },
     "output_type": "display_data"
    }
   ],
   "source": [
    "character_counts = {}\n",
    "for index in line_df.index:\n",
    "    play  = index[0]\n",
    "    name = index[1]\n",
    "    \n",
    "    if (play, name) not in character_counts:\n",
    "        character_counts[(play, name)] = line_df.loc[(play, name, colon), 'total_character_count'][0]\n",
    "\n",
    "sns.histplot(character_counts)\n",
    "plt.xlabel(\"Character total line characters.\")\n",
    "plt.title(\"Total spoken characters by characters\")\n",
    "plt.show()"
   ]
  },
  {
   "cell_type": "markdown",
   "id": "edf708bb-819b-4aa4-a1d0-b5da7b9267df",
   "metadata": {},
   "source": [
    "- Characters with the most speaking lines."
   ]
  },
  {
   "cell_type": "code",
   "execution_count": 68,
   "id": "d31610fb-b8c6-418e-8a19-2acdaca0f4dc",
   "metadata": {},
   "outputs": [
    {
     "data": {
      "text/plain": [
       "['CLEOPATRA', 'TIMON', 'IAGO', 'OTHELLO', 'HAMLET']"
      ]
     },
     "execution_count": 68,
     "metadata": {},
     "output_type": "execute_result"
    }
   ],
   "source": [
    "temp = []\n",
    "[temp.append(name) for name in line_df.sort_values(by = 'max_line_count').index.get_level_values(1) if name not in temp]\n",
    "temp[-5:]"
   ]
  },
  {
   "cell_type": "markdown",
   "id": "8175e36c-38b9-4f0c-9ca9-06567943a321",
   "metadata": {},
   "source": [
    "- Characters with the longest dialogue overall."
   ]
  },
  {
   "cell_type": "code",
   "execution_count": 69,
   "id": "d1ef959c-e8d0-47b7-bd16-40b118097057",
   "metadata": {},
   "outputs": [
    {
     "data": {
      "text/plain": [
       "['HAMLET', 'ULYSSES', 'EGEON', 'BISHOP OF CANTERBURY', 'PALAMON']"
      ]
     },
     "execution_count": 69,
     "metadata": {},
     "output_type": "execute_result"
    }
   ],
   "source": [
    "temp = []\n",
    "[temp.append(name) for name in line_df.sort_values(by = 'total_character_count').index.get_level_values(1) if name not in temp]\n",
    "temp[-5:]"
   ]
  }
 ],
 "metadata": {
  "kernelspec": {
   "display_name": "Python 3",
   "language": "python",
   "name": "python3"
  },
  "language_info": {
   "codemirror_mode": {
    "name": "ipython",
    "version": 3
   },
   "file_extension": ".py",
   "mimetype": "text/x-python",
   "name": "python",
   "nbconvert_exporter": "python",
   "pygments_lexer": "ipython3",
   "version": "3.8.8"
  }
 },
 "nbformat": 4,
 "nbformat_minor": 5
}
