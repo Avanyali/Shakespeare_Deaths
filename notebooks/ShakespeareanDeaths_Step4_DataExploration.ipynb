{
 "cells": [
  {
   "cell_type": "code",
   "execution_count": 1,
   "id": "e8454501-c447-41cc-9036-ec37c392b79c",
   "metadata": {},
   "outputs": [],
   "source": [
    "import pandas as pd\n",
    "import numpy as np\n",
    "import matplotlib.pyplot as plt\n",
    "import seaborn as sns\n",
    "import shakespeare_functions as sf\n",
    "import shakespeare_dicts as sd\n",
    "\n",
    "from importlib import reload\n",
    "\n",
    "import re\n",
    "import nltk\n",
    "from nltk import word_tokenize\n",
    "from nltk.sentiment import SentimentIntensityAnalyzer\n",
    "from nltk.corpus import wordnet as wn\n",
    "from nltk.stem import WordNetLemmatizer\n",
    "from nltk import RegexpTokenizer\n",
    "\n",
    "from autocorrect import spell\n",
    "\n",
    "import spacy\n",
    "import en_core_web_sm\n",
    "\n",
    "import gc"
   ]
  },
  {
   "cell_type": "markdown",
   "id": "1663dc92-5cf1-4239-816b-546c35406704",
   "metadata": {},
   "source": [
    "- Data import in RAM friendly way."
   ]
  },
  {
   "cell_type": "code",
   "execution_count": 2,
   "id": "562c2faa-c261-4e36-b5ad-c11bcda49a31",
   "metadata": {
    "tags": []
   },
   "outputs": [],
   "source": [
    "line_head = pd.read_csv('../data/csv/ShakespeareCharacterLines_engineered.csv', index_col = ['play', 'name', 'line_number'], \\\n",
    "                     usecols = list(range(0,16)))"
   ]
  },
  {
   "cell_type": "code",
   "execution_count": 3,
   "id": "4f92333a-a9d1-458a-b7d6-06749b01e4d9",
   "metadata": {},
   "outputs": [],
   "source": [
    "line_df = pd.read_csv('../data/csv/ShakespeareCharacterLines_engineered.csv', \\\n",
    "                   usecols = list(range(16,22150)), dtype='uint16')"
   ]
  },
  {
   "cell_type": "code",
   "execution_count": 5,
   "id": "e7d087e3-dfd8-4f4b-96e5-f4af1f1457b2",
   "metadata": {},
   "outputs": [],
   "source": [
    "line_df.index = line_df.index.map(lambda x: line_head.index[x])"
   ]
  },
  {
   "cell_type": "code",
   "execution_count": 6,
   "id": "3c935995-872c-4de9-8cee-ccbeb1854164",
   "metadata": {},
   "outputs": [],
   "source": [
    "line_df = pd.concat([line_head, line_df], axis = 1)"
   ]
  },
  {
   "cell_type": "code",
   "execution_count": 7,
   "id": "4082e68e-efd9-4060-9c3b-8cf3a708c403",
   "metadata": {},
   "outputs": [],
   "source": [
    "char_df = pd.read_csv('../data/csv/ShakespeareCharacterLines_character_corpus.csv', index_col = ['play', 'name'])"
   ]
  },
  {
   "cell_type": "code",
   "execution_count": 8,
   "id": "a4c4d7bd-5eeb-4e74-8a1c-78c862f924a5",
   "metadata": {},
   "outputs": [],
   "source": [
    "type_df = pd.read_csv('../data/csv/ShakespeareCharacterLines_play_corpus.csv', index_col = ['play'])"
   ]
  },
  {
   "cell_type": "code",
   "execution_count": 9,
   "id": "97aeff29-f0eb-4794-8088-0eb327b78ec4",
   "metadata": {
    "tags": []
   },
   "outputs": [],
   "source": [
    "colon = slice(None)"
   ]
  },
  {
   "cell_type": "markdown",
   "id": "cb2274b7-2028-4a4b-8405-5f7ff7bd25d0",
   "metadata": {},
   "source": [
    "- Number of character deaths."
   ]
  },
  {
   "cell_type": "code",
   "execution_count": 10,
   "id": "282e88c3-aa29-4f33-8b2f-14bce9cccad6",
   "metadata": {},
   "outputs": [
    {
     "data": {
      "text/plain": [
       "0.0    1262\n",
       "1.0     131\n",
       "Name: character_dies, dtype: int64"
      ]
     },
     "execution_count": 10,
     "metadata": {},
     "output_type": "execute_result"
    }
   ],
   "source": [
    "char_df['character_dies'].value_counts()"
   ]
  },
  {
   "cell_type": "markdown",
   "id": "f9b3f970-af49-41c2-ad54-6e4e186c7cff",
   "metadata": {},
   "source": [
    "- Check distribution of character maximum lines."
   ]
  },
  {
   "cell_type": "code",
   "execution_count": 12,
   "id": "a297e6ae-1d9c-4b10-911f-76e56e515d87",
   "metadata": {
    "tags": []
   },
   "outputs": [
    {
     "data": {
      "image/png": "[encoded data removed]",
      "text/plain": [
       "<Figure size 432x288 with 1 Axes>"
      ]
     },
     "metadata": {
      "needs_background": "light"
     },
     "output_type": "display_data"
    }
   ],
   "source": [
    "line_counts = {}\n",
    "for index in line_head.index:\n",
    "    play  = index[0]\n",
    "    name = index[1]\n",
    "    \n",
    "    if (play, name) not in line_counts:\n",
    "        line_counts[(play, name)] = line_head.loc[(play, name, colon), 'max_line_count'][0]\n",
    "\n",
    "sns.histplot(line_counts)\n",
    "plt.xlabel('Total number of character lines')\n",
    "plt.title(\"Distribution of total character lines\")\n",
    "plt.show()"
   ]
  },
  {
   "cell_type": "markdown",
   "id": "9efe84dd-9dd7-456d-936f-f8077d9eef5d",
   "metadata": {},
   "source": [
    "- Distribution of total character counts."
   ]
  },
  {
   "cell_type": "code",
   "execution_count": 13,
   "id": "f6ea406f-327f-4574-b55d-5c333ecc1e26",
   "metadata": {
    "tags": []
   },
   "outputs": [
    {
     "data": {
      "image/png": "[encoded data removed]",
      "text/plain": [
       "<Figure size 432x288 with 1 Axes>"
      ]
     },
     "metadata": {
      "needs_background": "light"
     },
     "output_type": "display_data"
    }
   ],
   "source": [
    "character_counts = {}\n",
    "for index in line_head.index:\n",
    "    play  = index[0]\n",
    "    name = index[1]\n",
    "    \n",
    "    if (play, name) not in character_counts:\n",
    "        character_counts[(play, name)] = line_head.loc[(play, name, colon), 'total_character_count'][0]\n",
    "\n",
    "sns.histplot(character_counts)\n",
    "plt.xlabel(\"Character total line characters.\")\n",
    "plt.title(\"Total spoken characters by characters\")\n",
    "plt.show()"
   ]
  },
  {
   "cell_type": "markdown",
   "id": "edf708bb-819b-4aa4-a1d0-b5da7b9267df",
   "metadata": {},
   "source": [
    "- Characters with the most speaking lines."
   ]
  },
  {
   "cell_type": "code",
   "execution_count": 34,
   "id": "06c88a56-9d15-4fe8-a2b3-8c655d883f4d",
   "metadata": {},
   "outputs": [],
   "source": [
    "def characters_with_most(group, num = 7):\n",
    "    temp = []\n",
    "    [temp.append(name) for name in line_head.sort_values(by = group).index.get_level_values(1) if name not in temp]\n",
    "    temp.reverse()\n",
    "    return temp[:num]"
   ]
  },
  {
   "cell_type": "code",
   "execution_count": 30,
   "id": "d31610fb-b8c6-418e-8a19-2acdaca0f4dc",
   "metadata": {},
   "outputs": [
    {
     "data": {
      "text/plain": [
       "['HAMLET', 'IAGO', 'CORIOLANUS', 'OTHELLO', 'TIMON', 'LEAR', 'MACBETH']"
      ]
     },
     "execution_count": 30,
     "metadata": {},
     "output_type": "execute_result"
    }
   ],
   "source": [
    "characters_with_most('max_line_count')"
   ]
  },
  {
   "cell_type": "markdown",
   "id": "8175e36c-38b9-4f0c-9ca9-06567943a321",
   "metadata": {},
   "source": [
    "- Characters with the longest dialogue overall."
   ]
  },
  {
   "cell_type": "code",
   "execution_count": 31,
   "id": "d1ef959c-e8d0-47b7-bd16-40b118097057",
   "metadata": {
    "tags": []
   },
   "outputs": [
    {
     "data": {
      "text/plain": [
       "['HAMLET', 'IAGO', 'TIMON', 'CORIOLANUS', 'OTHELLO', 'LEAR', 'MACBETH']"
      ]
     },
     "execution_count": 31,
     "metadata": {},
     "output_type": "execute_result"
    }
   ],
   "source": [
    "characters_with_most('total_character_count')"
   ]
  },
  {
   "cell_type": "markdown",
   "id": "92d8477d-14e3-4585-b8af-20184203bdf0",
   "metadata": {},
   "source": [
    "- Characters that dominate the dialogue of their respective plays."
   ]
  },
  {
   "cell_type": "code",
   "execution_count": 32,
   "id": "6d9697e0-4988-4b99-aeae-8ff86fcfd034",
   "metadata": {},
   "outputs": [
    {
     "data": {
      "text/plain": [
       "['HAMLET', 'TIMON', 'MACBETH', 'IAGO', 'PROSPERO', 'ROSALIND', 'OTHELLO']"
      ]
     },
     "execution_count": 32,
     "metadata": {},
     "output_type": "execute_result"
    }
   ],
   "source": [
    "characters_with_most('percent_line_count')"
   ]
  },
  {
   "cell_type": "markdown",
   "id": "f823e0d7-52fe-4763-aad1-9233e46d4555",
   "metadata": {},
   "source": [
    "- Most negative characters."
   ]
  },
  {
   "cell_type": "code",
   "execution_count": 35,
   "id": "9cf67f2a-9b26-45d1-8174-d70ffe55ae0d",
   "metadata": {},
   "outputs": [
    {
     "data": {
      "text/plain": [
       "['FIRST PIRATE',\n",
       " 'ALL CONSPIRATORS',\n",
       " 'GHOST OF VAUGHAN',\n",
       " 'ALL THE SERVITORS',\n",
       " 'MARINERS']"
      ]
     },
     "execution_count": 35,
     "metadata": {},
     "output_type": "execute_result"
    }
   ],
   "source": [
    "characters_with_most('neg_sentiment', 5)"
   ]
  },
  {
   "cell_type": "markdown",
   "id": "5817d2ed-96db-467e-9792-a6c725832159",
   "metadata": {},
   "source": [
    "- Most positive characters."
   ]
  },
  {
   "cell_type": "code",
   "execution_count": 36,
   "id": "339a574f-7a9d-477b-92fd-883f578bafee",
   "metadata": {},
   "outputs": [
    {
     "data": {
      "text/plain": [
       "['BAVIAN', 'OUTLAWS', 'SECOND PIRATE', 'OFFICERS', 'AEDILES']"
      ]
     },
     "execution_count": 36,
     "metadata": {},
     "output_type": "execute_result"
    }
   ],
   "source": [
    "characters_with_most('pos_sentiment', 5)"
   ]
  },
  {
   "cell_type": "markdown",
   "id": "d5b478ec-8261-43c2-8dc7-2e9d12238a13",
   "metadata": {},
   "source": [
    "- Characters with highest compound sentiment."
   ]
  },
  {
   "cell_type": "code",
   "execution_count": 37,
   "id": "32b3d713-596a-49c0-b1f8-83692602cea8",
   "metadata": {},
   "outputs": [
    {
     "data": {
      "text/plain": [
       "['OUTLAWS', 'AEDILES', 'SENATORS', 'OFFICERS', 'SECOND PIRATE']"
      ]
     },
     "execution_count": 37,
     "metadata": {},
     "output_type": "execute_result"
    }
   ],
   "source": [
    "characters_with_most('compound_sentiment', 5)"
   ]
  },
  {
   "cell_type": "markdown",
   "id": "0277c953-3e01-4f2e-85c9-2677b9800164",
   "metadata": {},
   "source": [
    "- Additional statistics."
   ]
  },
  {
   "cell_type": "code",
   "execution_count": 38,
   "id": "85590b35-6ead-43ab-aa05-a1c300b22bda",
   "metadata": {},
   "outputs": [],
   "source": [
    "line_stats = line_df.describe()"
   ]
  },
  {
   "cell_type": "markdown",
   "id": "3c6cd5b8-e5ba-443d-a806-e2dc4048c908",
   "metadata": {},
   "source": [
    "- Maximum times a word used by a character."
   ]
  },
  {
   "cell_type": "code",
   "execution_count": 71,
   "id": "53cadbb0-e0c3-4131-8638-5fb8c6e4f8b9",
   "metadata": {},
   "outputs": [
    {
     "data": {
      "text/plain": [
       "<AxesSubplot:>"
      ]
     },
     "execution_count": 71,
     "metadata": {},
     "output_type": "execute_result"
    },
    {
     "data": {
      "image/png": "[encoded data removed]",
      "text/plain": [
       "<Figure size 432x288 with 1 Axes>"
      ]
     },
     "metadata": {
      "needs_background": "light"
     },
     "output_type": "display_data"
    }
   ],
   "source": [
    "maxima_keys = list(line_stats.loc['max'].sort_values(ascending = False).to_dict().keys())\n",
    "maxima_values = list(line_stats.loc['max'].sort_values(ascending = False).to_dict().values())\n",
    "sns.barplot(y = maxima_keys[5:25], x = maxima_values[5:25])"
   ]
  },
  {
   "cell_type": "markdown",
   "id": "9686b635-bf18-4aa4-8e09-ead3c63c3768",
   "metadata": {},
   "source": [
    "- Most frequently used words."
   ]
  },
  {
   "cell_type": "code",
   "execution_count": 69,
   "id": "746b2323-123d-4dc8-893d-d97e97b7a45c",
   "metadata": {},
   "outputs": [
    {
     "data": {
      "text/plain": [
       "<AxesSubplot:>"
      ]
     },
     "execution_count": 69,
     "metadata": {},
     "output_type": "execute_result"
    },
    {
     "data": {
      "image/png": "[encoded data removed]",
      "text/plain": [
       "<Figure size 432x288 with 1 Axes>"
      ]
     },
     "metadata": {
      "needs_background": "light"
     },
     "output_type": "display_data"
    }
   ],
   "source": [
    "mean_keys = list(line_stats.loc['mean'].sort_values(ascending = False).to_dict().keys())\n",
    "mean_values = list(line_stats.loc['mean'].sort_values(ascending = False).to_dict().values())\n",
    "sns.barplot(y = mean_keys[18:38], x = mean_values[18:38])"
   ]
  },
  {
   "cell_type": "markdown",
   "id": "f3d70caa-53c8-4afa-b9ce-06a1076e8c21",
   "metadata": {},
   "source": [
    "- Most variant words."
   ]
  },
  {
   "cell_type": "code",
   "execution_count": 70,
   "id": "49817186-97d0-4a4f-832b-7beca2028a45",
   "metadata": {},
   "outputs": [
    {
     "data": {
      "text/plain": [
       "<AxesSubplot:>"
      ]
     },
     "execution_count": 70,
     "metadata": {},
     "output_type": "execute_result"
    },
    {
     "data": {
      "image/png": "[encoded data removed]",
      "text/plain": [
       "<Figure size 432x288 with 1 Axes>"
      ]
     },
     "metadata": {
      "needs_background": "light"
     },
     "output_type": "display_data"
    }
   ],
   "source": [
    "std_keys = list(line_stats.loc['std'].sort_values(ascending = False).to_dict().keys())\n",
    "std_values = list(line_stats.loc['std'].sort_values(ascending = False).to_dict().values())\n",
    "sns.barplot(y = std_keys[18:38], x = std_values[18:38])"
   ]
  },
  {
   "cell_type": "markdown",
   "id": "167b500a-41c7-43d7-adf5-ec1bf2b5847a",
   "metadata": {},
   "source": [
    "- On to step 5 ->"
   ]
  }
 ],
 "metadata": {
  "kernelspec": {
   "display_name": "Python 3",
   "language": "python",
   "name": "python3"
  },
  "language_info": {
   "codemirror_mode": {
    "name": "ipython",
    "version": 3
   },
   "file_extension": ".py",
   "mimetype": "text/x-python",
   "name": "python",
   "nbconvert_exporter": "python",
   "pygments_lexer": "ipython3",
   "version": "3.8.8"
  }
 },
 "nbformat": 4,
 "nbformat_minor": 5
}
