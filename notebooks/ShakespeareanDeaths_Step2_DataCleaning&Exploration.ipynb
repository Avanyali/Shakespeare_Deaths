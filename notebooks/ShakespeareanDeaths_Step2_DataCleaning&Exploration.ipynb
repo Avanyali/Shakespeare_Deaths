{
 "cells": [
  {
   "cell_type": "code",
   "execution_count": 1,
   "id": "820b2e2f",
   "metadata": {},
   "outputs": [],
   "source": [
    "import pandas as pd\n",
    "import numpy as np\n",
    "import matplotlib.pyplot as plt\n",
    "import seaborn as sns\n",
    "\n",
    "import re"
   ]
  },
  {
   "cell_type": "markdown",
   "id": "f81bf834",
   "metadata": {},
   "source": [
    "***Step 2: Data Cleaning and Exploration***"
   ]
  },
  {
   "cell_type": "code",
   "execution_count": 2,
   "id": "60063d62",
   "metadata": {
    "tags": []
   },
   "outputs": [],
   "source": [
    "line_df = pd.read_csv('../data/csv/ShakespeareCharacterLines.csv')"
   ]
  },
  {
   "cell_type": "code",
   "execution_count": 3,
   "id": "eacca275",
   "metadata": {},
   "outputs": [
    {
     "data": {
      "text/html": [
       "<div>\n",
       "<style scoped>\n",
       "    .dataframe tbody tr th:only-of-type {\n",
       "        vertical-align: middle;\n",
       "    }\n",
       "\n",
       "    .dataframe tbody tr th {\n",
       "        vertical-align: top;\n",
       "    }\n",
       "\n",
       "    .dataframe thead th {\n",
       "        text-align: right;\n",
       "    }\n",
       "</style>\n",
       "<table border=\"1\" class=\"dataframe\">\n",
       "  <thead>\n",
       "    <tr style=\"text-align: right;\">\n",
       "      <th></th>\n",
       "      <th>play</th>\n",
       "      <th>name</th>\n",
       "      <th>line</th>\n",
       "      <th>character_line_number</th>\n",
       "      <th>play_line_number</th>\n",
       "    </tr>\n",
       "  </thead>\n",
       "  <tbody>\n",
       "    <tr>\n",
       "      <th>0</th>\n",
       "      <td>a-midsummer-nights-dream</td>\n",
       "      <td>THESEUS</td>\n",
       "      <td>Now, fair Hippolyta, our nuptial hour\\nDraws o...</td>\n",
       "      <td>1</td>\n",
       "      <td>1</td>\n",
       "    </tr>\n",
       "    <tr>\n",
       "      <th>1</th>\n",
       "      <td>a-midsummer-nights-dream</td>\n",
       "      <td>HIPPOLYTA</td>\n",
       "      <td>Four days will quickly steep themselves in nig...</td>\n",
       "      <td>1</td>\n",
       "      <td>2</td>\n",
       "    </tr>\n",
       "    <tr>\n",
       "      <th>2</th>\n",
       "      <td>a-midsummer-nights-dream</td>\n",
       "      <td>THESEUS</td>\n",
       "      <td>Go, Philostrate,\\nStir up the Athenian youth t...</td>\n",
       "      <td>2</td>\n",
       "      <td>3</td>\n",
       "    </tr>\n",
       "    <tr>\n",
       "      <th>3</th>\n",
       "      <td>a-midsummer-nights-dream</td>\n",
       "      <td>EGEUS</td>\n",
       "      <td>Happy be Theseus, our renowned duke!\\n\\n</td>\n",
       "      <td>1</td>\n",
       "      <td>4</td>\n",
       "    </tr>\n",
       "    <tr>\n",
       "      <th>4</th>\n",
       "      <td>a-midsummer-nights-dream</td>\n",
       "      <td>THESEUS</td>\n",
       "      <td>Thanks, good Egeus. What's the news with thee?...</td>\n",
       "      <td>3</td>\n",
       "      <td>5</td>\n",
       "    </tr>\n",
       "  </tbody>\n",
       "</table>\n",
       "</div>"
      ],
      "text/plain": [
       "                       play       name  \\\n",
       "0  a-midsummer-nights-dream    THESEUS   \n",
       "1  a-midsummer-nights-dream  HIPPOLYTA   \n",
       "2  a-midsummer-nights-dream    THESEUS   \n",
       "3  a-midsummer-nights-dream      EGEUS   \n",
       "4  a-midsummer-nights-dream    THESEUS   \n",
       "\n",
       "                                                line  character_line_number  \\\n",
       "0  Now, fair Hippolyta, our nuptial hour\\nDraws o...                      1   \n",
       "1  Four days will quickly steep themselves in nig...                      1   \n",
       "2  Go, Philostrate,\\nStir up the Athenian youth t...                      2   \n",
       "3           Happy be Theseus, our renowned duke!\\n\\n                      1   \n",
       "4  Thanks, good Egeus. What's the news with thee?...                      3   \n",
       "\n",
       "   play_line_number  \n",
       "0                 1  \n",
       "1                 2  \n",
       "2                 3  \n",
       "3                 4  \n",
       "4                 5  "
      ]
     },
     "execution_count": 3,
     "metadata": {},
     "output_type": "execute_result"
    }
   ],
   "source": [
    "line_df.head()"
   ]
  },
  {
   "cell_type": "code",
   "execution_count": 4,
   "id": "243d6067",
   "metadata": {},
   "outputs": [
    {
     "data": {
      "text/plain": [
       "(31816, 5)"
      ]
     },
     "execution_count": 4,
     "metadata": {},
     "output_type": "execute_result"
    }
   ],
   "source": [
    "line_df.shape"
   ]
  },
  {
   "cell_type": "markdown",
   "id": "b947ed4f",
   "metadata": {},
   "source": [
    "- Check for improperly processed lines."
   ]
  },
  {
   "cell_type": "code",
   "execution_count": 5,
   "id": "3abd31ca",
   "metadata": {},
   "outputs": [],
   "source": [
    "line_df['line_length'] = line_df['line']\n",
    "line_df['line_length'] = line_df['line_length'].map(len)"
   ]
  },
  {
   "cell_type": "code",
   "execution_count": 6,
   "id": "c7c5481d",
   "metadata": {},
   "outputs": [
    {
     "data": {
      "text/html": [
       "<div>\n",
       "<style scoped>\n",
       "    .dataframe tbody tr th:only-of-type {\n",
       "        vertical-align: middle;\n",
       "    }\n",
       "\n",
       "    .dataframe tbody tr th {\n",
       "        vertical-align: top;\n",
       "    }\n",
       "\n",
       "    .dataframe thead th {\n",
       "        text-align: right;\n",
       "    }\n",
       "</style>\n",
       "<table border=\"1\" class=\"dataframe\">\n",
       "  <thead>\n",
       "    <tr style=\"text-align: right;\">\n",
       "      <th></th>\n",
       "      <th>play</th>\n",
       "      <th>name</th>\n",
       "      <th>line</th>\n",
       "      <th>character_line_number</th>\n",
       "      <th>play_line_number</th>\n",
       "      <th>line_length</th>\n",
       "    </tr>\n",
       "  </thead>\n",
       "  <tbody>\n",
       "    <tr>\n",
       "      <th>1099</th>\n",
       "      <td>alls-well-that-ends-well</td>\n",
       "      <td>PAROLLES</td>\n",
       "      <td>O!\\n\\n</td>\n",
       "      <td>98</td>\n",
       "      <td>595</td>\n",
       "      <td>4</td>\n",
       "    </tr>\n",
       "    <tr>\n",
       "      <th>2210</th>\n",
       "      <td>antony-and-cleopatra</td>\n",
       "      <td>CLEOPATRA</td>\n",
       "      <td>O!\\n\\n</td>\n",
       "      <td>117</td>\n",
       "      <td>770</td>\n",
       "      <td>4</td>\n",
       "    </tr>\n",
       "    <tr>\n",
       "      <th>24930</th>\n",
       "      <td>the-taming-of-the-shrew</td>\n",
       "      <td>PETER</td>\n",
       "      <td>I.\\n\\n</td>\n",
       "      <td>23</td>\n",
       "      <td>461</td>\n",
       "      <td>4</td>\n",
       "    </tr>\n",
       "  </tbody>\n",
       "</table>\n",
       "</div>"
      ],
      "text/plain": [
       "                           play       name    line  character_line_number  \\\n",
       "1099   alls-well-that-ends-well   PAROLLES  O!\\n\\n                     98   \n",
       "2210       antony-and-cleopatra  CLEOPATRA  O!\\n\\n                    117   \n",
       "24930   the-taming-of-the-shrew      PETER  I.\\n\\n                     23   \n",
       "\n",
       "       play_line_number  line_length  \n",
       "1099                595            4  \n",
       "2210                770            4  \n",
       "24930               461            4  "
      ]
     },
     "execution_count": 6,
     "metadata": {},
     "output_type": "execute_result"
    }
   ],
   "source": [
    "line_df[line_df['line_length'] <5]"
   ]
  },
  {
   "cell_type": "code",
   "execution_count": 7,
   "id": "2a7e6f66",
   "metadata": {},
   "outputs": [
    {
     "data": {
      "text/plain": [
       "[]"
      ]
     },
     "execution_count": 7,
     "metadata": {},
     "output_type": "execute_result"
    }
   ],
   "source": [
    "[name for name in list(line_df['name'].to_dict().values()) if ',' in name]"
   ]
  },
  {
   "cell_type": "code",
   "execution_count": 8,
   "id": "185632a0",
   "metadata": {},
   "outputs": [
    {
     "data": {
      "text/plain": [
       "[]"
      ]
     },
     "execution_count": 8,
     "metadata": {},
     "output_type": "execute_result"
    }
   ],
   "source": [
    "[name for name in list(line_df['name'].to_dict().values()) if 'and' in name]"
   ]
  },
  {
   "cell_type": "code",
   "execution_count": 9,
   "id": "baf97a6a",
   "metadata": {},
   "outputs": [
    {
     "data": {
      "text/plain": [
       "[]"
      ]
     },
     "execution_count": 9,
     "metadata": {},
     "output_type": "execute_result"
    }
   ],
   "source": [
    "[name for name in list(line_df['name'].to_dict().values()) if '\\n' in name]"
   ]
  },
  {
   "cell_type": "markdown",
   "id": "661cb8e0",
   "metadata": {},
   "source": [
    "- Remove all preceding commas, spaces, newlines and tabs, all inline newlines and tabs, and all ending newlines, tabs, and spaces."
   ]
  },
  {
   "cell_type": "code",
   "execution_count": 10,
   "id": "fcc29e71",
   "metadata": {},
   "outputs": [],
   "source": [
    "def fix_tabs_newlines(string):\n",
    "    #Turn multiple whitespace between two characters to a single whitespace.\n",
    "    out = re.sub('(?<=\\S)\\s+(?=\\S)', ' ', string)\n",
    "    #Remove preceding whitespace\n",
    "    out = re.sub('(?<=\\A)\\s+', '', out)\n",
    "    #Remove ending whitespace\n",
    "    out = re.sub('\\s+(?=\\Z)', '', out)\n",
    "    #Remove preceding ',' plus whitespace.\n",
    "    out = re.sub('\\A,\\s+(?=\\S)', '', out)\n",
    "    return out"
   ]
  },
  {
   "cell_type": "code",
   "execution_count": 11,
   "id": "73e9aa13",
   "metadata": {},
   "outputs": [],
   "source": [
    "line_df['line'] = line_df['line'].map(fix_tabs_newlines)"
   ]
  },
  {
   "cell_type": "markdown",
   "id": "919ec57c",
   "metadata": {},
   "source": [
    "- Scrub stage directions from dialogue."
   ]
  },
  {
   "cell_type": "code",
   "execution_count": 17,
   "id": "3fa7f866",
   "metadata": {},
   "outputs": [],
   "source": [
    "line_df['line'] = line_df['line'].map(lambda x: re.sub('__stage_direction__', '', x))"
   ]
  }
 ],
 "metadata": {
  "kernelspec": {
   "display_name": "Python 3",
   "language": "python",
   "name": "python3"
  },
  "language_info": {
   "codemirror_mode": {
    "name": "ipython",
    "version": 3
   },
   "file_extension": ".py",
   "mimetype": "text/x-python",
   "name": "python",
   "nbconvert_exporter": "python",
   "pygments_lexer": "ipython3",
   "version": "3.7.6"
  }
 },
 "nbformat": 4,
 "nbformat_minor": 5
}
