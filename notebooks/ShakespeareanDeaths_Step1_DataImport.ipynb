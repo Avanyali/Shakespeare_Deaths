{
 "cells": [
  {
   "cell_type": "markdown",
   "id": "64a069b9",
   "metadata": {},
   "source": [
    "- Data can be found at https://shakespeare.folger.edu/download-the-folger-shakespeare-complete-set/. Text data was selected for this project. Because of this, it is for non-commercial purposes only."
   ]
  },
  {
   "cell_type": "markdown",
   "id": "6b7a834a",
   "metadata": {},
   "source": [
    "***Step 1: Data Import and Formatting***"
   ]
  },
  {
   "cell_type": "code",
   "execution_count": 1,
   "id": "45ba64df",
   "metadata": {},
   "outputs": [],
   "source": [
    "import pandas as pd\n",
    "import numpy as np\n",
    "import re\n",
    "import os"
   ]
  },
  {
   "cell_type": "markdown",
   "id": "fb2f49a6",
   "metadata": {},
   "source": [
    "***Section 1: Process outline***"
   ]
  },
  {
   "cell_type": "code",
   "execution_count": 2,
   "id": "a111fbbb",
   "metadata": {},
   "outputs": [],
   "source": [
    "file = open('../data/texts/alls-well-that-ends-well_TXT_FolgerShakespeare.txt')\n",
    "play = file.read()\n",
    "file.close()"
   ]
  },
  {
   "cell_type": "markdown",
   "id": "a2c199a8",
   "metadata": {},
   "source": [
    "- Strip character descriptions and attributive text."
   ]
  },
  {
   "cell_type": "code",
   "execution_count": 3,
   "id": "667839ce",
   "metadata": {
    "tags": []
   },
   "outputs": [],
   "source": [
    "start_opener, end_opener = re.search(r'[\\S\\s]*(?=(ACT 1))', play).span()"
   ]
  },
  {
   "cell_type": "code",
   "execution_count": 4,
   "id": "12afb763",
   "metadata": {},
   "outputs": [],
   "source": [
    "play = play[end_opener:]"
   ]
  },
  {
   "cell_type": "markdown",
   "id": "d1a62283",
   "metadata": {},
   "source": [
    "- Remove epilogue."
   ]
  },
  {
   "cell_type": "code",
   "execution_count": 5,
   "id": "b2fe7530",
   "metadata": {},
   "outputs": [],
   "source": [
    "play = re.sub(r'(?<=(EPILOGUE))([\\s\\S]*)', '', play)"
   ]
  },
  {
   "cell_type": "code",
   "execution_count": 6,
   "id": "3bac7ab2",
   "metadata": {},
   "outputs": [],
   "source": [
    "play = re.sub(r'EPILOGUE', '', play)"
   ]
  },
  {
   "cell_type": "markdown",
   "id": "d8d60973",
   "metadata": {},
   "source": [
    "- Strip all stage directions."
   ]
  },
  {
   "cell_type": "code",
   "execution_count": 7,
   "id": "e63e3d27",
   "metadata": {},
   "outputs": [],
   "source": [
    "play = re.sub(r'(\\[[^]]*\\])', '', play)"
   ]
  },
  {
   "cell_type": "code",
   "execution_count": 8,
   "id": "3d136657",
   "metadata": {},
   "outputs": [],
   "source": [
    "play_frame = pd.DataFrame({'play': [], 'name': [], 'line': [], 'line_number': []})"
   ]
  },
  {
   "cell_type": "markdown",
   "id": "3bd7ce31",
   "metadata": {},
   "source": [
    "- Strip acts, scenes, and accompanying dividers."
   ]
  },
  {
   "cell_type": "code",
   "execution_count": 9,
   "id": "c484c80d",
   "metadata": {},
   "outputs": [
    {
     "data": {
      "text/plain": [
       "['ACT 1', 'ACT 2', 'ACT 3', 'ACT 4', 'ACT 5']"
      ]
     },
     "execution_count": 9,
     "metadata": {},
     "output_type": "execute_result"
    }
   ],
   "source": [
    "re.findall(r'(ACT [0-9]+)', play)"
   ]
  },
  {
   "cell_type": "code",
   "execution_count": 10,
   "id": "9c472f20",
   "metadata": {},
   "outputs": [],
   "source": [
    "play = re.sub(r'(ACT [0-9]+)', '', play)"
   ]
  },
  {
   "cell_type": "code",
   "execution_count": 11,
   "id": "d7899cd9",
   "metadata": {},
   "outputs": [],
   "source": [
    "play = re.sub(r'(Scene [0-9]+)', '', play)"
   ]
  },
  {
   "cell_type": "code",
   "execution_count": 12,
   "id": "66d91327",
   "metadata": {},
   "outputs": [],
   "source": [
    "play = re.sub('=+', '', play)"
   ]
  },
  {
   "cell_type": "markdown",
   "id": "c5bf95a5",
   "metadata": {},
   "source": [
    "- Create array of all lines."
   ]
  },
  {
   "cell_type": "code",
   "execution_count": 13,
   "id": "3ab937a3",
   "metadata": {},
   "outputs": [],
   "source": [
    "#All sets of characters starting with words in all capital letters, and ended by two newlines.\n",
    "lines = re.findall(r'(((([A-Z]{2,}[ ,\\n])+)(?!(([A-Z]{2,}[ ,\\n])+)))([\\S\\s]+?))(?=([A-Z]{2}|\\Z))',play)"
   ]
  },
  {
   "cell_type": "code",
   "execution_count": 14,
   "id": "9c01b8c9",
   "metadata": {},
   "outputs": [],
   "source": [
    "lines = [line[0] for line in lines]"
   ]
  },
  {
   "cell_type": "code",
   "execution_count": 15,
   "id": "da0eef05",
   "metadata": {},
   "outputs": [
    {
     "data": {
      "text/plain": [
       "'COUNTESS  In delivering my son from me, I bury a second\\nhusband.\\n\\n'"
      ]
     },
     "execution_count": 15,
     "metadata": {},
     "output_type": "execute_result"
    }
   ],
   "source": [
    "lines[0]"
   ]
  },
  {
   "cell_type": "code",
   "execution_count": 16,
   "id": "604d7b5d",
   "metadata": {},
   "outputs": [
    {
     "data": {
      "text/plain": [
       "936"
      ]
     },
     "execution_count": 16,
     "metadata": {},
     "output_type": "execute_result"
    }
   ],
   "source": [
    "len(lines)"
   ]
  },
  {
   "cell_type": "markdown",
   "id": "7f85a796",
   "metadata": {},
   "source": [
    "- Add all lines to data frame."
   ]
  },
  {
   "cell_type": "code",
   "execution_count": 17,
   "id": "7e350d45",
   "metadata": {},
   "outputs": [],
   "source": [
    "entries = {'play': [], 'name': [], 'line': [], 'line_number': []}\n",
    "for i in range(0, len(lines)):\n",
    "    line = lines[i]\n",
    "\n",
    "    entries['play'].append('alls-well-that-ends-well')\n",
    "    this_name = re.search(r'((([A-Z]{2,}[ ,\\n])+)(?!(([A-Z]{2,}[ ,\\n])+)))', line).group(0)\n",
    "    this_name = re.sub(r'( )(?![A-Z])|[\\n,]', '', this_name)\n",
    "    \n",
    "    entries['line'].append(re.search(r'(?<=' + this_name + ')([\\s\\S]*)', line).group(0))\n",
    "    entries['name'].append(this_name)\n",
    "    entries['line_number'].append(len([1 for name in entries['name'] if name == this_name]) + 1)\n",
    "    \n",
    "play_frame = pd.DataFrame(entries)"
   ]
  },
  {
   "cell_type": "code",
   "execution_count": 18,
   "id": "1acd5e14",
   "metadata": {},
   "outputs": [
    {
     "data": {
      "text/html": [
       "<div>\n",
       "<style scoped>\n",
       "    .dataframe tbody tr th:only-of-type {\n",
       "        vertical-align: middle;\n",
       "    }\n",
       "\n",
       "    .dataframe tbody tr th {\n",
       "        vertical-align: top;\n",
       "    }\n",
       "\n",
       "    .dataframe thead th {\n",
       "        text-align: right;\n",
       "    }\n",
       "</style>\n",
       "<table border=\"1\" class=\"dataframe\">\n",
       "  <thead>\n",
       "    <tr style=\"text-align: right;\">\n",
       "      <th></th>\n",
       "      <th>play</th>\n",
       "      <th>name</th>\n",
       "      <th>line</th>\n",
       "      <th>line_number</th>\n",
       "    </tr>\n",
       "  </thead>\n",
       "  <tbody>\n",
       "    <tr>\n",
       "      <th>0</th>\n",
       "      <td>alls-well-that-ends-well</td>\n",
       "      <td>COUNTESS</td>\n",
       "      <td>In delivering my son from me, I bury a secon...</td>\n",
       "      <td>2</td>\n",
       "    </tr>\n",
       "    <tr>\n",
       "      <th>1</th>\n",
       "      <td>alls-well-that-ends-well</td>\n",
       "      <td>BERTRAM</td>\n",
       "      <td>And I in going, madam, weep o'er my\\nfather'...</td>\n",
       "      <td>2</td>\n",
       "    </tr>\n",
       "    <tr>\n",
       "      <th>2</th>\n",
       "      <td>alls-well-that-ends-well</td>\n",
       "      <td>LAFEW</td>\n",
       "      <td>You shall find of the King a husband, madam;...</td>\n",
       "      <td>2</td>\n",
       "    </tr>\n",
       "    <tr>\n",
       "      <th>3</th>\n",
       "      <td>alls-well-that-ends-well</td>\n",
       "      <td>COUNTESS</td>\n",
       "      <td>What hope is there of his Majesty's\\namendme...</td>\n",
       "      <td>3</td>\n",
       "    </tr>\n",
       "    <tr>\n",
       "      <th>4</th>\n",
       "      <td>alls-well-that-ends-well</td>\n",
       "      <td>LAFEW</td>\n",
       "      <td>He hath abandoned his physicians, madam,\\nun...</td>\n",
       "      <td>3</td>\n",
       "    </tr>\n",
       "  </tbody>\n",
       "</table>\n",
       "</div>"
      ],
      "text/plain": [
       "                       play      name  \\\n",
       "0  alls-well-that-ends-well  COUNTESS   \n",
       "1  alls-well-that-ends-well   BERTRAM   \n",
       "2  alls-well-that-ends-well     LAFEW   \n",
       "3  alls-well-that-ends-well  COUNTESS   \n",
       "4  alls-well-that-ends-well     LAFEW   \n",
       "\n",
       "                                                line  line_number  \n",
       "0    In delivering my son from me, I bury a secon...            2  \n",
       "1    And I in going, madam, weep o'er my\\nfather'...            2  \n",
       "2    You shall find of the King a husband, madam;...            2  \n",
       "3    What hope is there of his Majesty's\\namendme...            3  \n",
       "4    He hath abandoned his physicians, madam,\\nun...            3  "
      ]
     },
     "execution_count": 18,
     "metadata": {},
     "output_type": "execute_result"
    }
   ],
   "source": [
    "play_frame.head()"
   ]
  },
  {
   "cell_type": "markdown",
   "id": "47fd5b73",
   "metadata": {},
   "source": [
    "***Section 2: General Import***\n",
    "- Generalized import of data based on previous section as example."
   ]
  },
  {
   "cell_type": "code",
   "execution_count": 19,
   "id": "8dc1fddd",
   "metadata": {},
   "outputs": [],
   "source": [
    "def open_file(name):\n",
    "    file = open(name)\n",
    "    play = file.read()\n",
    "    file.close()\n",
    "    return play"
   ]
  },
  {
   "cell_type": "code",
   "execution_count": 20,
   "id": "0a0f8584",
   "metadata": {},
   "outputs": [],
   "source": [
    "def strip_opener(play):\n",
    "    start_opener, end_opener = re.search(r'[\\S\\s]*(?=(ACT 1))', play).span()\n",
    "    return play[end_opener:]"
   ]
  },
  {
   "cell_type": "code",
   "execution_count": 21,
   "id": "8b10a345",
   "metadata": {},
   "outputs": [],
   "source": [
    "def strip_epilogue(play):\n",
    "    play = re.sub(r'(?<=(EPILOGUE))([\\s\\S]*)', '', play)\n",
    "    return re.sub(r'EPILOGUE', '', play)"
   ]
  },
  {
   "cell_type": "code",
   "execution_count": 22,
   "id": "09a1b6f1",
   "metadata": {},
   "outputs": [],
   "source": [
    "def strip_stage_directions(play):\n",
    "    return re.sub(r'(\\[[^]]*\\])', '__stage_direction__', play)"
   ]
  },
  {
   "cell_type": "code",
   "execution_count": 23,
   "id": "ca309b0b",
   "metadata": {},
   "outputs": [],
   "source": [
    "def strip_acts(play):\n",
    "    return re.sub(r'(ACT [0-9]+)', '', play)"
   ]
  },
  {
   "cell_type": "code",
   "execution_count": 24,
   "id": "f95aeddf",
   "metadata": {},
   "outputs": [],
   "source": [
    "def strip_scenes(play):\n",
    "    return re.sub(r'(Scene [0-9]+)', '', play)"
   ]
  },
  {
   "cell_type": "code",
   "execution_count": 25,
   "id": "1320e9a6",
   "metadata": {},
   "outputs": [],
   "source": [
    "def strip_dividers(play):\n",
    "    return re.sub('=+', '', play)"
   ]
  },
  {
   "cell_type": "code",
   "execution_count": 26,
   "id": "036bad1a-a676-4840-870a-b3adfdbcd4ea",
   "metadata": {},
   "outputs": [],
   "source": [
    "def scrub_name(name):\n",
    "    #scrub 'and's\n",
    "    name = re.sub(r'[a-z]', '', name)\n",
    "    #scrub trailing and preceding punctuation and whitespace\n",
    "    name = re.sub(r'(?<=\\A)([\\s ,]+)(?=[A-Z])', '', name)\n",
    "    name = re.sub(r'(?<=[A-Z])([\\s ,]+)(?=\\Z)', '', name)\n",
    "    return name"
   ]
  },
  {
   "cell_type": "code",
   "execution_count": 27,
   "id": "f4df4f01",
   "metadata": {},
   "outputs": [],
   "source": [
    "def append_play_lines(entries, play, play_name):\n",
    "    #All character names in the file are in all capitals and are at least 2 letters long. This finds all contiguous name separated by ',', ' ', and 'and' to get the name(s).\n",
    "    #All subsequent characters are the charater line, ending at play end or at the next name.\n",
    "    lines = re.findall(r'(((([A-Z]{2,}(,*\\s+and\\s+|[,\\.]{0,1}\\s+|\\/))+)(?!(([A-Z]{2,}(,*\\s+and\\s+|[,\\.]{0,1}\\s+|\\/))+)))([\\S\\s]+?))(?=([A-Z]{2}|\\Z))',play)\n",
    "    lines = [line[0] for line in lines]\n",
    "\n",
    "    for i in range(0, len(lines)):\n",
    "        line = lines[i]\n",
    "\n",
    "        this_name = re.search(r'((([A-Z]{2,}(,*\\s+and\\s+|[,\\.]{0,1}\\s+|\\/))+)(?!(([A-Z]{2,}(,*\\s+and\\s+|[,\\.]{0,1}\\s+|\\/))+)))', line).group(0)\n",
    "        \n",
    "        #Add multiple lines if multiple characters speaking\n",
    "        multilines = []\n",
    "        if len(this_name.split('/')) > 1:\n",
    "            multilines.extend(this_name.split('/')) \n",
    "        if len(this_name.split(',')) > 1:\n",
    "            multilines.extend(this_name.split(',')) \n",
    "        if len(this_name.split('and')) > 1:\n",
    "            multilines.extend(this_name.split('and')) \n",
    "        if len(multilines) == 0:\n",
    "            multilines.append(this_name)\n",
    "            \n",
    "        multilines = [scrub_name(name) for name in multilines]\n",
    "        \n",
    "        for name in set(multilines):\n",
    "            \n",
    "            if(len(re.sub('\\s*', '', name)) > 0):\n",
    "                #increment character line number for this specific play\n",
    "                count = 1\n",
    "                for i in range(0, len(entries['name'])):\n",
    "                    if entries['name'][i] == name and entries['play'][i] == play_name:\n",
    "                        count += 1\n",
    "                entries['character_line_number'].append(count)\n",
    "                \n",
    "                entries['play_line_number'].append(len([1 for x in entries['play'] if x == play_name]) + 1)\n",
    "                entries['name'].append(name)\n",
    "                entries['play'].append(play_name)\n",
    "                entries['line'].append(re.search(r'(?<=' + this_name + ')([\\s\\S]*)', line).group(0))\n",
    "        \n",
    "    return entries"
   ]
  },
  {
   "cell_type": "code",
   "execution_count": 28,
   "id": "b92dcb09",
   "metadata": {},
   "outputs": [],
   "source": [
    "entries = {'play': [], 'name': [], 'line': [], 'character_line_number': [], 'play_line_number': []}\n",
    "\n",
    "rel_dir = '../data/texts'\n",
    "play_files = os.listdir(rel_dir)\n",
    "\n",
    "for play_file in play_files:\n",
    "    if '.txt' in play_file:\n",
    "        play = open_file(f'{rel_dir}/{play_file}')\n",
    "        play = strip_opener(play)\n",
    "        play = strip_epilogue(play)\n",
    "        play = strip_stage_directions(play)\n",
    "        play = strip_acts(play)\n",
    "        play = strip_scenes(play)\n",
    "        play = strip_dividers(play)\n",
    "        \n",
    "        play_name = re.search(r'[\\S\\s]*(?=(_TXT))', play_file).group(0)\n",
    "        entries = append_play_lines(entries, play, play_name)"
   ]
  },
  {
   "cell_type": "code",
   "execution_count": 29,
   "id": "0c736048",
   "metadata": {},
   "outputs": [],
   "source": [
    "line_df = pd.DataFrame(entries)"
   ]
  },
  {
   "cell_type": "code",
   "execution_count": 30,
   "id": "ef1b5078",
   "metadata": {},
   "outputs": [
    {
     "data": {
      "text/plain": [
       "(31834, 5)"
      ]
     },
     "execution_count": 30,
     "metadata": {},
     "output_type": "execute_result"
    }
   ],
   "source": [
    "line_df.shape"
   ]
  },
  {
   "cell_type": "markdown",
   "id": "4e425c1d",
   "metadata": {},
   "source": [
    "- Save data."
   ]
  },
  {
   "cell_type": "code",
   "execution_count": 31,
   "id": "ca850320",
   "metadata": {},
   "outputs": [],
   "source": [
    "line_df.to_csv('../data/csv/ShakespeareCharacterLines.csv', index = False)"
   ]
  },
  {
   "cell_type": "markdown",
   "id": "6fe4f69a",
   "metadata": {},
   "source": [
    "- To step 2 ->"
   ]
  },
  {
   "cell_type": "code",
   "execution_count": null,
   "id": "704a5676",
   "metadata": {},
   "outputs": [],
   "source": []
  }
 ],
 "metadata": {
  "kernelspec": {
   "display_name": "Python 3",
   "language": "python",
   "name": "python3"
  },
  "language_info": {
   "codemirror_mode": {
    "name": "ipython",
    "version": 3
   },
   "file_extension": ".py",
   "mimetype": "text/x-python",
   "name": "python",
   "nbconvert_exporter": "python",
   "pygments_lexer": "ipython3",
   "version": "3.7.6"
  }
 },
 "nbformat": 4,
 "nbformat_minor": 5
}
