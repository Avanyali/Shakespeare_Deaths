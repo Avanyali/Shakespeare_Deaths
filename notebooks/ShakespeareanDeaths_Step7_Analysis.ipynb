{
 "cells": [
  {
   "cell_type": "code",
   "execution_count": 96,
   "id": "b21b0993-59dc-462a-8afa-bef9095ed989",
   "metadata": {},
   "outputs": [],
   "source": [
    "import pandas as pd\n",
    "import numpy as np\n",
    "import matplotlib.pyplot as plt\n",
    "import seaborn as sns\n",
    "\n",
    "import pickle\n",
    "\n",
    "from sklearn.decomposition import PCA\n",
    "from sklearn.preprocessing import StandardScaler\n",
    "from sklearn.model_selection import train_test_split\n",
    "\n",
    "from imblearn.over_sampling import SMOTE\n",
    "\n",
    "from math import exp\n",
    "import re"
   ]
  },
  {
   "cell_type": "markdown",
   "id": "26915191-f461-4eee-8c40-9e995dc07de1",
   "metadata": {},
   "source": [
    "- Import data."
   ]
  },
  {
   "cell_type": "code",
   "execution_count": 5,
   "id": "6fc20b77-6969-4656-933c-78bbe3ff3794",
   "metadata": {},
   "outputs": [],
   "source": [
    "type_df = pd.read_csv('../data/csv/ShakespeareCharacterLines_play_corpus.csv', index_col = ['play'])"
   ]
  },
  {
   "cell_type": "code",
   "execution_count": 6,
   "id": "6df87777-548e-4f03-90e5-46b813a2f84b",
   "metadata": {},
   "outputs": [],
   "source": [
    "char_df = pd.read_csv('../data/csv/ShakespeareCharacterLines_character_corpus.csv', index_col = ['play', 'name'])"
   ]
  },
  {
   "cell_type": "code",
   "execution_count": 7,
   "id": "300fd4aa-e544-4daa-918a-f154b6806f57",
   "metadata": {
    "tags": []
   },
   "outputs": [],
   "source": [
    "colon = slice(None)"
   ]
  },
  {
   "cell_type": "markdown",
   "id": "4c2b9bfe-ef74-4b1f-9e81-6a224d713c89",
   "metadata": {},
   "source": [
    "- Redo train/test splits and PCA."
   ]
  },
  {
   "cell_type": "code",
   "execution_count": 15,
   "id": "adf494c1-1e14-489d-9934-7831f30d2532",
   "metadata": {
    "tags": []
   },
   "outputs": [],
   "source": [
    "char_xlist = char_df.columns.tolist()\n",
    "char_xlist.remove('character_dies')\n",
    "\n",
    "char_X = char_df[char_xlist]\n",
    "char_y = char_df['character_dies']\n",
    "\n",
    "smt = SMOTE(random_state = 42, k_neighbors = 25, n_jobs = -1)\n",
    "char_Xsm, char_ysm = smt.fit_resample(char_X, char_y)\n",
    "\n",
    "char_X_train, char_X_test, char_y_train, char_y_test = \\\n",
    "train_test_split(char_X, char_y, random_state = 42, stratify = char_y, test_size = .2)\n",
    "\n",
    "char_Xsm_train, char_Xsm_test, char_ysm_train, char_ysm_test = \\\n",
    "train_test_split(char_Xsm, char_ysm, random_state = 42, stratify = char_ysm, test_size = .2)\n",
    "\n",
    "sc = StandardScaler()\n",
    "\n",
    "char_Xs_train = sc.fit_transform(char_X_train)\n",
    "char_Xs_test = sc.transform(char_X_test)\n",
    "char_Xs = sc.transform(char_X)\n",
    "\n",
    "char_Xsms_train = sc.fit_transform(char_Xsm_train)\n",
    "char_Xsms_test = sc.transform(char_Xsm_test)\n",
    "char_Xsms = sc.transform(char_Xsm)"
   ]
  },
  {
   "cell_type": "code",
   "execution_count": 16,
   "id": "ad6db149-adca-4435-9231-b7955ced10a1",
   "metadata": {
    "tags": []
   },
   "outputs": [],
   "source": [
    "type_xlist = type_df.columns.tolist()\n",
    "type_xlist.remove('play_type')\n",
    "\n",
    "type_X = type_df[type_xlist]\n",
    "type_y = type_df['play_type']\n",
    "\n",
    "type_X_train, type_X_test, type_y_train, type_y_test = \\\n",
    "train_test_split(type_X, type_y, random_state = 42, stratify = type_y, test_size = .2)\n",
    "\n",
    "sc = StandardScaler()\n",
    "\n",
    "type_Xs_train = sc.fit_transform(type_X_train)\n",
    "type_Xs_test = sc.transform(type_X_test)\n",
    "type_Xs = sc.transform(type_X)"
   ]
  },
  {
   "cell_type": "code",
   "execution_count": 17,
   "id": "c5a10c7f-2e1e-41b1-8512-9710afbe6e88",
   "metadata": {},
   "outputs": [],
   "source": [
    "pca_sm = PCA(random_state=42, n_components=1114)\n",
    "char_Zsms_train = pca_sm.fit_transform(char_Xsms_train)\n",
    "char_Zsms_test = pca_sm.transform(char_Xsms_test)"
   ]
  },
  {
   "cell_type": "markdown",
   "id": "f1fb1c4d-9b9d-482b-8986-52dabcdb2080",
   "metadata": {},
   "source": [
    "- Import inferential models."
   ]
  },
  {
   "cell_type": "code",
   "execution_count": 2,
   "id": "06d4fe50-f55d-4152-b07c-11897ffce331",
   "metadata": {},
   "outputs": [],
   "source": [
    "char_inf_mnb = pickle.load(open('../models/CharMultinomialNaiveBayes.pkl', 'rb'))"
   ]
  },
  {
   "cell_type": "code",
   "execution_count": 3,
   "id": "246e49ec-daf2-4ffe-a917-2f312715d316",
   "metadata": {},
   "outputs": [],
   "source": [
    "type_inf_pred_logreg = pickle.load(open('../models/TypeLogisticRegression.pkl', 'rb'))"
   ]
  },
  {
   "cell_type": "markdown",
   "id": "caf34a4d-bf35-4ce3-b7e1-4917169c0874",
   "metadata": {},
   "source": [
    "- Import predictive models."
   ]
  },
  {
   "cell_type": "code",
   "execution_count": 4,
   "id": "3513c878-6980-4e60-8481-e1932daa8e1f",
   "metadata": {},
   "outputs": [],
   "source": [
    "char_pred_svc = pickle.load(open('../models/CharPCASVC.pkl', 'rb'))"
   ]
  },
  {
   "cell_type": "markdown",
   "id": "7272583d-a1d7-4373-a60a-f5a2daebfc4b",
   "metadata": {},
   "source": [
    "- Create sorted lists of inferential model weights."
   ]
  },
  {
   "cell_type": "markdown",
   "id": "035959a2-f3cd-4557-90c2-af328214403c",
   "metadata": {},
   "source": [
    "- Character deaths:"
   ]
  },
  {
   "cell_type": "code",
   "execution_count": 84,
   "id": "6b7be84e-fed5-44f0-8301-af2146d94683",
   "metadata": {},
   "outputs": [],
   "source": [
    "char_weights = {}"
   ]
  },
  {
   "cell_type": "code",
   "execution_count": 85,
   "id": "1d1a1eb2-4959-4dfe-8c21-b070a9860baf",
   "metadata": {},
   "outputs": [],
   "source": [
    "char_weights_dies = zip(char_inf_mnb.feature_log_prob_[1], char_X.columns)"
   ]
  },
  {
   "cell_type": "code",
   "execution_count": 86,
   "id": "7a0e8887-8616-44bc-9d8e-9afdffc7c0fd",
   "metadata": {},
   "outputs": [],
   "source": [
    "char_weights_dies = {key: exp(value) for value, key in char_weights_dies}"
   ]
  },
  {
   "cell_type": "code",
   "execution_count": 87,
   "id": "4817454b-e8e6-4680-b31b-648893bd5ab8",
   "metadata": {
    "tags": []
   },
   "outputs": [],
   "source": [
    "char_weights['dies'] = {k: v for k, v in sorted(char_weights_dies.items(), key=lambda item: item[1], reverse=True)}"
   ]
  },
  {
   "cell_type": "code",
   "execution_count": 88,
   "id": "b349980c-a6a2-4f83-8b0b-0a0d9a41d562",
   "metadata": {},
   "outputs": [],
   "source": [
    "char_weights_lives = zip(char_inf_mnb.feature_log_prob_[0], char_X.columns)"
   ]
  },
  {
   "cell_type": "code",
   "execution_count": 89,
   "id": "5d5ac77e-4fb0-4178-9e4d-2267befd0006",
   "metadata": {},
   "outputs": [],
   "source": [
    "char_weights_lives = {key: exp(value) for value, key in char_weights_lives}"
   ]
  },
  {
   "cell_type": "code",
   "execution_count": 90,
   "id": "6eb2c175-ca1c-427b-9d95-35f18c49e81a",
   "metadata": {
    "tags": []
   },
   "outputs": [],
   "source": [
    "char_weights['lives'] = {k: v for k, v in sorted(char_weights_lives.items(), key=lambda item: item[1], reverse=True)}"
   ]
  },
  {
   "cell_type": "markdown",
   "id": "8caa3eb8-40f0-4194-a91d-dd112b68d4a1",
   "metadata": {},
   "source": [
    "- Play types:"
   ]
  },
  {
   "cell_type": "code",
   "execution_count": 46,
   "id": "594206b7-e037-4272-af28-bbc03275d963",
   "metadata": {},
   "outputs": [],
   "source": [
    "type_weights = {}"
   ]
  },
  {
   "cell_type": "code",
   "execution_count": 91,
   "id": "6c7092f2-2ca0-4950-9f85-836bdb561a87",
   "metadata": {},
   "outputs": [],
   "source": [
    "def quick_tag(type_number, type_name):\n",
    "    type_weights_next = zip(type_inf_pred_logreg.coef_[type_number], type_X.columns)\n",
    "    type_weights_next = {key: exp(value) for value, key in type_weights_next}\n",
    "    type_weights[type_name] = {k: v for k, v in sorted(type_weights_next.items(), key=lambda item: item[1], reverse=True)}"
   ]
  },
  {
   "cell_type": "code",
   "execution_count": 92,
   "id": "b9a235bb-7694-4453-b974-26886a6c5e6d",
   "metadata": {},
   "outputs": [
    {
     "name": "stderr",
     "output_type": "stream",
     "text": [
      "C:\\ProgramData\\Anaconda3\\lib\\site-packages\\sklearn\\utils\\deprecation.py:101: FutureWarning: Attribute coef_ was deprecated in version 0.24 and will be removed in 1.1 (renaming of 0.26).\n",
      "  warnings.warn(msg, category=FutureWarning)\n"
     ]
    }
   ],
   "source": [
    "play_types = [(0, 'comedy'), (1, 'history'), (2, 'tragedy')]\n",
    "\n",
    "for number, type_name in play_types:\n",
    "    quick_tag(number, type_name)"
   ]
  },
  {
   "cell_type": "markdown",
   "id": "d134212e-dd77-4a7c-b415-d2cd534f02d8",
   "metadata": {},
   "source": [
    "- Identify the individuals that were incorrectly classified as dead."
   ]
  },
  {
   "cell_type": "code",
   "execution_count": 53,
   "id": "e35480cc-97ed-4916-b138-df1721994cfd",
   "metadata": {},
   "outputs": [
    {
     "data": {
      "text/plain": [
       "[901, 177, 1372, 498]"
      ]
     },
     "execution_count": 53,
     "metadata": {},
     "output_type": "execute_result"
    }
   ],
   "source": [
    "fail_indices = []\n",
    "\n",
    "test_preds = char_pred_svc.predict(char_Zsms_test)\n",
    "\n",
    "i = 0\n",
    "for index, value in char_ysm_test.to_dict().items():\n",
    "    if value != test_preds.T[i]:\n",
    "        fail_indices.append(index)\n",
    "    i+=1\n",
    "    \n",
    "fail_indices"
   ]
  },
  {
   "cell_type": "code",
   "execution_count": 54,
   "id": "4fc9d8a7-6dec-4f55-9355-5c0e1b340429",
   "metadata": {},
   "outputs": [],
   "source": [
    "failures = char_Xsm.loc[fail_indices]"
   ]
  },
  {
   "cell_type": "code",
   "execution_count": 71,
   "id": "d56b2718-4a07-44a4-a211-220610866746",
   "metadata": {},
   "outputs": [
    {
     "data": {
      "text/html": [
       "<div>\n",
       "<style scoped>\n",
       "    .dataframe tbody tr th:only-of-type {\n",
       "        vertical-align: middle;\n",
       "    }\n",
       "\n",
       "    .dataframe tbody tr th {\n",
       "        vertical-align: top;\n",
       "    }\n",
       "\n",
       "    .dataframe thead th {\n",
       "        text-align: right;\n",
       "    }\n",
       "</style>\n",
       "<table border=\"1\" class=\"dataframe\">\n",
       "  <thead>\n",
       "    <tr style=\"text-align: right;\">\n",
       "      <th></th>\n",
       "      <th>pos_sentiment_mean</th>\n",
       "      <th>neg_sentiment_mean</th>\n",
       "      <th>neu_sentiment_mean</th>\n",
       "      <th>compound_sentiment_mean</th>\n",
       "      <th>endowment_hyp_mean</th>\n",
       "      <th>hang_mean</th>\n",
       "      <th>VERB_mean</th>\n",
       "      <th>character_name_mean</th>\n",
       "      <th>PROPN_mean</th>\n",
       "      <th>shall_mean</th>\n",
       "      <th>...</th>\n",
       "      <th>mollification_std</th>\n",
       "      <th>guangzhou_syn_std</th>\n",
       "      <th>canton_std</th>\n",
       "      <th>distractedly_syn_std</th>\n",
       "      <th>distractedly_std</th>\n",
       "      <th>grade_std</th>\n",
       "      <th>deplore_std</th>\n",
       "      <th>convention_hyp_std</th>\n",
       "      <th>more_std</th>\n",
       "      <th>severs_std</th>\n",
       "    </tr>\n",
       "  </thead>\n",
       "  <tbody>\n",
       "    <tr>\n",
       "      <th>901</th>\n",
       "      <td>0.153353</td>\n",
       "      <td>0.028059</td>\n",
       "      <td>0.818588</td>\n",
       "      <td>0.577962</td>\n",
       "      <td>0.0</td>\n",
       "      <td>0.0</td>\n",
       "      <td>0.941176</td>\n",
       "      <td>0.529412</td>\n",
       "      <td>0.647059</td>\n",
       "      <td>0.058824</td>\n",
       "      <td>...</td>\n",
       "      <td>0.0</td>\n",
       "      <td>0.0</td>\n",
       "      <td>0.0</td>\n",
       "      <td>0.0</td>\n",
       "      <td>0.0</td>\n",
       "      <td>0.0</td>\n",
       "      <td>0.0</td>\n",
       "      <td>0.0</td>\n",
       "      <td>0.0</td>\n",
       "      <td>0.0</td>\n",
       "    </tr>\n",
       "    <tr>\n",
       "      <th>177</th>\n",
       "      <td>0.508000</td>\n",
       "      <td>0.000000</td>\n",
       "      <td>0.492000</td>\n",
       "      <td>0.738350</td>\n",
       "      <td>0.0</td>\n",
       "      <td>0.0</td>\n",
       "      <td>1.000000</td>\n",
       "      <td>1.000000</td>\n",
       "      <td>1.000000</td>\n",
       "      <td>0.000000</td>\n",
       "      <td>...</td>\n",
       "      <td>0.0</td>\n",
       "      <td>0.0</td>\n",
       "      <td>0.0</td>\n",
       "      <td>0.0</td>\n",
       "      <td>0.0</td>\n",
       "      <td>0.0</td>\n",
       "      <td>0.0</td>\n",
       "      <td>0.0</td>\n",
       "      <td>0.0</td>\n",
       "      <td>0.0</td>\n",
       "    </tr>\n",
       "    <tr>\n",
       "      <th>1372</th>\n",
       "      <td>0.000000</td>\n",
       "      <td>0.000000</td>\n",
       "      <td>1.000000</td>\n",
       "      <td>0.500000</td>\n",
       "      <td>0.0</td>\n",
       "      <td>0.0</td>\n",
       "      <td>0.000000</td>\n",
       "      <td>0.000000</td>\n",
       "      <td>0.000000</td>\n",
       "      <td>0.000000</td>\n",
       "      <td>...</td>\n",
       "      <td>0.0</td>\n",
       "      <td>0.0</td>\n",
       "      <td>0.0</td>\n",
       "      <td>0.0</td>\n",
       "      <td>0.0</td>\n",
       "      <td>0.0</td>\n",
       "      <td>0.0</td>\n",
       "      <td>0.0</td>\n",
       "      <td>0.0</td>\n",
       "      <td>0.0</td>\n",
       "    </tr>\n",
       "    <tr>\n",
       "      <th>498</th>\n",
       "      <td>0.232556</td>\n",
       "      <td>0.099333</td>\n",
       "      <td>0.668222</td>\n",
       "      <td>0.570283</td>\n",
       "      <td>0.0</td>\n",
       "      <td>0.0</td>\n",
       "      <td>0.777778</td>\n",
       "      <td>1.555556</td>\n",
       "      <td>2.222222</td>\n",
       "      <td>0.000000</td>\n",
       "      <td>...</td>\n",
       "      <td>0.0</td>\n",
       "      <td>0.0</td>\n",
       "      <td>0.0</td>\n",
       "      <td>0.0</td>\n",
       "      <td>0.0</td>\n",
       "      <td>0.0</td>\n",
       "      <td>0.0</td>\n",
       "      <td>0.0</td>\n",
       "      <td>0.0</td>\n",
       "      <td>0.0</td>\n",
       "    </tr>\n",
       "  </tbody>\n",
       "</table>\n",
       "<p>4 rows × 66414 columns</p>\n",
       "</div>"
      ],
      "text/plain": [
       "      pos_sentiment_mean  neg_sentiment_mean  neu_sentiment_mean  \\\n",
       "901             0.153353            0.028059            0.818588   \n",
       "177             0.508000            0.000000            0.492000   \n",
       "1372            0.000000            0.000000            1.000000   \n",
       "498             0.232556            0.099333            0.668222   \n",
       "\n",
       "      compound_sentiment_mean  endowment_hyp_mean  hang_mean  VERB_mean  \\\n",
       "901                  0.577962                 0.0        0.0   0.941176   \n",
       "177                  0.738350                 0.0        0.0   1.000000   \n",
       "1372                 0.500000                 0.0        0.0   0.000000   \n",
       "498                  0.570283                 0.0        0.0   0.777778   \n",
       "\n",
       "      character_name_mean  PROPN_mean  shall_mean  ...  mollification_std  \\\n",
       "901              0.529412    0.647059    0.058824  ...                0.0   \n",
       "177              1.000000    1.000000    0.000000  ...                0.0   \n",
       "1372             0.000000    0.000000    0.000000  ...                0.0   \n",
       "498              1.555556    2.222222    0.000000  ...                0.0   \n",
       "\n",
       "      guangzhou_syn_std  canton_std  distractedly_syn_std  distractedly_std  \\\n",
       "901                 0.0         0.0                   0.0               0.0   \n",
       "177                 0.0         0.0                   0.0               0.0   \n",
       "1372                0.0         0.0                   0.0               0.0   \n",
       "498                 0.0         0.0                   0.0               0.0   \n",
       "\n",
       "      grade_std  deplore_std  convention_hyp_std  more_std  severs_std  \n",
       "901         0.0          0.0                 0.0       0.0         0.0  \n",
       "177         0.0          0.0                 0.0       0.0         0.0  \n",
       "1372        0.0          0.0                 0.0       0.0         0.0  \n",
       "498         0.0          0.0                 0.0       0.0         0.0  \n",
       "\n",
       "[4 rows x 66414 columns]"
      ]
     },
     "execution_count": 71,
     "metadata": {},
     "output_type": "execute_result"
    }
   ],
   "source": [
    "failures"
   ]
  },
  {
   "cell_type": "code",
   "execution_count": 70,
   "id": "d65ffbf1-39cb-4c3f-963b-7840dd3e7bfd",
   "metadata": {},
   "outputs": [
    {
     "data": {
      "text/html": [
       "<div>\n",
       "<style scoped>\n",
       "    .dataframe tbody tr th:only-of-type {\n",
       "        vertical-align: middle;\n",
       "    }\n",
       "\n",
       "    .dataframe tbody tr th {\n",
       "        vertical-align: top;\n",
       "    }\n",
       "\n",
       "    .dataframe thead th {\n",
       "        text-align: right;\n",
       "    }\n",
       "</style>\n",
       "<table border=\"1\" class=\"dataframe\">\n",
       "  <thead>\n",
       "    <tr style=\"text-align: right;\">\n",
       "      <th></th>\n",
       "      <th></th>\n",
       "      <th>pos_sentiment_mean</th>\n",
       "      <th>neg_sentiment_mean</th>\n",
       "      <th>neu_sentiment_mean</th>\n",
       "      <th>compound_sentiment_mean</th>\n",
       "      <th>endowment_hyp_mean</th>\n",
       "      <th>hang_mean</th>\n",
       "      <th>VERB_mean</th>\n",
       "      <th>character_name_mean</th>\n",
       "      <th>PROPN_mean</th>\n",
       "      <th>shall_mean</th>\n",
       "      <th>...</th>\n",
       "      <th>mollification_std</th>\n",
       "      <th>guangzhou_syn_std</th>\n",
       "      <th>canton_std</th>\n",
       "      <th>distractedly_syn_std</th>\n",
       "      <th>distractedly_std</th>\n",
       "      <th>grade_std</th>\n",
       "      <th>deplore_std</th>\n",
       "      <th>convention_hyp_std</th>\n",
       "      <th>more_std</th>\n",
       "      <th>severs_std</th>\n",
       "    </tr>\n",
       "    <tr>\n",
       "      <th>play</th>\n",
       "      <th>name</th>\n",
       "      <th></th>\n",
       "      <th></th>\n",
       "      <th></th>\n",
       "      <th></th>\n",
       "      <th></th>\n",
       "      <th></th>\n",
       "      <th></th>\n",
       "      <th></th>\n",
       "      <th></th>\n",
       "      <th></th>\n",
       "      <th></th>\n",
       "      <th></th>\n",
       "      <th></th>\n",
       "      <th></th>\n",
       "      <th></th>\n",
       "      <th></th>\n",
       "      <th></th>\n",
       "      <th></th>\n",
       "      <th></th>\n",
       "      <th></th>\n",
       "      <th></th>\n",
       "    </tr>\n",
       "  </thead>\n",
       "  <tbody>\n",
       "    <tr>\n",
       "      <th>timon-of-athens</th>\n",
       "      <th>SECOND LORD</th>\n",
       "      <td>0.153353</td>\n",
       "      <td>0.028059</td>\n",
       "      <td>0.818588</td>\n",
       "      <td>0.577962</td>\n",
       "      <td>0.0</td>\n",
       "      <td>0.0</td>\n",
       "      <td>0.941176</td>\n",
       "      <td>0.529412</td>\n",
       "      <td>0.647059</td>\n",
       "      <td>0.058824</td>\n",
       "      <td>...</td>\n",
       "      <td>0.0</td>\n",
       "      <td>0.0</td>\n",
       "      <td>0.0</td>\n",
       "      <td>0.0</td>\n",
       "      <td>0.0</td>\n",
       "      <td>0.0</td>\n",
       "      <td>0.0</td>\n",
       "      <td>0.0</td>\n",
       "      <td>0.0</td>\n",
       "      <td>0.0</td>\n",
       "    </tr>\n",
       "  </tbody>\n",
       "</table>\n",
       "<p>1 rows × 66414 columns</p>\n",
       "</div>"
      ],
      "text/plain": [
       "                             pos_sentiment_mean  neg_sentiment_mean  \\\n",
       "play            name                                                  \n",
       "timon-of-athens SECOND LORD            0.153353            0.028059   \n",
       "\n",
       "                             neu_sentiment_mean  compound_sentiment_mean  \\\n",
       "play            name                                                       \n",
       "timon-of-athens SECOND LORD            0.818588                 0.577962   \n",
       "\n",
       "                             endowment_hyp_mean  hang_mean  VERB_mean  \\\n",
       "play            name                                                    \n",
       "timon-of-athens SECOND LORD                 0.0        0.0   0.941176   \n",
       "\n",
       "                             character_name_mean  PROPN_mean  shall_mean  ...  \\\n",
       "play            name                                                      ...   \n",
       "timon-of-athens SECOND LORD             0.529412    0.647059    0.058824  ...   \n",
       "\n",
       "                             mollification_std  guangzhou_syn_std  canton_std  \\\n",
       "play            name                                                            \n",
       "timon-of-athens SECOND LORD                0.0                0.0         0.0   \n",
       "\n",
       "                             distractedly_syn_std  distractedly_std  \\\n",
       "play            name                                                  \n",
       "timon-of-athens SECOND LORD                   0.0               0.0   \n",
       "\n",
       "                             grade_std  deplore_std  convention_hyp_std  \\\n",
       "play            name                                                      \n",
       "timon-of-athens SECOND LORD        0.0          0.0                 0.0   \n",
       "\n",
       "                             more_std  severs_std  \n",
       "play            name                               \n",
       "timon-of-athens SECOND LORD       0.0         0.0  \n",
       "\n",
       "[1 rows x 66414 columns]"
      ]
     },
     "execution_count": 70,
     "metadata": {},
     "output_type": "execute_result"
    }
   ],
   "source": [
    "char_X[char_X['pos_sentiment_mean'] == failures.iloc[0]['pos_sentiment_mean']]"
   ]
  },
  {
   "cell_type": "code",
   "execution_count": 73,
   "id": "0a76eb19-e2c9-4173-9833-fba8713050b2",
   "metadata": {},
   "outputs": [
    {
     "data": {
      "text/html": [
       "<div>\n",
       "<style scoped>\n",
       "    .dataframe tbody tr th:only-of-type {\n",
       "        vertical-align: middle;\n",
       "    }\n",
       "\n",
       "    .dataframe tbody tr th {\n",
       "        vertical-align: top;\n",
       "    }\n",
       "\n",
       "    .dataframe thead th {\n",
       "        text-align: right;\n",
       "    }\n",
       "</style>\n",
       "<table border=\"1\" class=\"dataframe\">\n",
       "  <thead>\n",
       "    <tr style=\"text-align: right;\">\n",
       "      <th></th>\n",
       "      <th></th>\n",
       "      <th>pos_sentiment_mean</th>\n",
       "      <th>neg_sentiment_mean</th>\n",
       "      <th>neu_sentiment_mean</th>\n",
       "      <th>compound_sentiment_mean</th>\n",
       "      <th>endowment_hyp_mean</th>\n",
       "      <th>hang_mean</th>\n",
       "      <th>VERB_mean</th>\n",
       "      <th>character_name_mean</th>\n",
       "      <th>PROPN_mean</th>\n",
       "      <th>shall_mean</th>\n",
       "      <th>...</th>\n",
       "      <th>mollification_std</th>\n",
       "      <th>guangzhou_syn_std</th>\n",
       "      <th>canton_std</th>\n",
       "      <th>distractedly_syn_std</th>\n",
       "      <th>distractedly_std</th>\n",
       "      <th>grade_std</th>\n",
       "      <th>deplore_std</th>\n",
       "      <th>convention_hyp_std</th>\n",
       "      <th>more_std</th>\n",
       "      <th>severs_std</th>\n",
       "    </tr>\n",
       "    <tr>\n",
       "      <th>play</th>\n",
       "      <th>name</th>\n",
       "      <th></th>\n",
       "      <th></th>\n",
       "      <th></th>\n",
       "      <th></th>\n",
       "      <th></th>\n",
       "      <th></th>\n",
       "      <th></th>\n",
       "      <th></th>\n",
       "      <th></th>\n",
       "      <th></th>\n",
       "      <th></th>\n",
       "      <th></th>\n",
       "      <th></th>\n",
       "      <th></th>\n",
       "      <th></th>\n",
       "      <th></th>\n",
       "      <th></th>\n",
       "      <th></th>\n",
       "      <th></th>\n",
       "      <th></th>\n",
       "      <th></th>\n",
       "    </tr>\n",
       "  </thead>\n",
       "  <tbody>\n",
       "    <tr>\n",
       "      <th>the-two-noble-kinsmen</th>\n",
       "      <th>SECOND AND THIRD KNIGHTS</th>\n",
       "      <td>0.508</td>\n",
       "      <td>0.0</td>\n",
       "      <td>0.492</td>\n",
       "      <td>0.73835</td>\n",
       "      <td>0.0</td>\n",
       "      <td>0.0</td>\n",
       "      <td>1.0</td>\n",
       "      <td>1.0</td>\n",
       "      <td>1.0</td>\n",
       "      <td>0.0</td>\n",
       "      <td>...</td>\n",
       "      <td>0.0</td>\n",
       "      <td>0.0</td>\n",
       "      <td>0.0</td>\n",
       "      <td>0.0</td>\n",
       "      <td>0.0</td>\n",
       "      <td>0.0</td>\n",
       "      <td>0.0</td>\n",
       "      <td>0.0</td>\n",
       "      <td>0.0</td>\n",
       "      <td>0.0</td>\n",
       "    </tr>\n",
       "  </tbody>\n",
       "</table>\n",
       "<p>1 rows × 66414 columns</p>\n",
       "</div>"
      ],
      "text/plain": [
       "                                                pos_sentiment_mean  \\\n",
       "play                  name                                           \n",
       "the-two-noble-kinsmen SECOND AND THIRD KNIGHTS               0.508   \n",
       "\n",
       "                                                neg_sentiment_mean  \\\n",
       "play                  name                                           \n",
       "the-two-noble-kinsmen SECOND AND THIRD KNIGHTS                 0.0   \n",
       "\n",
       "                                                neu_sentiment_mean  \\\n",
       "play                  name                                           \n",
       "the-two-noble-kinsmen SECOND AND THIRD KNIGHTS               0.492   \n",
       "\n",
       "                                                compound_sentiment_mean  \\\n",
       "play                  name                                                \n",
       "the-two-noble-kinsmen SECOND AND THIRD KNIGHTS                  0.73835   \n",
       "\n",
       "                                                endowment_hyp_mean  hang_mean  \\\n",
       "play                  name                                                      \n",
       "the-two-noble-kinsmen SECOND AND THIRD KNIGHTS                 0.0        0.0   \n",
       "\n",
       "                                                VERB_mean  \\\n",
       "play                  name                                  \n",
       "the-two-noble-kinsmen SECOND AND THIRD KNIGHTS        1.0   \n",
       "\n",
       "                                                character_name_mean  \\\n",
       "play                  name                                            \n",
       "the-two-noble-kinsmen SECOND AND THIRD KNIGHTS                  1.0   \n",
       "\n",
       "                                                PROPN_mean  shall_mean  ...  \\\n",
       "play                  name                                              ...   \n",
       "the-two-noble-kinsmen SECOND AND THIRD KNIGHTS         1.0         0.0  ...   \n",
       "\n",
       "                                                mollification_std  \\\n",
       "play                  name                                          \n",
       "the-two-noble-kinsmen SECOND AND THIRD KNIGHTS                0.0   \n",
       "\n",
       "                                                guangzhou_syn_std  canton_std  \\\n",
       "play                  name                                                      \n",
       "the-two-noble-kinsmen SECOND AND THIRD KNIGHTS                0.0         0.0   \n",
       "\n",
       "                                                distractedly_syn_std  \\\n",
       "play                  name                                             \n",
       "the-two-noble-kinsmen SECOND AND THIRD KNIGHTS                   0.0   \n",
       "\n",
       "                                                distractedly_std  grade_std  \\\n",
       "play                  name                                                    \n",
       "the-two-noble-kinsmen SECOND AND THIRD KNIGHTS               0.0        0.0   \n",
       "\n",
       "                                                deplore_std  \\\n",
       "play                  name                                    \n",
       "the-two-noble-kinsmen SECOND AND THIRD KNIGHTS          0.0   \n",
       "\n",
       "                                                convention_hyp_std  more_std  \\\n",
       "play                  name                                                     \n",
       "the-two-noble-kinsmen SECOND AND THIRD KNIGHTS                 0.0       0.0   \n",
       "\n",
       "                                                severs_std  \n",
       "play                  name                                  \n",
       "the-two-noble-kinsmen SECOND AND THIRD KNIGHTS         0.0  \n",
       "\n",
       "[1 rows x 66414 columns]"
      ]
     },
     "execution_count": 73,
     "metadata": {},
     "output_type": "execute_result"
    }
   ],
   "source": [
    "char_X[char_X['compound_sentiment_mean'] == failures.iloc[1]['compound_sentiment_mean']]"
   ]
  },
  {
   "cell_type": "code",
   "execution_count": 78,
   "id": "c037460d-835e-4cab-82be-b62802dc236d",
   "metadata": {},
   "outputs": [
    {
     "data": {
      "text/html": [
       "<div>\n",
       "<style scoped>\n",
       "    .dataframe tbody tr th:only-of-type {\n",
       "        vertical-align: middle;\n",
       "    }\n",
       "\n",
       "    .dataframe tbody tr th {\n",
       "        vertical-align: top;\n",
       "    }\n",
       "\n",
       "    .dataframe thead th {\n",
       "        text-align: right;\n",
       "    }\n",
       "</style>\n",
       "<table border=\"1\" class=\"dataframe\">\n",
       "  <thead>\n",
       "    <tr style=\"text-align: right;\">\n",
       "      <th></th>\n",
       "      <th></th>\n",
       "      <th>pos_sentiment_mean</th>\n",
       "      <th>neg_sentiment_mean</th>\n",
       "      <th>neu_sentiment_mean</th>\n",
       "      <th>compound_sentiment_mean</th>\n",
       "      <th>endowment_hyp_mean</th>\n",
       "      <th>hang_mean</th>\n",
       "      <th>VERB_mean</th>\n",
       "      <th>character_name_mean</th>\n",
       "      <th>PROPN_mean</th>\n",
       "      <th>shall_mean</th>\n",
       "      <th>...</th>\n",
       "      <th>mollification_std</th>\n",
       "      <th>guangzhou_syn_std</th>\n",
       "      <th>canton_std</th>\n",
       "      <th>distractedly_syn_std</th>\n",
       "      <th>distractedly_std</th>\n",
       "      <th>grade_std</th>\n",
       "      <th>deplore_std</th>\n",
       "      <th>convention_hyp_std</th>\n",
       "      <th>more_std</th>\n",
       "      <th>severs_std</th>\n",
       "    </tr>\n",
       "    <tr>\n",
       "      <th>play</th>\n",
       "      <th>name</th>\n",
       "      <th></th>\n",
       "      <th></th>\n",
       "      <th></th>\n",
       "      <th></th>\n",
       "      <th></th>\n",
       "      <th></th>\n",
       "      <th></th>\n",
       "      <th></th>\n",
       "      <th></th>\n",
       "      <th></th>\n",
       "      <th></th>\n",
       "      <th></th>\n",
       "      <th></th>\n",
       "      <th></th>\n",
       "      <th></th>\n",
       "      <th></th>\n",
       "      <th></th>\n",
       "      <th></th>\n",
       "      <th></th>\n",
       "      <th></th>\n",
       "      <th></th>\n",
       "    </tr>\n",
       "  </thead>\n",
       "  <tbody>\n",
       "    <tr>\n",
       "      <th>henry-vi-part-1</th>\n",
       "      <th>GLANSDALE</th>\n",
       "      <td>0.0</td>\n",
       "      <td>0.0</td>\n",
       "      <td>1.0</td>\n",
       "      <td>0.5</td>\n",
       "      <td>0.0</td>\n",
       "      <td>0.0</td>\n",
       "      <td>0.0</td>\n",
       "      <td>0.0</td>\n",
       "      <td>0.0</td>\n",
       "      <td>0.0</td>\n",
       "      <td>...</td>\n",
       "      <td>0.0</td>\n",
       "      <td>0.0</td>\n",
       "      <td>0.0</td>\n",
       "      <td>0.0</td>\n",
       "      <td>0.0</td>\n",
       "      <td>0.0</td>\n",
       "      <td>0.0</td>\n",
       "      <td>0.0</td>\n",
       "      <td>0.0</td>\n",
       "      <td>0.0</td>\n",
       "    </tr>\n",
       "  </tbody>\n",
       "</table>\n",
       "<p>1 rows × 66414 columns</p>\n",
       "</div>"
      ],
      "text/plain": [
       "                           pos_sentiment_mean  neg_sentiment_mean  \\\n",
       "play            name                                                \n",
       "henry-vi-part-1 GLANSDALE                 0.0                 0.0   \n",
       "\n",
       "                           neu_sentiment_mean  compound_sentiment_mean  \\\n",
       "play            name                                                     \n",
       "henry-vi-part-1 GLANSDALE                 1.0                      0.5   \n",
       "\n",
       "                           endowment_hyp_mean  hang_mean  VERB_mean  \\\n",
       "play            name                                                  \n",
       "henry-vi-part-1 GLANSDALE                 0.0        0.0        0.0   \n",
       "\n",
       "                           character_name_mean  PROPN_mean  shall_mean  ...  \\\n",
       "play            name                                                    ...   \n",
       "henry-vi-part-1 GLANSDALE                  0.0         0.0         0.0  ...   \n",
       "\n",
       "                           mollification_std  guangzhou_syn_std  canton_std  \\\n",
       "play            name                                                          \n",
       "henry-vi-part-1 GLANSDALE                0.0                0.0         0.0   \n",
       "\n",
       "                           distractedly_syn_std  distractedly_std  grade_std  \\\n",
       "play            name                                                           \n",
       "henry-vi-part-1 GLANSDALE                   0.0               0.0        0.0   \n",
       "\n",
       "                           deplore_std  convention_hyp_std  more_std  \\\n",
       "play            name                                                   \n",
       "henry-vi-part-1 GLANSDALE          0.0                 0.0       0.0   \n",
       "\n",
       "                           severs_std  \n",
       "play            name                   \n",
       "henry-vi-part-1 GLANSDALE         0.0  \n",
       "\n",
       "[1 rows x 66414 columns]"
      ]
     },
     "execution_count": 78,
     "metadata": {},
     "output_type": "execute_result"
    }
   ],
   "source": [
    "char_X[char_X['bridge_mean'] == failures.iloc[2]['bridge_mean']]"
   ]
  },
  {
   "cell_type": "code",
   "execution_count": 75,
   "id": "a693347f-3509-47de-a2ed-1a2755f213d6",
   "metadata": {},
   "outputs": [
    {
     "data": {
      "text/html": [
       "<div>\n",
       "<style scoped>\n",
       "    .dataframe tbody tr th:only-of-type {\n",
       "        vertical-align: middle;\n",
       "    }\n",
       "\n",
       "    .dataframe tbody tr th {\n",
       "        vertical-align: top;\n",
       "    }\n",
       "\n",
       "    .dataframe thead th {\n",
       "        text-align: right;\n",
       "    }\n",
       "</style>\n",
       "<table border=\"1\" class=\"dataframe\">\n",
       "  <thead>\n",
       "    <tr style=\"text-align: right;\">\n",
       "      <th></th>\n",
       "      <th></th>\n",
       "      <th>pos_sentiment_mean</th>\n",
       "      <th>neg_sentiment_mean</th>\n",
       "      <th>neu_sentiment_mean</th>\n",
       "      <th>compound_sentiment_mean</th>\n",
       "      <th>endowment_hyp_mean</th>\n",
       "      <th>hang_mean</th>\n",
       "      <th>VERB_mean</th>\n",
       "      <th>character_name_mean</th>\n",
       "      <th>PROPN_mean</th>\n",
       "      <th>shall_mean</th>\n",
       "      <th>...</th>\n",
       "      <th>mollification_std</th>\n",
       "      <th>guangzhou_syn_std</th>\n",
       "      <th>canton_std</th>\n",
       "      <th>distractedly_syn_std</th>\n",
       "      <th>distractedly_std</th>\n",
       "      <th>grade_std</th>\n",
       "      <th>deplore_std</th>\n",
       "      <th>convention_hyp_std</th>\n",
       "      <th>more_std</th>\n",
       "      <th>severs_std</th>\n",
       "    </tr>\n",
       "    <tr>\n",
       "      <th>play</th>\n",
       "      <th>name</th>\n",
       "      <th></th>\n",
       "      <th></th>\n",
       "      <th></th>\n",
       "      <th></th>\n",
       "      <th></th>\n",
       "      <th></th>\n",
       "      <th></th>\n",
       "      <th></th>\n",
       "      <th></th>\n",
       "      <th></th>\n",
       "      <th></th>\n",
       "      <th></th>\n",
       "      <th></th>\n",
       "      <th></th>\n",
       "      <th></th>\n",
       "      <th></th>\n",
       "      <th></th>\n",
       "      <th></th>\n",
       "      <th></th>\n",
       "      <th></th>\n",
       "      <th></th>\n",
       "    </tr>\n",
       "  </thead>\n",
       "  <tbody>\n",
       "    <tr>\n",
       "      <th>henry-v</th>\n",
       "      <th>SALISBURY</th>\n",
       "      <td>0.232556</td>\n",
       "      <td>0.099333</td>\n",
       "      <td>0.668222</td>\n",
       "      <td>0.570283</td>\n",
       "      <td>0.0</td>\n",
       "      <td>0.0</td>\n",
       "      <td>0.777778</td>\n",
       "      <td>1.555556</td>\n",
       "      <td>2.222222</td>\n",
       "      <td>0.0</td>\n",
       "      <td>...</td>\n",
       "      <td>0.0</td>\n",
       "      <td>0.0</td>\n",
       "      <td>0.0</td>\n",
       "      <td>0.0</td>\n",
       "      <td>0.0</td>\n",
       "      <td>0.0</td>\n",
       "      <td>0.0</td>\n",
       "      <td>0.0</td>\n",
       "      <td>0.0</td>\n",
       "      <td>0.0</td>\n",
       "    </tr>\n",
       "  </tbody>\n",
       "</table>\n",
       "<p>1 rows × 66414 columns</p>\n",
       "</div>"
      ],
      "text/plain": [
       "                   pos_sentiment_mean  neg_sentiment_mean  neu_sentiment_mean  \\\n",
       "play    name                                                                    \n",
       "henry-v SALISBURY            0.232556            0.099333            0.668222   \n",
       "\n",
       "                   compound_sentiment_mean  endowment_hyp_mean  hang_mean  \\\n",
       "play    name                                                                \n",
       "henry-v SALISBURY                 0.570283                 0.0        0.0   \n",
       "\n",
       "                   VERB_mean  character_name_mean  PROPN_mean  shall_mean  \\\n",
       "play    name                                                                \n",
       "henry-v SALISBURY   0.777778             1.555556    2.222222         0.0   \n",
       "\n",
       "                   ...  mollification_std  guangzhou_syn_std  canton_std  \\\n",
       "play    name       ...                                                     \n",
       "henry-v SALISBURY  ...                0.0                0.0         0.0   \n",
       "\n",
       "                   distractedly_syn_std  distractedly_std  grade_std  \\\n",
       "play    name                                                           \n",
       "henry-v SALISBURY                   0.0               0.0        0.0   \n",
       "\n",
       "                   deplore_std  convention_hyp_std  more_std  severs_std  \n",
       "play    name                                                              \n",
       "henry-v SALISBURY          0.0                 0.0       0.0         0.0  \n",
       "\n",
       "[1 rows x 66414 columns]"
      ]
     },
     "execution_count": 75,
     "metadata": {},
     "output_type": "execute_result"
    }
   ],
   "source": [
    "char_X[char_X['pos_sentiment_mean'] == failures.iloc[3]['pos_sentiment_mean']]"
   ]
  },
  {
   "cell_type": "markdown",
   "id": "ae7e211a-b767-4d04-969c-4d225163f967",
   "metadata": {},
   "source": [
    "- Death odds"
   ]
  },
  {
   "cell_type": "code",
   "execution_count": 93,
   "id": "8aeecc03-ac79-456c-92c6-8e8c334497b1",
   "metadata": {},
   "outputs": [
    {
     "data": {
      "text/plain": [
       "<AxesSubplot:>"
      ]
     },
     "execution_count": 93,
     "metadata": {},
     "output_type": "execute_result"
    },
    {
     "data": {
      "image/png": "[encoded data removed]",
      "text/plain": [
       "<Figure size 432x288 with 1 Axes>"
      ]
     },
     "metadata": {
      "needs_background": "light"
     },
     "output_type": "display_data"
    }
   ],
   "source": [
    "sns.barplot(x = list(char_weights['dies'].values())[:20], y = list(char_weights['dies'].keys())[:20])"
   ]
  },
  {
   "cell_type": "code",
   "execution_count": 101,
   "id": "3d4c8b70-5727-4092-bae5-82e059f853fd",
   "metadata": {},
   "outputs": [],
   "source": [
    "char_weights_words_dies = {key: value for key, value in char_weights['dies'].items() \\\n",
    "                           if re.search(r'[A-Z]|sentiment|character_name', key) == None}"
   ]
  },
  {
   "cell_type": "code",
   "execution_count": 103,
   "id": "6e526afd-401e-41ef-9d24-f7cd2d38899d",
   "metadata": {},
   "outputs": [
    {
     "data": {
      "text/plain": [
       "<AxesSubplot:>"
      ]
     },
     "execution_count": 103,
     "metadata": {},
     "output_type": "execute_result"
    },
    {
     "data": {
      "image/png": "[encoded data removed]",
      "text/plain": [
       "<Figure size 432x288 with 1 Axes>"
      ]
     },
     "metadata": {
      "needs_background": "light"
     },
     "output_type": "display_data"
    }
   ],
   "source": [
    "sns.barplot(x = list(char_weights_words_dies.values())[:20], y = list(char_weights_words_dies.keys())[:20])"
   ]
  },
  {
   "cell_type": "markdown",
   "id": "b775408b-c376-4351-840f-736aa89c5600",
   "metadata": {},
   "source": [
    "- Life odds."
   ]
  },
  {
   "cell_type": "code",
   "execution_count": 104,
   "id": "76da0155-4ec3-486e-a213-ec21e2c176fb",
   "metadata": {},
   "outputs": [
    {
     "data": {
      "text/plain": [
       "<AxesSubplot:>"
      ]
     },
     "execution_count": 104,
     "metadata": {},
     "output_type": "execute_result"
    },
    {
     "data": {
      "image/png": "[encoded data removed]",
      "text/plain": [
       "<Figure size 432x288 with 1 Axes>"
      ]
     },
     "metadata": {
      "needs_background": "light"
     },
     "output_type": "display_data"
    }
   ],
   "source": [
    "sns.barplot(x = list(char_weights['lives'].values())[:20], y = list(char_weights['lives'].keys())[:20])"
   ]
  },
  {
   "cell_type": "code",
   "execution_count": 105,
   "id": "40594fad-c647-46c9-8d08-f8d74bbdf707",
   "metadata": {},
   "outputs": [],
   "source": [
    "char_weights_words_lives = {key: value for key, value in char_weights['lives'].items() \\\n",
    "                           if re.search(r'[A-Z]|sentiment|character_name', key) == None}"
   ]
  },
  {
   "cell_type": "code",
   "execution_count": 106,
   "id": "ae66d7c0-f88f-4e85-b7ac-916331cd8a5e",
   "metadata": {},
   "outputs": [
    {
     "data": {
      "text/plain": [
       "<AxesSubplot:>"
      ]
     },
     "execution_count": 106,
     "metadata": {},
     "output_type": "execute_result"
    },
    {
     "data": {
      "image/png": "[encoded data removed]",
      "text/plain": [
       "<Figure size 432x288 with 1 Axes>"
      ]
     },
     "metadata": {
      "needs_background": "light"
     },
     "output_type": "display_data"
    }
   ],
   "source": [
    "sns.barplot(x = list(char_weights_words_lives.values())[:20], y = list(char_weights_words_lives.keys())[:20])"
   ]
  },
  {
   "cell_type": "markdown",
   "id": "e1959b12-cf79-4772-aec9-eab00ee8e30c",
   "metadata": {},
   "source": [
    "- Comedy odds"
   ]
  },
  {
   "cell_type": "code",
   "execution_count": 107,
   "id": "1bda7fd3-bea1-4505-9232-87b3c27d8f2a",
   "metadata": {},
   "outputs": [
    {
     "data": {
      "text/plain": [
       "<AxesSubplot:>"
      ]
     },
     "execution_count": 107,
     "metadata": {},
     "output_type": "execute_result"
    },
    {
     "data": {
      "image/png": "[encoded data removed]",
      "text/plain": [
       "<Figure size 432x288 with 1 Axes>"
      ]
     },
     "metadata": {
      "needs_background": "light"
     },
     "output_type": "display_data"
    }
   ],
   "source": [
    "sns.barplot(x = list(type_weights['comedy'].values())[:20], y = list(type_weights['comedy'].keys())[:20])"
   ]
  },
  {
   "cell_type": "code",
   "execution_count": 108,
   "id": "fa7b3957-b46f-4443-9c37-74e1d93f8049",
   "metadata": {},
   "outputs": [],
   "source": [
    "type_weights_words_comedy = {key: value for key, value in type_weights['comedy'].items() \\\n",
    "                           if re.search(r'[A-Z]|sentiment|character_name', key) == None}"
   ]
  },
  {
   "cell_type": "code",
   "execution_count": 109,
   "id": "837905c6-d85d-4a4e-b5e0-e1926b4141fa",
   "metadata": {},
   "outputs": [
    {
     "data": {
      "text/plain": [
       "<AxesSubplot:>"
      ]
     },
     "execution_count": 109,
     "metadata": {},
     "output_type": "execute_result"
    },
    {
     "data": {
      "image/png": "[encoded data removed]",
      "text/plain": [
       "<Figure size 432x288 with 1 Axes>"
      ]
     },
     "metadata": {
      "needs_background": "light"
     },
     "output_type": "display_data"
    }
   ],
   "source": [
    "sns.barplot(x = list(type_weights_words_comedy.values())[:20], y = list(type_weights_words_comedy.keys())[:20])"
   ]
  },
  {
   "cell_type": "markdown",
   "id": "3033b97b-0bc0-4fd8-a60f-632dd242cbbe",
   "metadata": {},
   "source": [
    "- History odds."
   ]
  },
  {
   "cell_type": "code",
   "execution_count": 110,
   "id": "fef87874-51d7-436a-bff1-3d24f5f384c7",
   "metadata": {},
   "outputs": [
    {
     "data": {
      "text/plain": [
       "<AxesSubplot:>"
      ]
     },
     "execution_count": 110,
     "metadata": {},
     "output_type": "execute_result"
    },
    {
     "data": {
      "image/png": "[encoded data removed]",
      "text/plain": [
       "<Figure size 432x288 with 1 Axes>"
      ]
     },
     "metadata": {
      "needs_background": "light"
     },
     "output_type": "display_data"
    }
   ],
   "source": [
    "sns.barplot(x = list(type_weights['history'].values())[:20], y = list(type_weights['history'].keys())[:20])"
   ]
  },
  {
   "cell_type": "code",
   "execution_count": 111,
   "id": "75dd8259-8e0d-4dcf-812a-f8c58ba525a9",
   "metadata": {},
   "outputs": [],
   "source": [
    "type_weights_words_history = {key: value for key, value in type_weights['history'].items() \\\n",
    "                           if re.search(r'[A-Z]|sentiment|character_name', key) == None}"
   ]
  },
  {
   "cell_type": "code",
   "execution_count": 112,
   "id": "acb68790-fa12-4ae4-8b31-64c2752e050b",
   "metadata": {},
   "outputs": [
    {
     "data": {
      "text/plain": [
       "<AxesSubplot:>"
      ]
     },
     "execution_count": 112,
     "metadata": {},
     "output_type": "execute_result"
    },
    {
     "data": {
      "image/png": "[encoded data removed]",
      "text/plain": [
       "<Figure size 432x288 with 1 Axes>"
      ]
     },
     "metadata": {
      "needs_background": "light"
     },
     "output_type": "display_data"
    }
   ],
   "source": [
    "sns.barplot(x = list(type_weights_words_history.values())[:20], y = list(type_weights_words_history.keys())[:20])"
   ]
  },
  {
   "cell_type": "markdown",
   "id": "1e2f8ae8-65a4-431a-825d-01bad9ee49e5",
   "metadata": {},
   "source": [
    "- Tragedy odds."
   ]
  },
  {
   "cell_type": "code",
   "execution_count": 113,
   "id": "f0558552-a4a5-4dc0-85a9-a2b15ef8572f",
   "metadata": {},
   "outputs": [
    {
     "data": {
      "text/plain": [
       "<AxesSubplot:>"
      ]
     },
     "execution_count": 113,
     "metadata": {},
     "output_type": "execute_result"
    },
    {
     "data": {
      "image/png": "[encoded data removed]",
      "text/plain": [
       "<Figure size 432x288 with 1 Axes>"
      ]
     },
     "metadata": {
      "needs_background": "light"
     },
     "output_type": "display_data"
    }
   ],
   "source": [
    "sns.barplot(x = list(type_weights['tragedy'].values())[:20], y = list(type_weights['tragedy'].keys())[:20])"
   ]
  },
  {
   "cell_type": "code",
   "execution_count": 114,
   "id": "9fa17a82-7c1d-452a-8457-65ea73f5d753",
   "metadata": {},
   "outputs": [],
   "source": [
    "type_weights_words_tragedy = {key: value for key, value in type_weights['tragedy'].items() \\\n",
    "                           if re.search(r'[A-Z]|sentiment|character_name', key) == None}"
   ]
  },
  {
   "cell_type": "code",
   "execution_count": 115,
   "id": "7ef19f0f-fc98-4158-ad3c-a73e64018959",
   "metadata": {},
   "outputs": [
    {
     "data": {
      "text/plain": [
       "<AxesSubplot:>"
      ]
     },
     "execution_count": 115,
     "metadata": {},
     "output_type": "execute_result"
    },
    {
     "data": {
      "image/png": "[encoded data removed]",
      "text/plain": [
       "<Figure size 432x288 with 1 Axes>"
      ]
     },
     "metadata": {
      "needs_background": "light"
     },
     "output_type": "display_data"
    }
   ],
   "source": [
    "sns.barplot(x = list(type_weights_words_tragedy.values())[:20], y = list(type_weights_words_tragedy.keys())[:20])"
   ]
  },
  {
   "cell_type": "code",
   "execution_count": null,
   "id": "b09ba60d-98c3-48ff-ba38-b601be1ac339",
   "metadata": {},
   "outputs": [],
   "source": []
  }
 ],
 "metadata": {
  "kernelspec": {
   "display_name": "Python 3",
   "language": "python",
   "name": "python3"
  },
  "language_info": {
   "codemirror_mode": {
    "name": "ipython",
    "version": 3
   },
   "file_extension": ".py",
   "mimetype": "text/x-python",
   "name": "python",
   "nbconvert_exporter": "python",
   "pygments_lexer": "ipython3",
   "version": "3.8.8"
  }
 },
 "nbformat": 4,
 "nbformat_minor": 5
}
