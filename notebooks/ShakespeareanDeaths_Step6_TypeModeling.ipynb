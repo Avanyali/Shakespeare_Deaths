{
 "cells": [
  {
   "cell_type": "code",
   "execution_count": 1,
   "id": "e8454501-c447-41cc-9036-ec37c392b79c",
   "metadata": {},
   "outputs": [],
   "source": [
    "import pandas as pd\n",
    "import numpy as np\n",
    "import matplotlib.pyplot as plt\n",
    "import seaborn as sns\n",
    "\n",
    "from sklearn.datasets import make_regression\n",
    "from sklearn.preprocessing import StandardScaler\n",
    "from sklearn.model_selection import train_test_split\n",
    "from sklearn import metrics\n",
    "from sklearn.dummy import DummyClassifier\n",
    "\n",
    "from tensorflow.keras.models import Sequential\n",
    "from tensorflow.keras.layers import Dense\n",
    "from tensorflow.keras.backend import clear_session\n",
    "from tensorflow.keras.layers import Dropout\n",
    "from tensorflow.keras.regularizers import l2\n",
    "from tensorflow.keras.callbacks import EarlyStopping\n",
    "from tensorflow.random import set_seed\n",
    "\n",
    "from sklearn.model_selection import train_test_split, RandomizedSearchCV\n",
    "from sklearn.pipeline import Pipeline\n",
    "from sklearn.metrics import confusion_matrix, plot_confusion_matrix\n",
    "from sklearn.decomposition import PCA\n",
    "\n",
    "from scipy.stats import uniform, loguniform, randint\n",
    "\n",
    "from sklearn.linear_model import LogisticRegression\n",
    "from sklearn.naive_bayes import MultinomialNB\n",
    "from sklearn.svm import SVC\n",
    "\n",
    "from sklearn.preprocessing import StandardScaler\n",
    "import pickle"
   ]
  },
  {
   "cell_type": "code",
   "execution_count": 2,
   "id": "39db8c32-aaac-467e-a338-372148abd035",
   "metadata": {},
   "outputs": [],
   "source": [
    "type_df = pd.read_csv('../data/csv/ShakespeareCharacterLines_play_corpus.csv', index_col = ['play'])"
   ]
  },
  {
   "cell_type": "code",
   "execution_count": 3,
   "id": "97aeff29-f0eb-4794-8088-0eb327b78ec4",
   "metadata": {
    "tags": []
   },
   "outputs": [],
   "source": [
    "colon = slice(None)"
   ]
  },
  {
   "cell_type": "markdown",
   "id": "900b38b6-0b05-41d2-b004-038546b2c5b7",
   "metadata": {},
   "source": [
    "- Baseline accuracy."
   ]
  },
  {
   "cell_type": "code",
   "execution_count": 4,
   "id": "b3fe9a23-266c-4caf-b9cd-fc454f38e741",
   "metadata": {},
   "outputs": [
    {
     "data": {
      "text/plain": [
       "0    0.473684\n",
       "1    0.263158\n",
       "2    0.263158\n",
       "Name: play_type, dtype: float64"
      ]
     },
     "execution_count": 4,
     "metadata": {},
     "output_type": "execute_result"
    }
   ],
   "source": [
    "type_df['play_type'].value_counts(normalize = True)"
   ]
  },
  {
   "cell_type": "markdown",
   "id": "edb0ec4b-898f-4432-ab88-af279ff5ddc0",
   "metadata": {},
   "source": [
    "- Train/test split."
   ]
  },
  {
   "cell_type": "code",
   "execution_count": 5,
   "id": "52c0ccde-d83f-40ed-aed7-d11c7e3ace8a",
   "metadata": {
    "tags": []
   },
   "outputs": [],
   "source": [
    "type_xlist = type_df.columns.tolist()\n",
    "type_xlist.remove('play_type')\n",
    "\n",
    "type_X = type_df[type_xlist]\n",
    "type_y = type_df['play_type']\n",
    "\n",
    "type_X_train, type_X_test, type_y_train, type_y_test = \\\n",
    "train_test_split(type_X, type_y, random_state = 42, stratify = type_y, test_size = .2)\n",
    "\n",
    "sc = StandardScaler()\n",
    "\n",
    "type_Xs_train = sc.fit_transform(type_X_train)\n",
    "type_Xs_test = sc.transform(type_X_test)\n",
    "type_Xs = sc.transform(type_X)"
   ]
  },
  {
   "cell_type": "markdown",
   "id": "eda0b566-16b3-433b-8464-4f939c4a71cd",
   "metadata": {},
   "source": [
    "- PCA."
   ]
  },
  {
   "cell_type": "code",
   "execution_count": 6,
   "id": "88d73724-6cf7-44e3-926e-abbcc4fc504d",
   "metadata": {},
   "outputs": [],
   "source": [
    "pca = PCA(random_state=42)\n",
    "type_Z_train = pca.fit_transform(type_Xs_train)"
   ]
  },
  {
   "cell_type": "code",
   "execution_count": 7,
   "id": "9be9a77f-4095-42b1-af0d-f140fb894eb1",
   "metadata": {},
   "outputs": [
    {
     "data": {
      "image/png": "[encoded data removed]",
      "text/plain": [
       "<Figure size 432x288 with 1 Axes>"
      ]
     },
     "metadata": {
      "needs_background": "light"
     },
     "output_type": "display_data"
    }
   ],
   "source": [
    "explained_variance = pca.explained_variance_ratio_\n",
    "plt.plot(np.cumsum(explained_variance))\n",
    "plt.xlabel('number of components')\n",
    "plt.ylabel('cumulative explained variance')\n",
    "plt.title('Cumulative Explained Variance for PCA for character dataset')\n",
    "plt.show()"
   ]
  },
  {
   "cell_type": "code",
   "execution_count": 8,
   "id": "74711386-b261-4e04-a724-ecb28cf658e5",
   "metadata": {},
   "outputs": [],
   "source": [
    "type_pca = PCA(random_state=42, svd_solver='full')\n",
    "type_Z_train = type_pca.fit_transform(type_Xs_train)\n",
    "type_Z_test = type_pca.transform(type_Xs_test)\n",
    "type_Z = type_pca.transform(type_Xs)"
   ]
  },
  {
   "cell_type": "markdown",
   "id": "91699c06-2b58-45ba-b3b0-0734d5a48237",
   "metadata": {},
   "source": [
    "- MNBchar"
   ]
  },
  {
   "cell_type": "code",
   "execution_count": 9,
   "id": "69691c39-a278-43e4-a7a0-0310db800c45",
   "metadata": {},
   "outputs": [],
   "source": [
    "type_mnb_pipe = MultinomialNB(fit_prior = False)\n",
    "\n",
    "type_mnb_params = {\n",
    "    'alpha': uniform(0, 1)\n",
    "}\n",
    "\n",
    "type_mnb_rs = RandomizedSearchCV(estimator = type_mnb_pipe,\n",
    "                     param_distributions = type_mnb_params,\n",
    "                     scoring = 'roc_auc',\n",
    "                     n_iter = 50,\n",
    "                     n_jobs = 8,\n",
    "                     cv = 5,\n",
    "                     refit = True,\n",
    "                     random_state=42)"
   ]
  },
  {
   "cell_type": "code",
   "execution_count": 10,
   "id": "945a3ed6-cf24-4b1a-869d-a87fe745d5e5",
   "metadata": {},
   "outputs": [
    {
     "name": "stderr",
     "output_type": "stream",
     "text": [
      "C:\\ProgramData\\Anaconda3\\lib\\site-packages\\sklearn\\model_selection\\_search.py:918: UserWarning: One or more of the test scores are non-finite: [nan nan nan nan nan nan nan nan nan nan nan nan nan nan nan nan nan nan\n",
      " nan nan nan nan nan nan nan nan nan nan nan nan nan nan nan nan nan nan\n",
      " nan nan nan nan nan nan nan nan nan nan nan nan nan nan]\n",
      "  warnings.warn(\n"
     ]
    },
    {
     "data": {
      "text/plain": [
       "RandomizedSearchCV(cv=5, estimator=MultinomialNB(fit_prior=False), n_iter=50,\n",
       "                   n_jobs=8,\n",
       "                   param_distributions={'alpha': <scipy.stats._distn_infrastructure.rv_frozen object at 0x000002597A21DCA0>},\n",
       "                   random_state=42, scoring='roc_auc')"
      ]
     },
     "execution_count": 10,
     "metadata": {},
     "output_type": "execute_result"
    }
   ],
   "source": [
    "type_mnb_rs.fit(type_X_train, type_y_train)"
   ]
  },
  {
   "cell_type": "code",
   "execution_count": 11,
   "id": "c0165817-5a40-48f1-9d78-d54038cce363",
   "metadata": {
    "tags": []
   },
   "outputs": [
    {
     "data": {
      "text/plain": [
       "(1.0, 0.8229166666666666)"
      ]
     },
     "execution_count": 11,
     "metadata": {},
     "output_type": "execute_result"
    }
   ],
   "source": [
    "train_preds = type_mnb_rs.best_estimator_.predict_proba(type_X_train)\n",
    "test_preds = type_mnb_rs.best_estimator_.predict_proba(type_X_test)\n",
    "\n",
    "metrics.roc_auc_score(type_y_train, train_preds, multi_class='ovo'), \\\n",
    "metrics.roc_auc_score(type_y_test, test_preds, multi_class='ovo')"
   ]
  },
  {
   "cell_type": "code",
   "execution_count": 12,
   "id": "6dec28a9-4409-4a9e-9ffa-9605a52113b3",
   "metadata": {},
   "outputs": [
    {
     "data": {
      "text/plain": [
       "<sklearn.metrics._plot.confusion_matrix.ConfusionMatrixDisplay at 0x259012a4280>"
      ]
     },
     "execution_count": 12,
     "metadata": {},
     "output_type": "execute_result"
    },
    {
     "data": {
      "image/png": "[encoded data removed]",
      "text/plain": [
       "<Figure size 432x288 with 2 Axes>"
      ]
     },
     "metadata": {
      "needs_background": "light"
     },
     "output_type": "display_data"
    }
   ],
   "source": [
    "plot_confusion_matrix(type_mnb_rs.best_estimator_, type_X_test, type_y_test)"
   ]
  },
  {
   "cell_type": "code",
   "execution_count": 13,
   "id": "0923d109-db10-4b82-85ac-0c6cfac4af2e",
   "metadata": {},
   "outputs": [],
   "source": [
    "pickle.dump(type_mnb_rs.best_estimator_, open('../models/TypeMultinomialNaiveBayes.pkl', 'wb'))"
   ]
  },
  {
   "cell_type": "markdown",
   "id": "6a366d61-4c65-41af-9cbd-4cce750a8db7",
   "metadata": {},
   "source": [
    "- Char logreg pipe."
   ]
  },
  {
   "cell_type": "code",
   "execution_count": 14,
   "id": "759055c6-8783-429c-8d07-a660bbbd4f9f",
   "metadata": {},
   "outputs": [],
   "source": [
    "logreg_pipe = Pipeline([\n",
    "    ('sc', StandardScaler()),\n",
    "    ('logreg', LogisticRegression(random_state = 42, solver = 'saga'))\n",
    "])\n",
    "\n",
    "logreg_params = {\n",
    "    'logreg__penalty': ['l2', 'elastic-net'],\n",
    "    'logreg__tol': uniform(0, .1),\n",
    "    'logreg__C': loguniform(0.0001, 100),\n",
    "    'logreg__class_weight': ['balanced', None],\n",
    "    'logreg__max_iter': randint(1, 1000),\n",
    "    'logreg__l1_ratio': uniform(0, 1)\n",
    "}\n",
    "\n",
    "logreg_rs_rocauc = RandomizedSearchCV(estimator = logreg_pipe,\n",
    "                     param_distributions = logreg_params,\n",
    "                     scoring = 'roc_auc',\n",
    "                     n_iter = 50,\n",
    "                     n_jobs = 8,\n",
    "                     cv = 5,\n",
    "                     refit = True,\n",
    "                     random_state=42)"
   ]
  },
  {
   "cell_type": "code",
   "execution_count": 15,
   "id": "a7af6435-d7a0-460c-ad13-a05762d316f4",
   "metadata": {
    "tags": []
   },
   "outputs": [
    {
     "name": "stderr",
     "output_type": "stream",
     "text": [
      "C:\\ProgramData\\Anaconda3\\lib\\site-packages\\sklearn\\model_selection\\_search.py:918: UserWarning: One or more of the test scores are non-finite: [nan nan nan nan nan nan nan nan nan nan nan nan nan nan nan nan nan nan\n",
      " nan nan nan nan nan nan nan nan nan nan nan nan nan nan nan nan nan nan\n",
      " nan nan nan nan nan nan nan nan nan nan nan nan nan nan]\n",
      "  warnings.warn(\n",
      "C:\\ProgramData\\Anaconda3\\lib\\site-packages\\sklearn\\linear_model\\_logistic.py:1317: UserWarning: l1_ratio parameter is only used when penalty is 'elasticnet'. Got (penalty=l2)\n",
      "  warnings.warn(\"l1_ratio parameter is only used when penalty is \"\n"
     ]
    },
    {
     "name": "stdout",
     "output_type": "stream",
     "text": [
      "Wall time: 21.8 s\n"
     ]
    },
    {
     "data": {
      "text/plain": [
       "RandomizedSearchCV(cv=5,\n",
       "                   estimator=Pipeline(steps=[('sc', StandardScaler()),\n",
       "                                             ('logreg',\n",
       "                                              LogisticRegression(random_state=42,\n",
       "                                                                 solver='saga'))]),\n",
       "                   n_iter=50, n_jobs=8,\n",
       "                   param_distributions={'logreg__C': <scipy.stats._distn_infrastructure.rv_frozen object at 0x00000259006D4CD0>,\n",
       "                                        'logreg__class_weight': ['balanced',\n",
       "                                                                 None],\n",
       "                                        'logreg__l1_ratio': <scipy.stats._distn_infrastructure.rv_frozen object at 0x00000259006D3040>,\n",
       "                                        'logreg__max_iter': <scipy.stats._distn_infrastructure.rv_frozen object at 0x00000259006D4D60>,\n",
       "                                        'logreg__penalty': ['l2',\n",
       "                                                            'elastic-net'],\n",
       "                                        'logreg__tol': <scipy.stats._distn_infrastructure.rv_frozen object at 0x00000259006D4910>},\n",
       "                   random_state=42, scoring='roc_auc')"
      ]
     },
     "execution_count": 15,
     "metadata": {},
     "output_type": "execute_result"
    }
   ],
   "source": [
    "%%time\n",
    "logreg_rs_rocauc.fit(type_Xs_train, type_y_train)"
   ]
  },
  {
   "cell_type": "code",
   "execution_count": 16,
   "id": "6d9111f9-109a-4795-936f-21be10fdbf29",
   "metadata": {
    "tags": []
   },
   "outputs": [
    {
     "data": {
      "text/plain": [
       "(1.0, 0.9791666666666666)"
      ]
     },
     "execution_count": 16,
     "metadata": {},
     "output_type": "execute_result"
    }
   ],
   "source": [
    "train_preds = logreg_rs_rocauc.best_estimator_['logreg'].predict_proba(type_Xs_train)\n",
    "test_preds = logreg_rs_rocauc.best_estimator_['logreg'].predict_proba(type_Xs_test)\n",
    "\n",
    "metrics.roc_auc_score(type_y_train, train_preds, multi_class='ovo'), \\\n",
    "metrics.roc_auc_score(type_y_test, test_preds, multi_class='ovo')"
   ]
  },
  {
   "cell_type": "code",
   "execution_count": 17,
   "id": "a52a06e8-05a3-47bc-80a9-5de88baa5f28",
   "metadata": {},
   "outputs": [
    {
     "data": {
      "text/plain": [
       "<sklearn.metrics._plot.confusion_matrix.ConfusionMatrixDisplay at 0x259006da250>"
      ]
     },
     "execution_count": 17,
     "metadata": {},
     "output_type": "execute_result"
    },
    {
     "data": {
      "image/png": "[encoded data removed]",
      "text/plain": [
       "<Figure size 432x288 with 2 Axes>"
      ]
     },
     "metadata": {
      "needs_background": "light"
     },
     "output_type": "display_data"
    }
   ],
   "source": [
    "plot_confusion_matrix(logreg_rs_rocauc.best_estimator_['logreg'], type_Xs_test, type_y_test)"
   ]
  },
  {
   "cell_type": "code",
   "execution_count": 18,
   "id": "790059f4-e352-4c5e-906b-5e9662fd3275",
   "metadata": {},
   "outputs": [],
   "source": [
    "pickle.dump(type_mnb_rs.best_estimator_, open('../models/TypeLogisticRegression.pkl', 'wb'))"
   ]
  },
  {
   "cell_type": "markdown",
   "id": "4231329d-5c8c-4281-a55f-c82ba8455f4c",
   "metadata": {},
   "source": [
    "- SVC"
   ]
  },
  {
   "cell_type": "code",
   "execution_count": 19,
   "id": "5df3d8e3-43d2-4081-9852-d475a9f4a41d",
   "metadata": {},
   "outputs": [],
   "source": [
    "svc_pipe = SVC(random_state = 42, kernel='sigmoid', probability = True)\n",
    "\n",
    "svc_params = {\n",
    "    'gamma': ['scale', 'auto'],\n",
    "    'class_weight': ['balanced', None],\n",
    "    'tol': loguniform(0.00001, .1),\n",
    "    'C': loguniform(0.0001, 100),\n",
    "    'class_weight': ['balanced', None],\n",
    "    'max_iter': randint(10000, 30000)\n",
    "}\n",
    "\n",
    "svc_rs_rocauc = RandomizedSearchCV(estimator = svc_pipe,\n",
    "                     param_distributions = svc_params,\n",
    "                     scoring = 'roc_auc',\n",
    "                     n_iter = 50,\n",
    "                     n_jobs = 8,\n",
    "                     cv = 5,\n",
    "                     refit = True,\n",
    "                     random_state=42)"
   ]
  },
  {
   "cell_type": "code",
   "execution_count": 20,
   "id": "810b5fe0-a5bd-49f0-a74c-262d7aea5ce6",
   "metadata": {
    "tags": []
   },
   "outputs": [
    {
     "name": "stdout",
     "output_type": "stream",
     "text": [
      "Wall time: 22.2 s\n"
     ]
    },
    {
     "name": "stderr",
     "output_type": "stream",
     "text": [
      "C:\\ProgramData\\Anaconda3\\lib\\site-packages\\sklearn\\model_selection\\_search.py:918: UserWarning: One or more of the test scores are non-finite: [nan nan nan nan nan nan nan nan nan nan nan nan nan nan nan nan nan nan\n",
      " nan nan nan nan nan nan nan nan nan nan nan nan nan nan nan nan nan nan\n",
      " nan nan nan nan nan nan nan nan nan nan nan nan nan nan]\n",
      "  warnings.warn(\n"
     ]
    },
    {
     "data": {
      "text/plain": [
       "RandomizedSearchCV(cv=5,\n",
       "                   estimator=SVC(kernel='sigmoid', probability=True,\n",
       "                                 random_state=42),\n",
       "                   n_iter=50, n_jobs=8,\n",
       "                   param_distributions={'C': <scipy.stats._distn_infrastructure.rv_frozen object at 0x0000025901248CA0>,\n",
       "                                        'class_weight': ['balanced', None],\n",
       "                                        'gamma': ['scale', 'auto'],\n",
       "                                        'max_iter': <scipy.stats._distn_infrastructure.rv_frozen object at 0x00000259006F97F0>,\n",
       "                                        'tol': <scipy.stats._distn_infrastructure.rv_frozen object at 0x00000259007B29D0>},\n",
       "                   random_state=42, scoring='roc_auc')"
      ]
     },
     "execution_count": 20,
     "metadata": {},
     "output_type": "execute_result"
    }
   ],
   "source": [
    "%%time\n",
    "svc_rs_rocauc.fit(type_Xs_train, type_y_train)"
   ]
  },
  {
   "cell_type": "code",
   "execution_count": 21,
   "id": "647e4619-0a5f-492d-925c-b65d20253993",
   "metadata": {},
   "outputs": [
    {
     "data": {
      "text/plain": [
       "SVC(C=0.017670169402947945, class_weight='balanced', kernel='sigmoid',\n",
       "    max_iter=21964, probability=True, random_state=42,\n",
       "    tol=0.002440060709081752)"
      ]
     },
     "execution_count": 21,
     "metadata": {},
     "output_type": "execute_result"
    }
   ],
   "source": [
    "svc_rs_rocauc.best_estimator_"
   ]
  },
  {
   "cell_type": "code",
   "execution_count": 22,
   "id": "6222a931-b378-4a5c-af6b-cdc97c2b0113",
   "metadata": {
    "tags": []
   },
   "outputs": [
    {
     "data": {
      "text/plain": [
       "(0.0, 0.020833333333333332)"
      ]
     },
     "execution_count": 22,
     "metadata": {},
     "output_type": "execute_result"
    }
   ],
   "source": [
    "train_preds = svc_rs_rocauc.best_estimator_.predict_proba(type_Xs_train)\n",
    "test_preds = svc_rs_rocauc.best_estimator_.predict_proba(type_Xs_test)\n",
    "\n",
    "metrics.roc_auc_score(type_y_train, train_preds, multi_class='ovo'), \\\n",
    "metrics.roc_auc_score(type_y_test, test_preds, multi_class='ovo')"
   ]
  },
  {
   "cell_type": "code",
   "execution_count": 23,
   "id": "1b476d37-5d6c-44b9-8e93-079c444b07b3",
   "metadata": {},
   "outputs": [
    {
     "data": {
      "text/plain": [
       "<sklearn.metrics._plot.confusion_matrix.ConfusionMatrixDisplay at 0x259007b2e20>"
      ]
     },
     "execution_count": 23,
     "metadata": {},
     "output_type": "execute_result"
    },
    {
     "data": {
      "image/png": "[encoded data removed]",
      "text/plain": [
       "<Figure size 432x288 with 2 Axes>"
      ]
     },
     "metadata": {
      "needs_background": "light"
     },
     "output_type": "display_data"
    }
   ],
   "source": [
    "plot_confusion_matrix(svc_rs_rocauc.best_estimator_, type_Xs_test, type_y_test)"
   ]
  },
  {
   "cell_type": "code",
   "execution_count": 24,
   "id": "ee1e3f67-964c-45e7-82b8-cd12a6a7bdce",
   "metadata": {},
   "outputs": [],
   "source": [
    "pickle.dump(svc_rs_rocauc.best_estimator_, open('../models/TypePCASVC.pkl', 'wb'))"
   ]
  },
  {
   "cell_type": "markdown",
   "id": "6f97c171-eb4a-43a9-8158-15bf0f4811db",
   "metadata": {},
   "source": [
    "- On to step 7 ->"
   ]
  }
 ],
 "metadata": {
  "kernelspec": {
   "display_name": "Python 3",
   "language": "python",
   "name": "python3"
  },
  "language_info": {
   "codemirror_mode": {
    "name": "ipython",
    "version": 3
   },
   "file_extension": ".py",
   "mimetype": "text/x-python",
   "name": "python",
   "nbconvert_exporter": "python",
   "pygments_lexer": "ipython3",
   "version": "3.8.8"
  }
 },
 "nbformat": 4,
 "nbformat_minor": 5
}
