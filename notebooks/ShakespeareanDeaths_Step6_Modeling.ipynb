{
 "cells": [
  {
   "cell_type": "code",
   "execution_count": 1,
   "id": "e8454501-c447-41cc-9036-ec37c392b79c",
   "metadata": {},
   "outputs": [],
   "source": [
    "import pandas as pd\n",
    "import numpy as np\n",
    "import matplotlib.pyplot as plt\n",
    "import seaborn as sns\n",
    "\n",
    "from sklearn.datasets import make_regression\n",
    "from sklearn.preprocessing import StandardScaler\n",
    "from sklearn.model_selection import train_test_split, GridSearchCV\n",
    "from sklearn import metrics\n",
    "from sklearn.dummy import DummyClassifier\n",
    "\n",
    "from tensorflow.keras.models import Sequential\n",
    "from tensorflow.keras.layers import Dense\n",
    "from tensorflow.keras.wrappers.scikit_learn import KerasClassifier\n",
    "from tensorflow.keras.backend import clear_session\n",
    "from tensorflow.keras.layers import Dropout\n",
    "from tensorflow.keras.regularizers import l2\n",
    "\n",
    "from sklearn.model_selection import train_test_split, RandomizedSearchCV\n",
    "from sklearn.pipeline import Pipeline\n",
    "from sklearn.metrics import confusion_matrix, plot_confusion_matrix\n",
    "from sklearn.decomposition import PCA\n",
    "\n",
    "from skopt.space import Integer, Real, Categorical\n",
    "from skopt import BayesSearchCV\n",
    "from scipy.stats import uniform, loguniform, randint\n",
    "\n",
    "from sklearn.ensemble import RandomForestClassifier, ExtraTreesClassifier\n",
    "from sklearn.tree import DecisionTreeClassifier\n",
    "from sklearn.linear_model import LogisticRegression\n",
    "from xgboost import XGBClassifier\n",
    "from sklearn.naive_bayes import MultinomialNB\n",
    "\n",
    "from sklearn.preprocessing import StandardScaler\n",
    "import pickle"
   ]
  },
  {
   "cell_type": "code",
   "execution_count": 2,
   "id": "562c2faa-c261-4e36-b5ad-c11bcda49a31",
   "metadata": {
    "tags": []
   },
   "outputs": [
    {
     "ename": "MemoryError",
     "evalue": "",
     "output_type": "error",
     "traceback": [
      "\u001b[1;31m---------------------------------------------------------------------------\u001b[0m",
      "\u001b[1;31mMemoryError\u001b[0m                               Traceback (most recent call last)",
      "\u001b[1;32m<ipython-input-2-ef17a23aff33>\u001b[0m in \u001b[0;36m<module>\u001b[1;34m\u001b[0m\n\u001b[1;32m----> 1\u001b[1;33m \u001b[0mline_df\u001b[0m \u001b[1;33m=\u001b[0m \u001b[0mpd\u001b[0m\u001b[1;33m.\u001b[0m\u001b[0mread_csv\u001b[0m\u001b[1;33m(\u001b[0m\u001b[1;34m'../data/csv/ShakespeareCharacterLines_engineered.csv'\u001b[0m\u001b[1;33m,\u001b[0m \u001b[0mindex_col\u001b[0m \u001b[1;33m=\u001b[0m \u001b[1;33m[\u001b[0m\u001b[1;34m'play'\u001b[0m\u001b[1;33m,\u001b[0m \u001b[1;34m'name'\u001b[0m\u001b[1;33m,\u001b[0m \u001b[1;34m'line_number'\u001b[0m\u001b[1;33m]\u001b[0m\u001b[1;33m)\u001b[0m\u001b[1;33m\u001b[0m\u001b[1;33m\u001b[0m\u001b[0m\n\u001b[0m",
      "\u001b[1;32mC:\\ProgramData\\Anaconda3\\lib\\site-packages\\pandas\\io\\parsers.py\u001b[0m in \u001b[0;36mread_csv\u001b[1;34m(filepath_or_buffer, sep, delimiter, header, names, index_col, usecols, squeeze, prefix, mangle_dupe_cols, dtype, engine, converters, true_values, false_values, skipinitialspace, skiprows, skipfooter, nrows, na_values, keep_default_na, na_filter, verbose, skip_blank_lines, parse_dates, infer_datetime_format, keep_date_col, date_parser, dayfirst, cache_dates, iterator, chunksize, compression, thousands, decimal, lineterminator, quotechar, quoting, doublequote, escapechar, comment, encoding, dialect, error_bad_lines, warn_bad_lines, delim_whitespace, low_memory, memory_map, float_precision, storage_options)\u001b[0m\n\u001b[0;32m    608\u001b[0m     \u001b[0mkwds\u001b[0m\u001b[1;33m.\u001b[0m\u001b[0mupdate\u001b[0m\u001b[1;33m(\u001b[0m\u001b[0mkwds_defaults\u001b[0m\u001b[1;33m)\u001b[0m\u001b[1;33m\u001b[0m\u001b[1;33m\u001b[0m\u001b[0m\n\u001b[0;32m    609\u001b[0m \u001b[1;33m\u001b[0m\u001b[0m\n\u001b[1;32m--> 610\u001b[1;33m     \u001b[1;32mreturn\u001b[0m \u001b[0m_read\u001b[0m\u001b[1;33m(\u001b[0m\u001b[0mfilepath_or_buffer\u001b[0m\u001b[1;33m,\u001b[0m \u001b[0mkwds\u001b[0m\u001b[1;33m)\u001b[0m\u001b[1;33m\u001b[0m\u001b[1;33m\u001b[0m\u001b[0m\n\u001b[0m\u001b[0;32m    611\u001b[0m \u001b[1;33m\u001b[0m\u001b[0m\n\u001b[0;32m    612\u001b[0m \u001b[1;33m\u001b[0m\u001b[0m\n",
      "\u001b[1;32mC:\\ProgramData\\Anaconda3\\lib\\site-packages\\pandas\\io\\parsers.py\u001b[0m in \u001b[0;36m_read\u001b[1;34m(filepath_or_buffer, kwds)\u001b[0m\n\u001b[0;32m    466\u001b[0m \u001b[1;33m\u001b[0m\u001b[0m\n\u001b[0;32m    467\u001b[0m     \u001b[1;32mwith\u001b[0m \u001b[0mparser\u001b[0m\u001b[1;33m:\u001b[0m\u001b[1;33m\u001b[0m\u001b[1;33m\u001b[0m\u001b[0m\n\u001b[1;32m--> 468\u001b[1;33m         \u001b[1;32mreturn\u001b[0m \u001b[0mparser\u001b[0m\u001b[1;33m.\u001b[0m\u001b[0mread\u001b[0m\u001b[1;33m(\u001b[0m\u001b[0mnrows\u001b[0m\u001b[1;33m)\u001b[0m\u001b[1;33m\u001b[0m\u001b[1;33m\u001b[0m\u001b[0m\n\u001b[0m\u001b[0;32m    469\u001b[0m \u001b[1;33m\u001b[0m\u001b[0m\n\u001b[0;32m    470\u001b[0m \u001b[1;33m\u001b[0m\u001b[0m\n",
      "\u001b[1;32mC:\\ProgramData\\Anaconda3\\lib\\site-packages\\pandas\\io\\parsers.py\u001b[0m in \u001b[0;36mread\u001b[1;34m(self, nrows)\u001b[0m\n\u001b[0;32m   1055\u001b[0m     \u001b[1;32mdef\u001b[0m \u001b[0mread\u001b[0m\u001b[1;33m(\u001b[0m\u001b[0mself\u001b[0m\u001b[1;33m,\u001b[0m \u001b[0mnrows\u001b[0m\u001b[1;33m=\u001b[0m\u001b[1;32mNone\u001b[0m\u001b[1;33m)\u001b[0m\u001b[1;33m:\u001b[0m\u001b[1;33m\u001b[0m\u001b[1;33m\u001b[0m\u001b[0m\n\u001b[0;32m   1056\u001b[0m         \u001b[0mnrows\u001b[0m \u001b[1;33m=\u001b[0m \u001b[0mvalidate_integer\u001b[0m\u001b[1;33m(\u001b[0m\u001b[1;34m\"nrows\"\u001b[0m\u001b[1;33m,\u001b[0m \u001b[0mnrows\u001b[0m\u001b[1;33m)\u001b[0m\u001b[1;33m\u001b[0m\u001b[1;33m\u001b[0m\u001b[0m\n\u001b[1;32m-> 1057\u001b[1;33m         \u001b[0mindex\u001b[0m\u001b[1;33m,\u001b[0m \u001b[0mcolumns\u001b[0m\u001b[1;33m,\u001b[0m \u001b[0mcol_dict\u001b[0m \u001b[1;33m=\u001b[0m \u001b[0mself\u001b[0m\u001b[1;33m.\u001b[0m\u001b[0m_engine\u001b[0m\u001b[1;33m.\u001b[0m\u001b[0mread\u001b[0m\u001b[1;33m(\u001b[0m\u001b[0mnrows\u001b[0m\u001b[1;33m)\u001b[0m\u001b[1;33m\u001b[0m\u001b[1;33m\u001b[0m\u001b[0m\n\u001b[0m\u001b[0;32m   1058\u001b[0m \u001b[1;33m\u001b[0m\u001b[0m\n\u001b[0;32m   1059\u001b[0m         \u001b[1;32mif\u001b[0m \u001b[0mindex\u001b[0m \u001b[1;32mis\u001b[0m \u001b[1;32mNone\u001b[0m\u001b[1;33m:\u001b[0m\u001b[1;33m\u001b[0m\u001b[1;33m\u001b[0m\u001b[0m\n",
      "\u001b[1;32mC:\\ProgramData\\Anaconda3\\lib\\site-packages\\pandas\\io\\parsers.py\u001b[0m in \u001b[0;36mread\u001b[1;34m(self, nrows)\u001b[0m\n\u001b[0;32m   2059\u001b[0m     \u001b[1;32mdef\u001b[0m \u001b[0mread\u001b[0m\u001b[1;33m(\u001b[0m\u001b[0mself\u001b[0m\u001b[1;33m,\u001b[0m \u001b[0mnrows\u001b[0m\u001b[1;33m=\u001b[0m\u001b[1;32mNone\u001b[0m\u001b[1;33m)\u001b[0m\u001b[1;33m:\u001b[0m\u001b[1;33m\u001b[0m\u001b[1;33m\u001b[0m\u001b[0m\n\u001b[0;32m   2060\u001b[0m         \u001b[1;32mtry\u001b[0m\u001b[1;33m:\u001b[0m\u001b[1;33m\u001b[0m\u001b[1;33m\u001b[0m\u001b[0m\n\u001b[1;32m-> 2061\u001b[1;33m             \u001b[0mdata\u001b[0m \u001b[1;33m=\u001b[0m \u001b[0mself\u001b[0m\u001b[1;33m.\u001b[0m\u001b[0m_reader\u001b[0m\u001b[1;33m.\u001b[0m\u001b[0mread\u001b[0m\u001b[1;33m(\u001b[0m\u001b[0mnrows\u001b[0m\u001b[1;33m)\u001b[0m\u001b[1;33m\u001b[0m\u001b[1;33m\u001b[0m\u001b[0m\n\u001b[0m\u001b[0;32m   2062\u001b[0m         \u001b[1;32mexcept\u001b[0m \u001b[0mStopIteration\u001b[0m\u001b[1;33m:\u001b[0m\u001b[1;33m\u001b[0m\u001b[1;33m\u001b[0m\u001b[0m\n\u001b[0;32m   2063\u001b[0m             \u001b[1;32mif\u001b[0m \u001b[0mself\u001b[0m\u001b[1;33m.\u001b[0m\u001b[0m_first_chunk\u001b[0m\u001b[1;33m:\u001b[0m\u001b[1;33m\u001b[0m\u001b[1;33m\u001b[0m\u001b[0m\n",
      "\u001b[1;32mpandas\\_libs\\parsers.pyx\u001b[0m in \u001b[0;36mpandas._libs.parsers.TextReader.read\u001b[1;34m()\u001b[0m\n",
      "\u001b[1;32mpandas\\_libs\\parsers.pyx\u001b[0m in \u001b[0;36mpandas._libs.parsers.TextReader._read_low_memory\u001b[1;34m()\u001b[0m\n",
      "\u001b[1;32mpandas\\_libs\\parsers.pyx\u001b[0m in \u001b[0;36mpandas._libs.parsers.TextReader._read_rows\u001b[1;34m()\u001b[0m\n",
      "\u001b[1;32mpandas\\_libs\\parsers.pyx\u001b[0m in \u001b[0;36mpandas._libs.parsers.TextReader._convert_column_data\u001b[1;34m()\u001b[0m\n",
      "\u001b[1;31mMemoryError\u001b[0m: "
     ]
    }
   ],
   "source": [
    "line_df = pd.read_csv('../data/csv/ShakespeareCharacterLines_engineered.csv', index_col = ['play', 'name', 'line_number'])"
   ]
  },
  {
   "cell_type": "code",
   "execution_count": null,
   "id": "a6e48589-cca3-4932-9675-edc7607d804c",
   "metadata": {},
   "outputs": [],
   "source": [
    "char_df = pd.read_csv('../data/csv/ShakespeareCharacterLines_character_corpus.csv', index_col = ['play', 'name'])"
   ]
  },
  {
   "cell_type": "code",
   "execution_count": null,
   "id": "97aeff29-f0eb-4794-8088-0eb327b78ec4",
   "metadata": {
    "tags": []
   },
   "outputs": [],
   "source": [
    "colon = slice(None)"
   ]
  },
  {
   "cell_type": "markdown",
   "id": "edb0ec4b-898f-4432-ab88-af279ff5ddc0",
   "metadata": {},
   "source": [
    "- tragedy/comedy column for predictions, MNB, look for other things that work well on language data."
   ]
  },
  {
   "cell_type": "code",
   "execution_count": null,
   "id": "02cd3b99-e00c-4efd-b3a5-f07bfd28f04d",
   "metadata": {},
   "outputs": [],
   "source": [
    "to_drop = list(line_df.columns[:10])\n",
    "to_drop.remove('character_dies')"
   ]
  },
  {
   "cell_type": "code",
   "execution_count": null,
   "id": "5cb47dd7-66e7-463e-9502-cc57bb111be5",
   "metadata": {},
   "outputs": [],
   "source": [
    "line_df.drop(columns = to_drop, inplace = True)\n",
    "line_df = line_df.astype(dtype = np.float32)"
   ]
  },
  {
   "cell_type": "code",
   "execution_count": null,
   "id": "52c0ccde-d83f-40ed-aed7-d11c7e3ace8a",
   "metadata": {},
   "outputs": [],
   "source": [
    "line_xlist = line_df.columns.tolist()\n",
    "line_xlist.remove('character_dies')\n",
    "\n",
    "char_xlist = char_df.columns.tolist()\n",
    "char_xlist.remove('character_dies')\n",
    "\n",
    "line_X = line_df[line_xlist]\n",
    "char_X = char_df[char_xlist]\n",
    "char_nonneg_X = char_X.drop(columns = ['compound_sentiment_mean', 'compound_sentiment_median', 'compound_sentiment_std'])\n",
    "\n",
    "line_y = line_df['character_dies']\n",
    "char_y = char_df['character_dies']\n",
    "\n",
    "line_X_train, line_X_test, line_y_train, line_y_test = train_test_split(line_X, line_y, random_state = 42, stratify = line_y)\n",
    "char_X_train, char_X_test, char_y_train, char_y_test = train_test_split(char_X, char_y, random_state = 42, stratify = char_y)\n",
    "\n",
    "char_nonneg_X_train = char_X_train.drop(columns = ['compound_sentiment_mean', 'compound_sentiment_median', 'compound_sentiment_std'])\n",
    "char_nonneg_X_test = char_X_test.drop(columns = ['compound_sentiment_mean', 'compound_sentiment_median', 'compound_sentiment_std'])\n",
    "\n",
    "sc = StandardScaler()\n",
    "line_Xs_train = sc.fit_transform(line_X_train)\n",
    "line_Xs_test = sc.transform(line_X_test)\n",
    "line_Xs = sc.transform(line_X)\n",
    "\n",
    "char_Xs_train = sc.fit_transform(char_X_train)\n",
    "char_Xs_test = sc.transform(char_X_test)\n",
    "char_Xs = sc.transform(char_X)"
   ]
  },
  {
   "cell_type": "markdown",
   "id": "eda0b566-16b3-433b-8464-4f939c4a71cd",
   "metadata": {},
   "source": [
    "- Move PCA here with images."
   ]
  },
  {
   "cell_type": "markdown",
   "id": "91699c06-2b58-45ba-b3b0-0734d5a48237",
   "metadata": {},
   "source": [
    "- MNBchar"
   ]
  },
  {
   "cell_type": "code",
   "execution_count": null,
   "id": "69691c39-a278-43e4-a7a0-0310db800c45",
   "metadata": {},
   "outputs": [],
   "source": [
    "char_mnb_pipe = MultinomialNB(fit_prior = False)\n",
    "\n",
    "char_mnb_params = {\n",
    "    'alpha': uniform(0, 1)\n",
    "}\n",
    "\n",
    "char_mnb_rs = RandomizedSearchCV(estimator = char_mnb_pipe,\n",
    "                     param_distributions = char_mnb_params,\n",
    "                     scoring = 'roc_auc',\n",
    "                     n_iter = 50,\n",
    "                     n_jobs = 8,\n",
    "                     cv = 5,\n",
    "                     refit = True,\n",
    "                     random_state=42)"
   ]
  },
  {
   "cell_type": "code",
   "execution_count": null,
   "id": "945a3ed6-cf24-4b1a-869d-a87fe745d5e5",
   "metadata": {},
   "outputs": [],
   "source": [
    "%%time\n",
    "char_mnb_rs.fit(char_nonneg_X_train, char_y_train)"
   ]
  },
  {
   "cell_type": "code",
   "execution_count": null,
   "id": "c0165817-5a40-48f1-9d78-d54038cce363",
   "metadata": {},
   "outputs": [],
   "source": [
    "train_preds = char_mnb_rs.best_estimator_.predict(char_nonneg_X_train)\n",
    "test_preds = char_mnb_rs.best_estimator_.predict(char_nonneg_X_test)\n",
    "\n",
    "metrics.roc_auc_score(char_y_train, train_preds), metrics.roc_auc_score(char_y_test, test_preds)"
   ]
  },
  {
   "cell_type": "code",
   "execution_count": null,
   "id": "f0f0f4b6-96cd-434c-9a56-63e7a96bf769",
   "metadata": {},
   "outputs": [],
   "source": [
    "weights = {key: value for key, value in zip(char_nonneg_X.columns.tolist(), char_mnb_rs.best_estimator_.feature_log_prob_[0])}\n",
    "weights = {k: v for k, v in sorted(weights.items(), key=lambda item: item[1], reverse = True)}"
   ]
  },
  {
   "cell_type": "code",
   "execution_count": null,
   "id": "fc1ff9f1-d81f-4d40-b56c-fa2c274f1b97",
   "metadata": {
    "tags": []
   },
   "outputs": [],
   "source": [
    "weights"
   ]
  },
  {
   "cell_type": "code",
   "execution_count": null,
   "id": "6dec28a9-4409-4a9e-9ffa-9605a52113b3",
   "metadata": {},
   "outputs": [],
   "source": [
    "plot_confusion_matrix(char_mnb_rs.best_estimator_, char_nonneg_X_train, char_y_train)"
   ]
  },
  {
   "cell_type": "markdown",
   "id": "900b38b6-0b05-41d2-b004-038546b2c5b7",
   "metadata": {},
   "source": [
    "- Baseline accuracy."
   ]
  },
  {
   "cell_type": "code",
   "execution_count": null,
   "id": "b3fe9a23-266c-4caf-b9cd-fc454f38e741",
   "metadata": {},
   "outputs": [],
   "source": [
    "char_df['character_dies'].value_counts(normalize = True)"
   ]
  },
  {
   "cell_type": "markdown",
   "id": "6a366d61-4c65-41af-9cbd-4cce750a8db7",
   "metadata": {},
   "source": [
    "- Char logreg pipe."
   ]
  },
  {
   "cell_type": "code",
   "execution_count": null,
   "id": "759055c6-8783-429c-8d07-a660bbbd4f9f",
   "metadata": {},
   "outputs": [],
   "source": [
    "logreg_pipe = Pipeline([\n",
    "    ('sc', StandardScaler()),\n",
    "    ('logreg', LogisticRegression(random_state = 42, solver = 'liblinear', penalty = 'l1'))\n",
    "])\n",
    "\n",
    "logreg_params = {\n",
    "    'logreg__tol': uniform(0, .1),\n",
    "    'logreg__C': loguniform(0.0001, 100),\n",
    "    'logreg__class_weight': Categorical(['balanced', None]),\n",
    "    'logreg__max_iter': randint(1, 1000),\n",
    "    'logreg__l1_ratio': uniform(0, 1)\n",
    "}\n",
    "\n",
    "logreg_rs_rocauc = RandomizedSearchCV(estimator = logreg_pipe,\n",
    "                     param_distributions = logreg_params,\n",
    "                     scoring = 'roc_auc',\n",
    "                     n_iter = 50,\n",
    "                     n_jobs = 8,\n",
    "                     cv = 5,\n",
    "                     refit = True,\n",
    "                     random_state=42)"
   ]
  },
  {
   "cell_type": "code",
   "execution_count": null,
   "id": "a7af6435-d7a0-460c-ad13-a05762d316f4",
   "metadata": {},
   "outputs": [],
   "source": [
    "%%time\n",
    "logreg_rs_rocauc.fit(X_train, y_train)"
   ]
  },
  {
   "cell_type": "code",
   "execution_count": null,
   "id": "6d9111f9-109a-4795-936f-21be10fdbf29",
   "metadata": {},
   "outputs": [],
   "source": [
    "train_preds = logreg_rs_rocauc.best_estimator_['logreg'].predict(Xs_train)\n",
    "test_preds = logreg_rs_rocauc.best_estimator_['logreg'].predict(Xs_test)\n",
    "\n",
    "metrics.roc_auc_score(y_train, train_preds), metrics.roc_auc_score(y_test, test_preds)"
   ]
  },
  {
   "cell_type": "code",
   "execution_count": null,
   "id": "7f975d17-0d4e-40f4-af85-bd48f0d9be64",
   "metadata": {},
   "outputs": [],
   "source": [
    "weights = {key: value for key, value in zip(x_list, logreg_rs_rocauc.best_estimator_['logreg'].coef_[0])}\n",
    "weights = {k: v for k, v in sorted(weights.items(), key=lambda item: item[1], reverse = True)}"
   ]
  },
  {
   "cell_type": "code",
   "execution_count": null,
   "id": "7685e6c2-8fa6-40b0-a71b-9cdc26f2138b",
   "metadata": {
    "tags": []
   },
   "outputs": [],
   "source": [
    "weights"
   ]
  },
  {
   "cell_type": "code",
   "execution_count": null,
   "id": "a52a06e8-05a3-47bc-80a9-5de88baa5f28",
   "metadata": {},
   "outputs": [],
   "source": [
    "plot_confusion_matrix(logreg_rs_rocauc.best_estimator_['logreg'], Xs_train, y_train)"
   ]
  },
  {
   "cell_type": "markdown",
   "id": "d26f4276-470b-4863-b1f5-7d091aa50a4a",
   "metadata": {},
   "source": [
    "- Line logreg pca"
   ]
  },
  {
   "cell_type": "code",
   "execution_count": null,
   "id": "262789c4-e8ce-4bb5-b092-d17107e24edd",
   "metadata": {},
   "outputs": [],
   "source": [
    "logreg_pipe = LogisticRegression(random_state = 42, solver = 'liblinear', penalty = 'l1')\n",
    "\n",
    "logreg_params = {\n",
    "    'tol': uniform(0, .1),\n",
    "    'C': loguniform(0.0001, 100),\n",
    "    'class_weight': Categorical(['balanced', None]),\n",
    "    'max_iter': randint(1, 1000),\n",
    "    'l1_ratio': uniform(0, 1)\n",
    "}\n",
    "\n",
    "logreg_rs_line = RandomizedSearchCV(estimator = logreg_pipe,\n",
    "                     param_distributions = logreg_params,\n",
    "                     scoring = 'roc_auc',\n",
    "                     n_iter = 50,\n",
    "                     n_jobs = 8,\n",
    "                     cv = 5,\n",
    "                     refit = True,\n",
    "                     random_state=42)"
   ]
  },
  {
   "cell_type": "code",
   "execution_count": null,
   "id": "29cd8535-3ee0-4c36-9f07-e4bb0a1a466d",
   "metadata": {
    "tags": []
   },
   "outputs": [],
   "source": [
    "%%time\n",
    "logreg_rs_line.fit(line_Z_train, line_y_train)"
   ]
  },
  {
   "cell_type": "code",
   "execution_count": null,
   "id": "32178a3d-133a-46cd-bfcf-49968de52611",
   "metadata": {},
   "outputs": [],
   "source": [
    "train_preds = logreg_rs_line.best_estimator_.predict(line_Z_train)\n",
    "test_preds = logreg_rs_line.best_estimator_.predict(line_Z_test)\n",
    "\n",
    "metrics.roc_auc_score(line_y_train, train_preds), metrics.roc_auc_score(line_y_test, test_preds)"
   ]
  },
  {
   "cell_type": "markdown",
   "id": "fdf32525-c2e6-48c3-9239-53f199383159",
   "metadata": {},
   "source": [
    "- Line NN with PCA."
   ]
  },
  {
   "cell_type": "code",
   "execution_count": null,
   "id": "59baf372-3b40-4f6e-9801-489897d8099a",
   "metadata": {},
   "outputs": [],
   "source": [
    "line_pca = PCA(n_components = 10000, random_state = 42)\n",
    "line_Z_train = pca.fit_transform(line_Xs_train)\n",
    "line_Z_test = pca.transform(line_Xs_test)\n"
   ]
  },
  {
   "cell_type": "code",
   "execution_count": null,
   "id": "078ad5b9-1ab6-4597-99a6-68b330ff51bb",
   "metadata": {},
   "outputs": [],
   "source": [
    "line_Z = pca.transform(line_Xs)"
   ]
  },
  {
   "cell_type": "code",
   "execution_count": null,
   "id": "e4b4c000-41ad-4a65-9543-57c26ed5355c",
   "metadata": {
    "tags": []
   },
   "outputs": [],
   "source": [
    "%%time\n",
    "clear_session()\n",
    "line_model = Sequential()\n",
    "\n",
    "\n",
    "line_model.add(Dense(50, input_dim = line_Z_train.shape[1], activation = 'relu', kernel_regularizer = l2(.05)))\n",
    "line_model.add(Dropout(0.2))\n",
    "line_model.add(Dense(50, activation = 'relu', kernel_regularizer = l2(.05)))\n",
    "line_model.add(Dropout(0.2))\n",
    "line_model.add(Dense(50, activation = 'relu', kernel_regularizer = l2(.05)))\n",
    "line_model.add(Dropout(0.2))\n",
    "line_model.add(Dense(1, activation = 'sigmoid'))\n",
    "\n",
    "line_model.compile(loss = 'binary_crossentropy', optimizer = 'adam')\n",
    "\n",
    "line_history = line_model.fit(line_Z_train, line_y_train, validation_data = (line_Z_test, line_y_test), batch_size = 512, \n",
    "                   epochs = 15, verbose = 0)"
   ]
  },
  {
   "cell_type": "code",
   "execution_count": null,
   "id": "ede169b5-d78b-4304-8f5c-98c09405827e",
   "metadata": {},
   "outputs": [],
   "source": [
    "plt.plot(line_history.epoch, line_history.history['loss'], c='g');      # green - training loss # Loss\n",
    "plt.plot(line_history.epoch, line_history.history['val_loss'], c='b');  # blue - test loss # Val loss\n",
    "plt.ylim(0, 1)\n",
    "plt.show()"
   ]
  },
  {
   "cell_type": "markdown",
   "id": "7cdbb031-d5da-447e-86db-9457482ebd20",
   "metadata": {},
   "source": [
    "- Char NN with PCA."
   ]
  },
  {
   "cell_type": "code",
   "execution_count": null,
   "id": "825fba8e-b694-4582-be77-5b47297fb0b6",
   "metadata": {},
   "outputs": [],
   "source": [
    "pca = PCA(n_components = 1000, random_state = 42)\n",
    "char_Z_train = pca.fit_transform(char_Xs_train)\n",
    "char_Z_test = pca.transform(char_Xs_test)\n",
    "char_Z = pca.transform(char_Xs)"
   ]
  },
  {
   "cell_type": "code",
   "execution_count": null,
   "id": "69d99f45-eb09-445f-ba8a-33494ffaf499",
   "metadata": {
    "tags": []
   },
   "outputs": [],
   "source": [
    "%%time\n",
    "clear_session()\n",
    "model = Sequential()\n",
    "\n",
    "model.add(Dense(30, activation = 'relu', input_shape = (1000,)))\n",
    "model.add(Dense(30, activation = 'relu'))\n",
    "model.add(Dense(1, activation = 'sigmoid'))\n",
    "\n",
    "model.compile(loss = 'binary_crossentropy', optimizer = 'adam')\n",
    "\n",
    "history = model.fit(char_Z_train, char_y_train, validation_data = (char_Z_test, char_y_test), batch_size = 512, \n",
    "                   epochs = 20, verbose = 0)"
   ]
  },
  {
   "cell_type": "code",
   "execution_count": null,
   "id": "eab6b40b-b459-41e3-b7e5-6c022d9afff9",
   "metadata": {},
   "outputs": [],
   "source": [
    "plt.plot(history.epoch, history.history['loss'], c='g');      # green - training loss # Loss\n",
    "plt.plot(history.epoch, history.history['val_loss'], c='b');  # blue - test loss # Val loss"
   ]
  },
  {
   "cell_type": "markdown",
   "id": "1d1d3066-1734-438b-a5f2-69a9df6cf70d",
   "metadata": {},
   "source": [
    "- char_df predictions block"
   ]
  },
  {
   "cell_type": "code",
   "execution_count": null,
   "id": "3a55e639-18a8-483a-b682-7b067e9dac57",
   "metadata": {},
   "outputs": [],
   "source": [
    "char_pred_df = pd.DataFrame(index = char_df.index)"
   ]
  },
  {
   "cell_type": "code",
   "execution_count": null,
   "id": "2eec86e2-6b6b-4b9a-ab99-8d66a491bf88",
   "metadata": {},
   "outputs": [],
   "source": [
    "char_pred_df['prob'] = [val[1] for val in char_mnb_rs.best_estimator_.predict_proba(char_nonneg_X)]"
   ]
  },
  {
   "cell_type": "code",
   "execution_count": null,
   "id": "6d271fa9-844c-458d-82a7-991fe78e0214",
   "metadata": {},
   "outputs": [],
   "source": [
    "char_pred_df['pred'] = char_pred_df['prob'].map(lambda x: 1 if x >= .5 else 0)"
   ]
  },
  {
   "cell_type": "code",
   "execution_count": null,
   "id": "73bb57c3-4efe-4ed2-8c78-a04021b83307",
   "metadata": {},
   "outputs": [],
   "source": [
    "for play, name in index_without_number:\n",
    "    char_pred_df.loc[(play, name), 'character_dies'] = char_df.loc[(play, name), 'character_dies']"
   ]
  },
  {
   "cell_type": "code",
   "execution_count": null,
   "id": "8a0ca1f8-1f9e-44cb-8f4c-347fd080c5c1",
   "metadata": {},
   "outputs": [],
   "source": [
    "char_pred_df.sort_values(by = 'prob', inplace = True)"
   ]
  },
  {
   "cell_type": "code",
   "execution_count": null,
   "id": "21254c27-50ff-4058-8360-c295fea81770",
   "metadata": {
    "tags": []
   },
   "outputs": [],
   "source": [
    "plot_confusion_matrix(char_mnb_rs.best_estimator_, char_nonneg_X, char_y)"
   ]
  },
  {
   "cell_type": "code",
   "execution_count": null,
   "id": "08c84b3c-88f8-435e-8093-a7b9f0026c7d",
   "metadata": {},
   "outputs": [],
   "source": [
    "char_pred_df.loc[('titus-andronicus', colon), :]"
   ]
  },
  {
   "cell_type": "markdown",
   "id": "dcee9363-1a33-4d43-9f5a-c6db89081de4",
   "metadata": {},
   "source": [
    "- line_df predictions block"
   ]
  },
  {
   "cell_type": "code",
   "execution_count": null,
   "id": "4219d203-40f9-429b-932f-0cc72b4c3ebf",
   "metadata": {},
   "outputs": [],
   "source": [
    "line_pred_df = pd.DataFrame(index = line_df.index)"
   ]
  },
  {
   "cell_type": "code",
   "execution_count": null,
   "id": "3faee170-8ee8-40fb-9835-c6937c2429ed",
   "metadata": {},
   "outputs": [],
   "source": [
    "line_pred_df['predictions'] = logreg_rs_line.best_estimator_.predict_proba(line_Z)"
   ]
  },
  {
   "cell_type": "code",
   "execution_count": null,
   "id": "a40ad656-50fe-437a-a5a0-83dbfceb38b2",
   "metadata": {},
   "outputs": [],
   "source": [
    "index_without_number = set(zip(line_df.index.get_level_values(0), line_df.index.get_level_values(1)))"
   ]
  },
  {
   "cell_type": "code",
   "execution_count": null,
   "id": "12436930-6776-484f-86d2-3ca15ea37303",
   "metadata": {},
   "outputs": [],
   "source": [
    "line_pred_df_out = pd.DataFrame(columns = ['prediction_avg'], index = index_without_number)"
   ]
  },
  {
   "cell_type": "code",
   "execution_count": null,
   "id": "6586090e-b344-4e77-854e-ce55942adc0b",
   "metadata": {},
   "outputs": [],
   "source": [
    "index_without_number = set(zip(line_df.index.get_level_values(0), line_df.index.get_level_values(1)))\n",
    "\n",
    "for play, name in index_without_number:\n",
    "    character_slice = line_pred_df.loc[(play, name, colon)]\n",
    "\n",
    "    line_pred_df_out.loc[(play, name), 'prediction_avg'] = character_slice['predictions'].mean()"
   ]
  },
  {
   "cell_type": "code",
   "execution_count": null,
   "id": "3c4e0599-7fd1-4d39-b710-d28636963e43",
   "metadata": {},
   "outputs": [],
   "source": [
    "line_pred_df_out['prediction'] = line_pred_df_out['prediction_avg'].map(lambda x: 1 if x >= .5 else 0)"
   ]
  },
  {
   "cell_type": "code",
   "execution_count": null,
   "id": "6209e574-fe88-4453-8686-8d6cedbe3f3f",
   "metadata": {},
   "outputs": [],
   "source": [
    "line_pred_df_out['character_dies'] = char_df['character_dies']"
   ]
  },
  {
   "cell_type": "code",
   "execution_count": null,
   "id": "52dec38d-acfc-4f2c-824a-58bab43003b7",
   "metadata": {},
   "outputs": [],
   "source": [
    "line_pred_df_out.sort_values(by = 'prediction_avg', inplace = True)"
   ]
  },
  {
   "cell_type": "code",
   "execution_count": null,
   "id": "a33a51d4-79af-42af-9e69-df750645cd56",
   "metadata": {
    "jupyter": {
     "source_hidden": true
    },
    "tags": []
   },
   "outputs": [],
   "source": [
    "plot_confusion_matrix(logreg_rs_line.best_estimator_, line_Z, line_y)"
   ]
  },
  {
   "cell_type": "code",
   "execution_count": null,
   "id": "afceff61-c467-492d-9880-75ab1b87b7fb",
   "metadata": {},
   "outputs": [],
   "source": [
    "sns.regplot(x='prediction_avg', y='character_dies', data=line_pred_df_out.astype(float), logistic=True)"
   ]
  },
  {
   "cell_type": "markdown",
   "id": "d113b6ac-71a3-494d-b3e6-2be4cc966f57",
   "metadata": {},
   "source": [
    "- line_df predictions block"
   ]
  },
  {
   "cell_type": "code",
   "execution_count": null,
   "id": "f1e25e46-a453-4ed2-8ec6-4190ce936302",
   "metadata": {},
   "outputs": [],
   "source": [
    "line_pred_df = pd.DataFrame(index = line_df.index)"
   ]
  },
  {
   "cell_type": "code",
   "execution_count": null,
   "id": "abc06f2b-53ad-4218-9e79-48f0b71f3276",
   "metadata": {},
   "outputs": [],
   "source": [
    "line_pred_df['predictions'] = logreg_rs_line.best_estimator_.predict_proba(line_Z)"
   ]
  },
  {
   "cell_type": "code",
   "execution_count": null,
   "id": "6922c6c0-299d-4521-8a42-b10cd9d0624b",
   "metadata": {},
   "outputs": [],
   "source": [
    "index_without_number = set(zip(line_df.index.get_level_values(0), line_df.index.get_level_values(1)))"
   ]
  },
  {
   "cell_type": "code",
   "execution_count": null,
   "id": "16c03173-106f-4e9d-9fbd-c22ff1c8eeb9",
   "metadata": {},
   "outputs": [],
   "source": [
    "line_pred_df_out = pd.DataFrame(columns = ['prediction_avg'], index = index_without_number)"
   ]
  },
  {
   "cell_type": "code",
   "execution_count": null,
   "id": "b36e4add-6336-4142-b45e-77b49c53751a",
   "metadata": {},
   "outputs": [],
   "source": [
    "index_without_number = set(zip(line_df.index.get_level_values(0), line_df.index.get_level_values(1)))\n",
    "\n",
    "for play, name in index_without_number:\n",
    "    character_slice = line_pred_df.loc[(play, name, colon)]\n",
    "\n",
    "    line_pred_df_out.loc[(play, name), 'prediction_avg'] = character_slice['predictions'].mean()"
   ]
  },
  {
   "cell_type": "code",
   "execution_count": null,
   "id": "c6e32fad-85b5-4d69-b5f5-3fca7ad0c692",
   "metadata": {},
   "outputs": [],
   "source": [
    "line_pred_df_out['prediction'] = line_pred_df_out['prediction_avg'].map(lambda x: 1 if x >= .5 else 0)"
   ]
  },
  {
   "cell_type": "code",
   "execution_count": null,
   "id": "bc17e7b8-e505-40b4-a708-7ee3d36a5f76",
   "metadata": {},
   "outputs": [],
   "source": [
    "line_pred_df_out['character_dies'] = char_df['character_dies']"
   ]
  },
  {
   "cell_type": "code",
   "execution_count": null,
   "id": "6c607ebb-950f-4a6a-b7bf-d2da68beea59",
   "metadata": {},
   "outputs": [],
   "source": [
    "line_pred_df_out.sort_values(by = 'prediction_avg', inplace = True)"
   ]
  },
  {
   "cell_type": "code",
   "execution_count": null,
   "id": "0ebd035e-5679-49e2-b482-f8361fec441f",
   "metadata": {
    "jupyter": {
     "source_hidden": true
    },
    "tags": []
   },
   "outputs": [],
   "source": [
    "plot_confusion_matrix(logreg_rs_line.best_estimator_, line_Z, line_y)"
   ]
  },
  {
   "cell_type": "code",
   "execution_count": null,
   "id": "ed7ed72d-e27e-46d7-a67d-809589e40fe0",
   "metadata": {},
   "outputs": [],
   "source": [
    "sns.regplot(x='prediction_avg', y='character_dies', data=line_pred_df_out.astype(float), logistic=True)"
   ]
  }
 ],
 "metadata": {
  "kernelspec": {
   "display_name": "Python 3",
   "language": "python",
   "name": "python3"
  },
  "language_info": {
   "codemirror_mode": {
    "name": "ipython",
    "version": 3
   },
   "file_extension": ".py",
   "mimetype": "text/x-python",
   "name": "python",
   "nbconvert_exporter": "python",
   "pygments_lexer": "ipython3",
   "version": "3.8.8"
  }
 },
 "nbformat": 4,
 "nbformat_minor": 5
}
