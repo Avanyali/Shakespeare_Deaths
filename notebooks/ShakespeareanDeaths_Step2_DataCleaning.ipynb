{
 "cells": [
  {
   "cell_type": "code",
   "execution_count": 1,
   "id": "13e31a6d",
   "metadata": {},
   "outputs": [],
   "source": [
    "import pandas as pd\n",
    "import numpy as np\n",
    "import matplotlib.pyplot as plt\n",
    "import seaborn as sns\n",
    "\n",
    "import re"
   ]
  },
  {
   "cell_type": "markdown",
   "id": "14da4915",
   "metadata": {},
   "source": [
    "***Step 2: Data Cleaning***"
   ]
  },
  {
   "cell_type": "code",
   "execution_count": 2,
   "id": "37ed0b57",
   "metadata": {
    "tags": []
   },
   "outputs": [],
   "source": [
    "line_df = pd.read_csv('../data/csv/ShakespeareCharacterLines.csv')"
   ]
  },
  {
   "cell_type": "code",
   "execution_count": 3,
   "id": "7953c4f2",
   "metadata": {},
   "outputs": [
    {
     "data": {
      "text/html": [
       "<div>\n",
       "<style scoped>\n",
       "    .dataframe tbody tr th:only-of-type {\n",
       "        vertical-align: middle;\n",
       "    }\n",
       "\n",
       "    .dataframe tbody tr th {\n",
       "        vertical-align: top;\n",
       "    }\n",
       "\n",
       "    .dataframe thead th {\n",
       "        text-align: right;\n",
       "    }\n",
       "</style>\n",
       "<table border=\"1\" class=\"dataframe\">\n",
       "  <thead>\n",
       "    <tr style=\"text-align: right;\">\n",
       "      <th></th>\n",
       "      <th>play</th>\n",
       "      <th>name</th>\n",
       "      <th>line</th>\n",
       "      <th>character_line_number</th>\n",
       "      <th>play_line_number</th>\n",
       "    </tr>\n",
       "  </thead>\n",
       "  <tbody>\n",
       "    <tr>\n",
       "      <th>0</th>\n",
       "      <td>a-midsummer-nights-dream</td>\n",
       "      <td>THESEUS</td>\n",
       "      <td>Now, fair Hippolyta, our nuptial hour</td>\n",
       "      <td>1</td>\n",
       "      <td>1</td>\n",
       "    </tr>\n",
       "    <tr>\n",
       "      <th>1</th>\n",
       "      <td>a-midsummer-nights-dream</td>\n",
       "      <td>THESEUS</td>\n",
       "      <td>Draws on apace. Four happy days bring in</td>\n",
       "      <td>2</td>\n",
       "      <td>2</td>\n",
       "    </tr>\n",
       "    <tr>\n",
       "      <th>2</th>\n",
       "      <td>a-midsummer-nights-dream</td>\n",
       "      <td>THESEUS</td>\n",
       "      <td>Another moon. But, O, methinks how slow</td>\n",
       "      <td>3</td>\n",
       "      <td>3</td>\n",
       "    </tr>\n",
       "    <tr>\n",
       "      <th>3</th>\n",
       "      <td>a-midsummer-nights-dream</td>\n",
       "      <td>THESEUS</td>\n",
       "      <td>This old moon wanes! She lingers my desires</td>\n",
       "      <td>4</td>\n",
       "      <td>4</td>\n",
       "    </tr>\n",
       "    <tr>\n",
       "      <th>4</th>\n",
       "      <td>a-midsummer-nights-dream</td>\n",
       "      <td>THESEUS</td>\n",
       "      <td>Like to a stepdame or a dowager</td>\n",
       "      <td>5</td>\n",
       "      <td>5</td>\n",
       "    </tr>\n",
       "  </tbody>\n",
       "</table>\n",
       "</div>"
      ],
      "text/plain": [
       "                       play     name  \\\n",
       "0  a-midsummer-nights-dream  THESEUS   \n",
       "1  a-midsummer-nights-dream  THESEUS   \n",
       "2  a-midsummer-nights-dream  THESEUS   \n",
       "3  a-midsummer-nights-dream  THESEUS   \n",
       "4  a-midsummer-nights-dream  THESEUS   \n",
       "\n",
       "                                          line  character_line_number  \\\n",
       "0        Now, fair Hippolyta, our nuptial hour                      1   \n",
       "1     Draws on apace. Four happy days bring in                      2   \n",
       "2      Another moon. But, O, methinks how slow                      3   \n",
       "3  This old moon wanes! She lingers my desires                      4   \n",
       "4              Like to a stepdame or a dowager                      5   \n",
       "\n",
       "   play_line_number  \n",
       "0                 1  \n",
       "1                 2  \n",
       "2                 3  \n",
       "3                 4  \n",
       "4                 5  "
      ]
     },
     "execution_count": 3,
     "metadata": {},
     "output_type": "execute_result"
    }
   ],
   "source": [
    "line_df.head()"
   ]
  },
  {
   "cell_type": "code",
   "execution_count": 4,
   "id": "1fb4b8a6",
   "metadata": {},
   "outputs": [
    {
     "data": {
      "text/plain": [
       "(120905, 5)"
      ]
     },
     "execution_count": 4,
     "metadata": {},
     "output_type": "execute_result"
    }
   ],
   "source": [
    "line_df.shape"
   ]
  },
  {
   "cell_type": "markdown",
   "id": "cd8483c7",
   "metadata": {},
   "source": [
    "- Check for improperly processed lines."
   ]
  },
  {
   "cell_type": "code",
   "execution_count": 5,
   "id": "f2320ed0",
   "metadata": {},
   "outputs": [],
   "source": [
    "line_df['line_length'] = line_df['line']\n",
    "line_df['line_length'] = line_df['line_length'].map(len)"
   ]
  },
  {
   "cell_type": "code",
   "execution_count": 18,
   "id": "d6c679cb",
   "metadata": {},
   "outputs": [
    {
     "data": {
      "text/html": [
       "<div>\n",
       "<style scoped>\n",
       "    .dataframe tbody tr th:only-of-type {\n",
       "        vertical-align: middle;\n",
       "    }\n",
       "\n",
       "    .dataframe tbody tr th {\n",
       "        vertical-align: top;\n",
       "    }\n",
       "\n",
       "    .dataframe thead th {\n",
       "        text-align: right;\n",
       "    }\n",
       "</style>\n",
       "<table border=\"1\" class=\"dataframe\">\n",
       "  <thead>\n",
       "    <tr style=\"text-align: right;\">\n",
       "      <th></th>\n",
       "      <th></th>\n",
       "      <th></th>\n",
       "      <th>line</th>\n",
       "      <th>play_line_number</th>\n",
       "      <th>line_length</th>\n",
       "    </tr>\n",
       "    <tr>\n",
       "      <th>play</th>\n",
       "      <th>name</th>\n",
       "      <th>character_line_number</th>\n",
       "      <th></th>\n",
       "      <th></th>\n",
       "      <th></th>\n",
       "    </tr>\n",
       "  </thead>\n",
       "  <tbody>\n",
       "    <tr>\n",
       "      <th>a-midsummer-nights-dream</th>\n",
       "      <th>FLUTE</th>\n",
       "      <th>12</th>\n",
       "      <td>O!</td>\n",
       "      <td>943</td>\n",
       "      <td>2</td>\n",
       "    </tr>\n",
       "    <tr>\n",
       "      <th>alls-well-that-ends-well</th>\n",
       "      <th>PAROLLES</th>\n",
       "      <th>262</th>\n",
       "      <td>O!</td>\n",
       "      <td>2055</td>\n",
       "      <td>2</td>\n",
       "    </tr>\n",
       "    <tr>\n",
       "      <th>antony-and-cleopatra</th>\n",
       "      <th>CLEOPATRA</th>\n",
       "      <th>359</th>\n",
       "      <td>O!</td>\n",
       "      <td>2347</td>\n",
       "      <td>2</td>\n",
       "    </tr>\n",
       "    <tr>\n",
       "      <th rowspan=\"2\" valign=\"top\">coriolanus</th>\n",
       "      <th>CORIOLANUS</th>\n",
       "      <th>21</th>\n",
       "      <td>O,</td>\n",
       "      <td>1112</td>\n",
       "      <td>2</td>\n",
       "    </tr>\n",
       "    <tr>\n",
       "      <th>VOLUMNIA</th>\n",
       "      <th>284</th>\n",
       "      <td>us</td>\n",
       "      <td>3718</td>\n",
       "      <td>2</td>\n",
       "    </tr>\n",
       "    <tr>\n",
       "      <th>cymbeline</th>\n",
       "      <th>IMOGEN</th>\n",
       "      <th>1</th>\n",
       "      <td>O,</td>\n",
       "      <td>99</td>\n",
       "      <td>2</td>\n",
       "    </tr>\n",
       "    <tr>\n",
       "      <th>hamlet</th>\n",
       "      <th>HAMLET</th>\n",
       "      <th>1380</th>\n",
       "      <td>us</td>\n",
       "      <td>3870</td>\n",
       "      <td>2</td>\n",
       "    </tr>\n",
       "    <tr>\n",
       "      <th>king-john</th>\n",
       "      <th>BASTARD</th>\n",
       "      <th>211</th>\n",
       "      <td>be</td>\n",
       "      <td>852</td>\n",
       "      <td>2</td>\n",
       "    </tr>\n",
       "    <tr>\n",
       "      <th>macbeth</th>\n",
       "      <th>BANQUO</th>\n",
       "      <th>6</th>\n",
       "      <td>me</td>\n",
       "      <td>144</td>\n",
       "      <td>2</td>\n",
       "    </tr>\n",
       "    <tr>\n",
       "      <th>much-ado-about-nothing</th>\n",
       "      <th>HERO</th>\n",
       "      <th>77</th>\n",
       "      <td>me</td>\n",
       "      <td>1245</td>\n",
       "      <td>2</td>\n",
       "    </tr>\n",
       "    <tr>\n",
       "      <th rowspan=\"2\" valign=\"top\">othello</th>\n",
       "      <th>BRABANTIO</th>\n",
       "      <th>33</th>\n",
       "      <td>me</td>\n",
       "      <td>187</td>\n",
       "      <td>2</td>\n",
       "    </tr>\n",
       "    <tr>\n",
       "      <th>EMILIA</th>\n",
       "      <th>249</th>\n",
       "      <td>of</td>\n",
       "      <td>3665</td>\n",
       "      <td>2</td>\n",
       "    </tr>\n",
       "    <tr>\n",
       "      <th>the-taming-of-the-shrew</th>\n",
       "      <th>PETER</th>\n",
       "      <th>1</th>\n",
       "      <td>I.</td>\n",
       "      <td>1638</td>\n",
       "      <td>2</td>\n",
       "    </tr>\n",
       "    <tr>\n",
       "      <th>the-tempest</th>\n",
       "      <th>ANTONIO</th>\n",
       "      <th>68</th>\n",
       "      <td>O,</td>\n",
       "      <td>969</td>\n",
       "      <td>2</td>\n",
       "    </tr>\n",
       "  </tbody>\n",
       "</table>\n",
       "</div>"
      ],
      "text/plain": [
       "                                                          line  \\\n",
       "play                     name       character_line_number        \n",
       "a-midsummer-nights-dream FLUTE      12                      O!   \n",
       "alls-well-that-ends-well PAROLLES   262                     O!   \n",
       "antony-and-cleopatra     CLEOPATRA  359                     O!   \n",
       "coriolanus               CORIOLANUS 21                      O,   \n",
       "                         VOLUMNIA   284                     us   \n",
       "cymbeline                IMOGEN     1                       O,   \n",
       "hamlet                   HAMLET     1380                    us   \n",
       "king-john                BASTARD    211                     be   \n",
       "macbeth                  BANQUO     6                       me   \n",
       "much-ado-about-nothing   HERO       77                      me   \n",
       "othello                  BRABANTIO  33                      me   \n",
       "                         EMILIA     249                     of   \n",
       "the-taming-of-the-shrew  PETER      1                       I.   \n",
       "the-tempest              ANTONIO    68                      O,   \n",
       "\n",
       "                                                           play_line_number  \\\n",
       "play                     name       character_line_number                     \n",
       "a-midsummer-nights-dream FLUTE      12                                  943   \n",
       "alls-well-that-ends-well PAROLLES   262                                2055   \n",
       "antony-and-cleopatra     CLEOPATRA  359                                2347   \n",
       "coriolanus               CORIOLANUS 21                                 1112   \n",
       "                         VOLUMNIA   284                                3718   \n",
       "cymbeline                IMOGEN     1                                    99   \n",
       "hamlet                   HAMLET     1380                               3870   \n",
       "king-john                BASTARD    211                                 852   \n",
       "macbeth                  BANQUO     6                                   144   \n",
       "much-ado-about-nothing   HERO       77                                 1245   \n",
       "othello                  BRABANTIO  33                                  187   \n",
       "                         EMILIA     249                                3665   \n",
       "the-taming-of-the-shrew  PETER      1                                  1638   \n",
       "the-tempest              ANTONIO    68                                  969   \n",
       "\n",
       "                                                           line_length  \n",
       "play                     name       character_line_number               \n",
       "a-midsummer-nights-dream FLUTE      12                               2  \n",
       "alls-well-that-ends-well PAROLLES   262                              2  \n",
       "antony-and-cleopatra     CLEOPATRA  359                              2  \n",
       "coriolanus               CORIOLANUS 21                               2  \n",
       "                         VOLUMNIA   284                              2  \n",
       "cymbeline                IMOGEN     1                                2  \n",
       "hamlet                   HAMLET     1380                             2  \n",
       "king-john                BASTARD    211                              2  \n",
       "macbeth                  BANQUO     6                                2  \n",
       "much-ado-about-nothing   HERO       77                               2  \n",
       "othello                  BRABANTIO  33                               2  \n",
       "                         EMILIA     249                              2  \n",
       "the-taming-of-the-shrew  PETER      1                                2  \n",
       "the-tempest              ANTONIO    68                               2  "
      ]
     },
     "execution_count": 18,
     "metadata": {},
     "output_type": "execute_result"
    }
   ],
   "source": [
    "line_df[line_df['line_length'] <3]"
   ]
  },
  {
   "cell_type": "code",
   "execution_count": 7,
   "id": "19b74c45",
   "metadata": {},
   "outputs": [
    {
     "data": {
      "text/plain": [
       "[]"
      ]
     },
     "execution_count": 7,
     "metadata": {},
     "output_type": "execute_result"
    }
   ],
   "source": [
    "[name for name in list(line_df['name'].to_dict().values()) if ',' in name]"
   ]
  },
  {
   "cell_type": "code",
   "execution_count": 8,
   "id": "5e7b8415",
   "metadata": {},
   "outputs": [
    {
     "data": {
      "text/plain": [
       "[]"
      ]
     },
     "execution_count": 8,
     "metadata": {},
     "output_type": "execute_result"
    }
   ],
   "source": [
    "[name for name in list(line_df['name'].to_dict().values()) if 'and' in name]"
   ]
  },
  {
   "cell_type": "code",
   "execution_count": 9,
   "id": "2231536a",
   "metadata": {},
   "outputs": [
    {
     "data": {
      "text/plain": [
       "[]"
      ]
     },
     "execution_count": 9,
     "metadata": {},
     "output_type": "execute_result"
    }
   ],
   "source": [
    "[name for name in list(line_df['name'].to_dict().values()) if '\\n' in name]"
   ]
  },
  {
   "cell_type": "markdown",
   "id": "77e33ca3",
   "metadata": {},
   "source": [
    "- Remove all preceding commas, spaces, newlines and tabs, all inline newlines and tabs, and all ending newlines, tabs, and spaces."
   ]
  },
  {
   "cell_type": "code",
   "execution_count": 10,
   "id": "30617688",
   "metadata": {},
   "outputs": [],
   "source": [
    "def fix_tabs_newlines(string):\n",
    "    #Turn multiple whitespace between two characters to a single whitespace.\n",
    "    out = re.sub('(?<=\\S)\\s+(?=\\S)', ' ', string)\n",
    "    #Remove preceding whitespace\n",
    "    out = re.sub('(?<=\\A)\\s+', '', out)\n",
    "    #Remove ending whitespace\n",
    "    out = re.sub('\\s+(?=\\Z)', '', out)\n",
    "    #Remove preceding ',' plus whitespace.\n",
    "    out = re.sub('\\A,\\s+(?=\\S)', ' ', out)\n",
    "    return out"
   ]
  },
  {
   "cell_type": "code",
   "execution_count": 11,
   "id": "8e484e46",
   "metadata": {},
   "outputs": [],
   "source": [
    "line_df['line'] = line_df['line'].map(fix_tabs_newlines)"
   ]
  },
  {
   "cell_type": "markdown",
   "id": "2931b38b",
   "metadata": {},
   "source": [
    "- Scrub stage directions from dialogue."
   ]
  },
  {
   "cell_type": "code",
   "execution_count": 12,
   "id": "ff882f8c",
   "metadata": {},
   "outputs": [],
   "source": [
    "line_df['line'] = line_df['line'].map(lambda x: re.sub('__stage_direction__', ' ', x))"
   ]
  },
  {
   "cell_type": "markdown",
   "id": "a01c3e61",
   "metadata": {},
   "source": [
    "- Check for lines that are only stage directions, validating against the script."
   ]
  },
  {
   "cell_type": "code",
   "execution_count": 13,
   "id": "50f8450d",
   "metadata": {},
   "outputs": [],
   "source": [
    "line_df['line_length'] = line_df['line']\n",
    "line_df['line_length'] = line_df['line_length'].map(len)"
   ]
  },
  {
   "cell_type": "code",
   "execution_count": 14,
   "id": "2f35963c",
   "metadata": {},
   "outputs": [],
   "source": [
    "empty_indices = line_df[line_df['line_length'] < 2].index"
   ]
  },
  {
   "cell_type": "markdown",
   "id": "b054d41e",
   "metadata": {},
   "source": [
    "- Drop empty line."
   ]
  },
  {
   "cell_type": "code",
   "execution_count": 15,
   "id": "2a627ca7-6ac1-4218-9160-be803840915d",
   "metadata": {},
   "outputs": [],
   "source": [
    "if empty_indices.size > 0:\n",
    "    line_df.drop(index = empty_indices, inplace = True)"
   ]
  },
  {
   "cell_type": "markdown",
   "id": "18a8ab64-fbd3-4397-bf21-7931efca1288",
   "metadata": {},
   "source": [
    "- Set multiindex."
   ]
  },
  {
   "cell_type": "code",
   "execution_count": 16,
   "id": "5634df9b-2357-455a-ac64-8205e7f40012",
   "metadata": {},
   "outputs": [],
   "source": [
    "line_df.set_index([\"play\", \"name\", \"character_line_number\"], inplace = True)"
   ]
  },
  {
   "cell_type": "markdown",
   "id": "01aec9c3-6db1-4ff2-8da4-6159c657c4a8",
   "metadata": {},
   "source": [
    "- Export data."
   ]
  },
  {
   "cell_type": "code",
   "execution_count": 17,
   "id": "1163cce1-6fcf-4094-81fe-3b0ba37173e1",
   "metadata": {},
   "outputs": [],
   "source": [
    "line_df.to_csv('../data/csv/ShakespeareCharacterLines_cleaned.csv', index_label = ['play', 'name', 'line_number'])"
   ]
  },
  {
   "cell_type": "markdown",
   "id": "3c8fc097-ef36-43f5-9f7a-3d4f13710f7d",
   "metadata": {},
   "source": [
    "- On to Step 3 ->"
   ]
  }
 ],
 "metadata": {
  "kernelspec": {
   "display_name": "Python 3",
   "language": "python",
   "name": "python3"
  },
  "language_info": {
   "codemirror_mode": {
    "name": "ipython",
    "version": 3
   },
   "file_extension": ".py",
   "mimetype": "text/x-python",
   "name": "python",
   "nbconvert_exporter": "python",
   "pygments_lexer": "ipython3",
   "version": "3.8.8"
  }
 },
 "nbformat": 4,
 "nbformat_minor": 5
}
